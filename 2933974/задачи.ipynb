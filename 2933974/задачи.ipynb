{
 "cells": [
  {
   "cell_type": "markdown",
   "metadata": {},
   "source": [
    "# Наука о данных\n",
    "\n",
    "*И. В. Щуров, НИУ ВШЭ*\n",
    "\n",
    "*Авторы задач в подборке: А. Зотов, И. Щуров.*\n",
    "\n",
    "\n",
    "На [странице курса](http://math-info.hse.ru/s20/i) находятся дополнительные материалы."
   ]
  },
  {
   "cell_type": "markdown",
   "metadata": {},
   "source": [
    "## Домашнее задание №6\n",
    "\n",
    "За разные задачи можно получить разное число баллов. Если не указано обратное, задача весит 1 балл. Максимум за ДЗ можно набрать **20 баллов**. Нужно сделать всё. :)\n",
    "\n",
    "Чтобы сдать ДЗ, его надо загрузить в [nbgr-x](http://python.math-hse.info) в виде `ipynb`-файла. Получить `ipynb`-файл можно, выбрав в Jupyter пункт меню *File → Download as... → IPython Notebook (.ipynb)*."
   ]
  },
  {
   "cell_type": "markdown",
   "metadata": {},
   "source": [
    "Во всех задачах словом «датафрейм» обозначается объект типа `pd.DataFrame`. Везде, где не оговорено обратное, запрещается пользоваться циклами и list comprehensions!"
   ]
  },
  {
   "cell_type": "markdown",
   "metadata": {},
   "source": [
    "## Часть 1. Ещё немножко numpy"
   ]
  },
  {
   "cell_type": "code",
   "execution_count": 1,
   "metadata": {},
   "outputs": [],
   "source": [
    "import numpy as np"
   ]
  },
  {
   "cell_type": "markdown",
   "metadata": {},
   "source": [
    "### Задача 1 (2 балла)\n",
    "В задачах машинного обучения часто требуется нормализовать данные перед тем, как их использовать. Пусть в переменной `X` находится двумерный `np.array`, по строкам которого записаны разные объекты, а по столбцам — признаки. Вам необходимо написать функцию `normalize(X)`, принимающую на вход массив `X` и нормализующий все переменные таким образом, чтобы их среднее равнялось 0, а стандартное отклонение 1. Иными словами, для каждого столбца необходимо из всех элементов вычесть среднее по этому столбцу и результат разделить на стандартное отклонение по этому столбцу. Более формально: если $X=(x_{ij})$ — наша матрица, $x_{ij}$ — элемент, который стоит в её $i$-й строке и $j$-м столбце, и $x_{\\cdot j}$ — $j$-й столбец, то в новой матрице на $i$-й строке в $j$-м столбце будет стоять элемент\n",
    "\n",
    "$$\\widehat{x}_{ij}=\\frac{x_{ij}-\\overline{x_{\\cdot j}}}{\\sigma_{x_{\\cdot j}}},$$\n",
    "где $\\overline{x_{\\cdot j}}$ — выборочное среднее (среднее арифметическое) всех элементов $j$-го столбца, $\\sigma_{x_{\\cdot j}}$ — стандартное отклонение всех элементов $j$-го столбца.\n",
    "\n",
    "**Подсказка.** Вычислить среднее можно с помощью метода `.mean()`, стандартное отклонение — с помощью `.std()`. Обе функции принимают на вход параметр `axis`, с помощью которого можно применять их к строкам или столбцам двумерного массива. Использовать циклы, как обычно, запрещено. Задачу можно решить в одну строчку."
   ]
  },
  {
   "cell_type": "code",
   "execution_count": 2,
   "metadata": {
    "deletable": false,
    "nbgrader": {
     "checksum": "813e376111853a69fc9bd35a4ab13665",
     "grade": false,
     "grade_id": "normalize",
     "locked": false,
     "solution": true
    }
   },
   "outputs": [],
   "source": [
    "def normalize(X):\n",
    "    return (X - X.mean(axis=0)) / X.std(axis=0)"
   ]
  },
  {
   "cell_type": "code",
   "execution_count": 3,
   "metadata": {
    "deletable": false,
    "nbgrader": {
     "checksum": "e664151d1aea55b281130e36bdffa338",
     "grade": true,
     "grade_id": "normalize_t",
     "locked": true,
     "points": 2,
     "solution": false
    }
   },
   "outputs": [],
   "source": [
    "assert np.isclose(normalize(np.array([[ 1.00766597, -1.1201796 ,  2.47274732, -0.33619288,  1.50555214],\n",
    "       [ 1.48986823,  0.80894409,  0.55980545,  0.67813423, -0.3187493 ]])), np.array([[-1., -1.,  1., -1.,  1.],\n",
    "       [ 1.,  1., -1.,  1., -1.]])).all()\n",
    "assert np.isclose(normalize(np.array([[-0.98607026],\n",
    "       [ 1.93312384],\n",
    "       [-0.99905497],\n",
    "       [-0.95934573],\n",
    "       [ 0.05295053]])), np.array([[-0.69959273],\n",
    "       [ 1.87124093],\n",
    "       [-0.71102792],\n",
    "       [-0.67605736],\n",
    "       [ 0.21543708]])).all()\n",
    "assert np.isclose(normalize(np.array([[-1.63419424],\n",
    "       [ 0.39451389],\n",
    "       [-0.11346483],\n",
    "       [ 0.56117231],\n",
    "       [ 0.35460207],\n",
    "       [ 1.50836012],\n",
    "       [ 0.5176692 ],\n",
    "       [-1.20605276],\n",
    "       [ 0.7904588 ],\n",
    "       [ 1.28349441]])), np.array([[-1.9874883 ],\n",
    "       [ 0.15738144],\n",
    "       [-0.37968359],\n",
    "       [ 0.33358254],\n",
    "       [ 0.11518431],\n",
    "       [ 1.33500529],\n",
    "       [ 0.28758849],\n",
    "       [-1.53483191],\n",
    "       [ 0.57599773],\n",
    "       [ 1.09726401]])).all()\n",
    "assert np.isclose(normalize(np.array([[-1.31158329,  2.5954087 , -1.01662736, -0.27565263,  0.52639556,\n",
    "         0.58218805, -0.35961103,  0.31096071,  0.52193677, -0.41754881],\n",
    "       [-0.19218836, -0.03416295,  0.80408723, -1.18733572,  0.14422448,\n",
    "         0.6091103 ,  0.67617586,  0.17732224,  0.99660189, -0.07798097]])), np.array([[-1.,  1., -1.,  1.,  1., -1., -1.,  1., -1., -1.],\n",
    "       [ 1., -1.,  1., -1., -1.,  1.,  1., -1.,  1.,  1.]])).all()\n",
    "assert np.isclose(normalize(np.array([[-0.28368534, -0.90928588, -1.35180963],\n",
    "       [ 1.30199557,  1.32081835,  1.11951334]])), np.array([[-1., -1., -1.],\n",
    "       [ 1.,  1.,  1.]])).all()\n",
    "assert np.isclose(normalize(np.array([[-0.34089722,  0.93727935],\n",
    "       [ 0.14410815, -0.96321317],\n",
    "       [-1.98355493, -0.0310602 ]])), np.array([[ 0.42383229,  1.23244371],\n",
    "       [ 0.95653353, -1.21689804],\n",
    "       [-1.38036582, -0.01554567]])).all()\n",
    "assert np.isclose(normalize(np.array([[ 1.53033913,  0.05456373,  0.22504087, -1.16687133, -0.23619502],\n",
    "       [-0.81477156,  1.96405223, -1.5506048 , -2.08082958, -0.23459537],\n",
    "       [-0.80961303, -0.55950949, -1.07953561,  0.571387  , -1.03341414],\n",
    "       [ 0.10526012, -2.06172783, -1.1661957 , -1.00297227, -1.02432731],\n",
    "       [ 0.04661   , -0.21104596, -0.84339233,  0.22806353, -0.34655384]])), np.array([[ 1.77181211,  0.16828692,  1.84979571, -0.49193269,  0.90886342],\n",
    "       [-0.96400966,  1.64710001, -1.11468608, -1.43524085,  0.91315434],\n",
    "       [-0.95799169, -0.30728521, -0.32822509,  1.30214625, -1.22961355],\n",
    "       [ 0.10930543, -1.47068586, -0.47290614, -0.32277035, -1.20523884],\n",
    "       [ 0.04088381, -0.03741586,  0.0660216 ,  0.94779764,  0.61283463]])).all()"
   ]
  },
  {
   "cell_type": "markdown",
   "metadata": {},
   "source": [
    "### Задача 2 (3 балла)\n",
    "В двумерном массиве `scores` записаны баллы нескольких студентов, строка — студент, столбец — домашнее задание. Имеется также массив `max_scores`, который содержит столько же элементов, сколько столбцов в `scores`: в нём написано максимальное число баллов, которые можно было получить за соответствующее домашнее задание. Теоретически, студент мог нарешать задач на большее количество баллов, но те баллы, которые набраны сверх максимального, в зачёт не идут. Оценка за домашнюю работу является вещественным числом от 0 до 10 и определяется как *набранные баллы / максимальное число баллов × 10*. Например, если максимальное число баллов за какую-то домашнюю работу равно 8, а студент набрал за неё 4 балла, то есть оценка равна *4/8×10=5*. А если бы он набрал 12 баллов, то в зачёт бы пошло 8 баллов и оценкой было бы число 10. Оценка по курсу вычисляется как среднее арифметическое от всех оценок за домашние работы, округлённое до целого числа с помощью функциюю `np.round`. Написать функцию `get_grades(scores, max_scores)`, возвращающую массив итоговых оценок. Запрещено использовать циклы и `if`'ы.\n",
    "\n",
    "**Подсказка.** Вам пригодится функция `np.minimum`."
   ]
  },
  {
   "cell_type": "code",
   "execution_count": 4,
   "metadata": {
    "deletable": false,
    "nbgrader": {
     "checksum": "0bded8628b41bf2e6c10ed45f98676b7",
     "grade": false,
     "grade_id": "get_grades",
     "locked": false,
     "solution": true
    }
   },
   "outputs": [],
   "source": [
    "def get_grades(scores, max_scores):\n",
    "    return np.round((np.minimum(scores, max_scores) / max_scores * 10).mean(axis=1))"
   ]
  },
  {
   "cell_type": "code",
   "execution_count": 5,
   "metadata": {
    "deletable": false,
    "nbgrader": {
     "checksum": "460d0b1eef02cfdaed03166f99371ac6",
     "grade": true,
     "grade_id": "get_grades_t",
     "locked": true,
     "points": 3,
     "solution": false
    }
   },
   "outputs": [],
   "source": [
    "assert np.isclose(get_grades(np.array([[1, 2],\n",
    "       [3, 4],\n",
    "       [5, 6]]), np.array([1, 1])), np.array([ 10.,  10.,  10.])).all()\n",
    "assert np.isclose(get_grades(np.array([[1, 2],\n",
    "       [3, 4],\n",
    "       [5, 6]]), np.array([1, 2])), np.array([ 10.,  10.,  10.])).all()\n",
    "assert np.isclose(get_grades(np.array([[1, 2],\n",
    "       [3, 4],\n",
    "       [5, 6]]), np.array([1, 3])), np.array([  8.,  10.,  10.])).all()\n",
    "assert np.isclose(get_grades(np.array([[1, 2],\n",
    "       [3, 4],\n",
    "       [5, 6]]), np.array([1, 6])), np.array([  7.,   8.,  10.])).all()\n",
    "assert np.isclose(get_grades(np.array([[1, 2],\n",
    "       [3, 4],\n",
    "       [5, 6]]), np.array([ 1, 10])), np.array([ 6.,  7.,  8.])).all()\n",
    "assert np.isclose(get_grades(np.array([[1, 2],\n",
    "       [3, 4],\n",
    "       [5, 6]]), np.array([2, 1])), np.array([  8.,  10.,  10.])).all()\n",
    "assert np.isclose(get_grades(np.array([[1, 2],\n",
    "       [3, 4],\n",
    "       [5, 6]]), np.array([2, 2])), np.array([  8.,  10.,  10.])).all()\n",
    "assert np.isclose(get_grades(np.array([[1, 2],\n",
    "       [3, 4],\n",
    "       [5, 6]]), np.array([2, 3])), np.array([  6.,  10.,  10.])).all()\n",
    "assert np.isclose(get_grades(np.array([[1, 2],\n",
    "       [3, 4],\n",
    "       [5, 6]]), np.array([2, 6])), np.array([  4.,   8.,  10.])).all()\n",
    "assert np.isclose(get_grades(np.array([[1, 2],\n",
    "       [3, 4],\n",
    "       [5, 6]]), np.array([ 2, 10])), np.array([ 4.,  7.,  8.])).all()\n",
    "assert np.isclose(get_grades(np.array([[1, 2],\n",
    "       [3, 4],\n",
    "       [5, 6]]), np.array([3, 1])), np.array([  7.,  10.,  10.])).all()\n",
    "assert np.isclose(get_grades(np.array([[1, 2],\n",
    "       [3, 4],\n",
    "       [5, 6]]), np.array([3, 2])), np.array([  7.,  10.,  10.])).all()\n",
    "assert np.isclose(get_grades(np.array([[1, 2],\n",
    "       [3, 4],\n",
    "       [5, 6]]), np.array([3, 3])), np.array([  5.,  10.,  10.])).all()\n",
    "assert np.isclose(get_grades(np.array([[1, 2],\n",
    "       [3, 4],\n",
    "       [5, 6]]), np.array([3, 6])), np.array([  3.,   8.,  10.])).all()\n",
    "assert np.isclose(get_grades(np.array([[1, 2],\n",
    "       [3, 4],\n",
    "       [5, 6]]), np.array([ 3, 10])), np.array([ 3.,  7.,  8.])).all()\n",
    "assert np.isclose(get_grades(np.array([[  9.,   9.,  10.],\n",
    "       [  1.,   9.,   0.],\n",
    "       [  1.,   3.,  10.],\n",
    "       [  5.,   5.,   2.],\n",
    "       [  3.,   9.,   3.]]), np.array([ 9.,  9.,  2.])), np.array([ 10.,   4.,   5.,   7.,   8.])).all()\n",
    "assert np.isclose(get_grades(np.array([[  8.,   3.,   5.,  10.,   4.],\n",
    "       [  9.,   0.,   5.,  10.,   6.],\n",
    "       [  0.,   1.,   7.,   2.,   9.]]), np.array([ 9.,  3.,  3.,  2.,  6.])), np.array([ 9.,  8.,  7.])).all()\n",
    "assert np.isclose(get_grades(np.array([[ 6.,  4.,  2.,  7.,  0.],\n",
    "       [ 8.,  1.,  4.,  4.,  8.],\n",
    "       [ 1.,  3.,  5.,  5.,  3.],\n",
    "       [ 2.,  5.,  3.,  4.,  8.],\n",
    "       [ 7.,  0.,  7.,  1.,  8.]]), np.array([ 5.,  5.,  8.,  3.,  8.])), np.array([ 6.,  7.,  6.,  8.,  6.])).all()"
   ]
  },
  {
   "cell_type": "markdown",
   "metadata": {},
   "source": [
    "## Часть 2. pandas"
   ]
  },
  {
   "cell_type": "code",
   "execution_count": 6,
   "metadata": {},
   "outputs": [],
   "source": [
    "import pandas as pd"
   ]
  },
  {
   "cell_type": "markdown",
   "metadata": {},
   "source": [
    "### Задача 3 (1 балл)\n",
    "В датафрейме `df` задана некоторая таблица. Написать функцию `get_rows_after_5(df, n)`, возвращающую датафрейм, в котором записано `n` строк, начиная с пятой сверху (включая 5-ю). Например, `get_row_after_5(df, 1)` должна вернуть только пятую строку, а `get_row_after_5(df, 2)` — 5-ю и 6-ю.\n",
    "\n",
    "**Внимание!** Индексами (именами строк) могут быть не числа, а что угодно."
   ]
  },
  {
   "cell_type": "code",
   "execution_count": 7,
   "metadata": {
    "deletable": false,
    "nbgrader": {
     "checksum": "07706b23a2c073db1b2390e487f5372b",
     "grade_id": "pr_2az",
     "solution": true
    }
   },
   "outputs": [],
   "source": [
    "def get_rows_after_5(df, n):\n",
    "    return df[4:].head(n)"
   ]
  },
  {
   "cell_type": "code",
   "execution_count": 8,
   "metadata": {
    "deletable": false,
    "nbgrader": {
     "checksum": "84f894cde469ad36d7cc00a777db7649",
     "grade": true,
     "grade_id": "pr_2_tza",
     "locked": true,
     "points": 1,
     "solution": false
    }
   },
   "outputs": [],
   "source": [
    "df = pd.DataFrame([[1, 2, 3], \n",
    "                   [4, 5, 6], \n",
    "                   [7, 8, 9], \n",
    "                   [10, 11, 12], \n",
    "                   [13, 14, 15], \n",
    "                   [16, 17, 18], \n",
    "                   [19, 20, 21]])\n",
    "\n",
    "assert get_rows_after_5(df, 1).equals(pd.DataFrame([[13, 14, 15]], index=[4]))\n",
    "assert get_rows_after_5(df, 2).equals(pd.DataFrame([[13, 14, 15], [16, 17, 18]], index=[4, 5]))\n",
    "assert get_rows_after_5(df, 3).equals(pd.DataFrame([[13, 14, 15], [16, 17, 18], [19, 20, 21]], index=[4, 5, 6]))\n",
    "\n",
    "\n",
    "df.index = list(range(6, -1, -1))\n",
    "assert get_rows_after_5(df, 1).equals(pd.DataFrame([[13, 14, 15]], index=[2]))\n",
    "\n",
    "df.index = list('abcdefg')\n",
    "df.sort_values(0, ascending=False, inplace=True)\n",
    "\n",
    "assert get_rows_after_5(df, 1).equals(pd.DataFrame([[7, 8, 9]], index=['c']))\n",
    "assert get_rows_after_5(df, 2).equals(pd.DataFrame([[7, 8, 9], [4, 5, 6]], index=['c', 'b']))\n",
    "\n",
    "df['hello'] = list('qwertyu')\n",
    "\n",
    "get_rows_after_5(df, 2)\n",
    "\n",
    "assert get_rows_after_5(df, 2).equals(pd.DataFrame([[7, 8, 9, 't'], [4, 5, 6, 'y']], columns = [0, 1, 2, 'hello'], index=['c', 'b']))"
   ]
  },
  {
   "cell_type": "markdown",
   "metadata": {},
   "source": [
    "### Задача 4 (1 балл)\n",
    "В датафрейме `df` задана некоторая таблица, её индексами являются целые числа, не обязательно идущие по порядку. Написать функцию `between(df, n, m)`, возвращающую все строки этой таблицы, расположенные между строками с индексами `n` и `m`, включая строки с индексами `n` и `m`. Гарантируется, что строка с индексом `n` встречается раньше строки с индексом `m`."
   ]
  },
  {
   "cell_type": "code",
   "execution_count": 9,
   "metadata": {
    "deletable": false,
    "nbgrader": {
     "checksum": "1aef16b62daee4d1674c73e8e4c828b7",
     "grade_id": "pr_3az",
     "solution": true
    }
   },
   "outputs": [],
   "source": [
    "def between(df, n, m):\n",
    "    return df.loc[n:m]"
   ]
  },
  {
   "cell_type": "code",
   "execution_count": 10,
   "metadata": {
    "deletable": false,
    "nbgrader": {
     "checksum": "5550522c51795d20ad8ace7af7afa67d",
     "grade": true,
     "grade_id": "pr_3_taz",
     "locked": true,
     "points": 1,
     "solution": false
    }
   },
   "outputs": [],
   "source": [
    "df = pd.DataFrame([[1, 2, 3], \n",
    "                   [4, 5, 6], \n",
    "                   [7, 8, 9], \n",
    "                   [10, 11, 12], \n",
    "                   [13, 14, 15], \n",
    "                   [16, 17, 18], \n",
    "                   [19, 20, 21]])\n",
    "assert between(df, 2, 3).equals(pd.DataFrame([[7, 8, 9], [10, 11, 12]], index=[2, 3]))\n",
    "\n",
    "df.index=[1, 2, 10, 9, 8, 7, 3]\n",
    "\n",
    "assert between(df, 2, 3).equals(pd.DataFrame([[4, 5, 6], [7, 8, 9], [10, 11, 12], [13, 14, 15], [16, 17, 18], [19, 20, 21]], columns=[0, 1, 2], index=[2, 10, 9, 8, 7, 3]))"
   ]
  },
  {
   "cell_type": "markdown",
   "metadata": {},
   "source": [
    "### Задача 5 (1 балл)\n",
    "В датафрейме `df` находится информация об успеваемости студентов: в столбцах `First Name` и `Last Name` — имя и фамилия, а в следующих столбцах — оценки за разные курсы по пятибальной системе (целые числа от 0 до 5). Напишите функцию `get_grade(df, lastname, firstname, course)`, возвращающую оценку данного студента по данному курсу. Предполагается, что не бывает студентов, у которых совпадали бы одновременно фамилия и имя.\n",
    "\n",
    "**Пример:**\n",
    "\n",
    "Входная таблица\n",
    "\n",
    "```\n",
    "  Last Name First Name  Algebra  Calculus  Music  Law\n",
    "0       Doe       John        4         5      3    5\n",
    "1     Smith      Alice        5         4      2    4\n",
    "```\n",
    "записывается в виде\n",
    "\n",
    "```python\n",
    "df = pd.DataFrame(\n",
    "    [\n",
    "        ['Doe', 'John', 4, 5, 3, 5], \n",
    "        ['Smith', 'Alice', 5, 4, 2, 4]\n",
    "    ], \n",
    "    columns=['Last Name', 'First Name', 'Algebra', 'Calculus', 'Music', 'Law']\n",
    ")\n",
    "```\n",
    "Для неё функция `get_grade(df, 'Doe', 'John', 'Algebra')` должна вернуть число `4`.\n",
    "\n",
    "**Подсказка.** В качестве «индексов» могут использоваться `pd.Series`, состоящие из булевских значений (`True/False`) — в этом случае выбраны будут те записи, которые соответствуют `True`. К двум булевским `pd.Series` можно применять операции `&`  — поэлементное логическое «и» и `|` — поэлементное логическое «или». Чтобы выбирать отдельно условия для строк и столбцов нужно использовать `.loc`. Не забудьте превратить результат в целое число (`int`)!"
   ]
  },
  {
   "cell_type": "code",
   "execution_count": 11,
   "metadata": {
    "deletable": false,
    "nbgrader": {
     "checksum": "c64149372da2c8fc115134ead9511f04",
     "grade_id": "pr_1a",
     "solution": true
    }
   },
   "outputs": [],
   "source": [
    "def get_grade(df, lastname, firstname, course):\n",
    "    return np.array(df.loc[(df['Last Name'] == lastname) & (df['First Name'] == firstname),:].loc[:,course])[0]"
   ]
  },
  {
   "cell_type": "code",
   "execution_count": 12,
   "metadata": {
    "deletable": false,
    "nbgrader": {
     "checksum": "a2fd84f4227b408b3adff8bbb74c5cb9",
     "grade": true,
     "grade_id": "pr_1_ta",
     "locked": true,
     "points": 1,
     "solution": false
    }
   },
   "outputs": [],
   "source": [
    "def test(table, columns):\n",
    "    df = pd.DataFrame(table, columns=columns)\n",
    "    for row in table:\n",
    "        firstname = row[columns.index('First Name')]\n",
    "        lastname = row[columns.index('Last Name')]\n",
    "        for j, course in enumerate(columns[2:], 2):\n",
    "            assert get_grade(df, lastname, firstname, course) == row[j]\n",
    "\n",
    "test(\n",
    "    [\n",
    "        ['Doe', 'John', 1, 2, 3, 4], \n",
    "        ['Smith', 'Alice', 5, 4, 2, 4]\n",
    "    ], \n",
    "    columns=['Last Name', 'First Name', 'Algebra', 'Calculus', 'Music', 'Law']\n",
    ")\n",
    "\n",
    "test(\n",
    "    [\n",
    "        ['John', 'Doe', 1, 2, 3, 4], \n",
    "        ['Max', 'Katz', 5, 4, 2, 4]\n",
    "    ], \n",
    "    columns=['First Name', 'Last Name', 'Algebra', 'Calculus', 'Music', 'Law']\n",
    ")\n",
    "\n",
    "test(\n",
    "    [\n",
    "        ['John', 'Doe', 1, 2, 3, 4, 3, 2], \n",
    "        ['Jennifer', 'Lopez', 5, 4, 2, 4, 1, 1],\n",
    "        ['John', 'Smith', 2, 1, 4, 3, 3, 2]\n",
    "    ],\n",
    "    columns=['First Name', 'Last Name', 'Algebra', 'Calculus', 'Music', 'Law', 'CS', 'Physics']\n",
    ")\n",
    "\n",
    "test(\n",
    "    [\n",
    "        ['John', 'Doe', 1, 2, 3, 4, 3, 2], \n",
    "        ['Jack', 'Doe', 5, 4, 2, 4, 1, 1],\n",
    "        ['John', 'Smith', 2, 1, 4, 3, 3, 2]\n",
    "    ],\n",
    "    columns=['First Name', 'Last Name', 'Algebra', 'Calculus', 'Music', 'Law', 'CS', 'Physics']\n",
    ")"
   ]
  },
  {
   "cell_type": "markdown",
   "metadata": {},
   "source": [
    "### Задача 6 (1 балл)\n",
    "\n",
    "Напишите функцию `contains_null(df)`, которая принимает на вход датафрейм и возвращает `True`, если в датафрейме есть хотя бы одно значение `NaN`, и `False` иначе. Возвращаемые значения должны быть типа `bool`.\n",
    "\n",
    "__Подсказка:__ вам могут помочь методы `.isnull()` и `.any()`."
   ]
  },
  {
   "cell_type": "code",
   "execution_count": 13,
   "metadata": {
    "deletable": false,
    "nbgrader": {
     "checksum": "8d6de0cf728d65cb88d6ac5df2572efa",
     "grade": false,
     "grade_id": "cell-9365ecc0e8db8949",
     "locked": false,
     "schema_version": 1,
     "solution": true
    }
   },
   "outputs": [],
   "source": [
    "def contains_null(df):\n",
    "    return df.isnull().any().any()"
   ]
  },
  {
   "cell_type": "code",
   "execution_count": 14,
   "metadata": {
    "deletable": false,
    "nbgrader": {
     "checksum": "493896470d3ea38f9f5f1db30f01420f",
     "grade": true,
     "grade_id": "cell-eceef606268bd0fb",
     "locked": true,
     "points": 1,
     "schema_version": 1,
     "solution": false
    }
   },
   "outputs": [
    {
     "name": "stdout",
     "output_type": "stream",
     "text": [
      "Это было легко, правда?\n"
     ]
    }
   ],
   "source": [
    "tester_inp = [pd.DataFrame({'A': [1,2,3], 'B': [2,3,4], 'C': [1,1, None]}), \n",
    "             pd.DataFrame(np.random.randint(-20, 50, 60000).reshape(-1,15)),\n",
    "             pd.DataFrame({'Z': [1]}),\n",
    "             pd.DataFrame({'Z': []}),\n",
    "             pd.DataFrame({'A': [1,1,1,1,1], 3: ['A', 'B', 'C', 'D', 'E'], 'Z': [2,2, None, np.nan, 0]}),\n",
    "             pd.DataFrame([['Элизабет', 'Чай', 9, 354], ['Иван Никифорович', 'Колбаса', 3, 523], ['Элизабет', 'Молоко', 4, 476], ['Элизабет', 'Молоко', 5, 253], ['Иван Иванович', 'Кефир', 5, 829], ['Иван Никифорович', 'Молоко', 7, 874], ['Элизабет', 'Чай', 3, 901], ['Петя', 'Хлеб', 4, 644], ['Иван Иванович', 'Хлеб', 8, 943], ['Элизабет', 'Колбаса', 5, 80], ['Иван Никифорович', 'Чай', 3, 537], ['Иван Иванович', 'Журнал \"Мурзилка\"', 7, 204], ['Петя', 'Журнал \"Мурзилка\"', 2, 251], ['Петя', 'Колбаса', 1, 344], ['Иван Никифорович', 'Простокваша', 5, 694], ['Иван Иванович', 'Кефир', 3, 661], ['Иван Никифорович', 'Чай', 7, 0], ['Элизабет', 'Хлеб', 6, 36], ['Ваня', 'Колбаса', 9, 40], ['Элизабет', 'Чай', 5, 846]], columns=['Покупатель', 'Товар', 'Количество', 'Цена'], index=[0, 1, 2, 3, 4, 5, 6, 7, 8, 9, 10, 11, 12, 13, 14, 15, 16, 17, 18, 19]),\n",
    "             pd.DataFrame([['Элизабет', 'Чай', 9, 354], ['Иван Никифорович', 'Колбаса', 3, 523], ['Элизабет', 'Молоко', 4, 476], ['Элизабет', 'Молоко', 5, 253], ['Иван Иванович', 'Кефир', 5, 829], ['Иван Никифорович', 'Молоко', 7, 874], ['Элизабет', 'Чай', 3, 901], ['Петя', 'Хлеб', 4, 644], ['Иван Иванович', 'Хлеб', 8, 943], ['Элизабет', 'Колбаса', 5, 80], ['Иван Никифорович', 'Чай', 3, 537], ['Иван Иванович', 'Журнал \"Мурзилка\"', 7, 204], ['Петя', 'Журнал \"Мурзилка\"', 2, 251], ['Петя', 'Колбаса', 1, 344], ['Иван Никифорович', 'Простокваша', 5, 694], ['Иван Иванович', 'Кефир', 3, 661], ['Иван Никифорович', 'Чай', 7, None], ['Элизабет', 'Хлеб', 6, 36], ['Ваня', 'Колбаса', 9, 40], ['Элизабет', 'Чай', 5, 846]], columns=['Покупатель', 'Товар', 'Количество', 'Цена'], index=[0, 1, 2, 3, 4, 5, 6, 7, 8, 9, 10, 11, 12, 13, 14, 15, 16, 17, 18, 19])]\n",
    "tester_out = [1,0,0,0,1,0,1]\n",
    "for tin, tout in zip(tester_inp, tester_out):\n",
    "    assert contains_null(tin) == tout\n",
    "print('Это было легко, правда?')"
   ]
  },
  {
   "cell_type": "markdown",
   "metadata": {},
   "source": [
    "### Задача 7 (2 балла)\n",
    "В датафрейме `df` находится информация об успеваемости студентов. Написать функцию `gpa_top(df)`, принимающую на вход датафрейм `df` и модифицирующую его следующим образом:\n",
    "\n",
    "- Добавить в `df` столбец с именем `'GPA'`, содержащим среднюю оценка студента. Разные студенты могут брать разный набор курсов, поэтому среди оценок студентов может встречаться `NaN` (это означает, что студент не брал соответствующий курс). Среднее считается среди тех курсов, которые студент брал.\n",
    "\n",
    "- Отсортировать датафрейм по убыванию `GPA`.\n",
    "\n",
    "- Вернуть только те строчки датафрейма, в которых `GPA` не меньше `4` баллов.\n",
    "\n",
    "**Подсказки:** \n",
    "\n",
    "1. Для сортировки датафрейма нужно использовать метод `sort_values()`.\n",
    "2. Метод `mean()` игнорирует строки и `NaN`'ы.\n",
    "\n",
    "В следующих ячейках приведено два примера."
   ]
  },
  {
   "cell_type": "code",
   "execution_count": 15,
   "metadata": {},
   "outputs": [
    {
     "data": {
      "text/html": [
       "<div>\n",
       "<style scoped>\n",
       "    .dataframe tbody tr th:only-of-type {\n",
       "        vertical-align: middle;\n",
       "    }\n",
       "\n",
       "    .dataframe tbody tr th {\n",
       "        vertical-align: top;\n",
       "    }\n",
       "\n",
       "    .dataframe thead th {\n",
       "        text-align: right;\n",
       "    }\n",
       "</style>\n",
       "<table border=\"1\" class=\"dataframe\">\n",
       "  <thead>\n",
       "    <tr style=\"text-align: right;\">\n",
       "      <th></th>\n",
       "      <th>Last Name</th>\n",
       "      <th>First Name</th>\n",
       "      <th>Alge bra</th>\n",
       "      <th>Calculus</th>\n",
       "      <th>Music</th>\n",
       "      <th>Law</th>\n",
       "    </tr>\n",
       "  </thead>\n",
       "  <tbody>\n",
       "    <tr>\n",
       "      <th>0</th>\n",
       "      <td>Doe</td>\n",
       "      <td>John</td>\n",
       "      <td>4</td>\n",
       "      <td>5</td>\n",
       "      <td>3.0</td>\n",
       "      <td>5</td>\n",
       "    </tr>\n",
       "    <tr>\n",
       "      <th>1</th>\n",
       "      <td>Smith</td>\n",
       "      <td>Alice</td>\n",
       "      <td>5</td>\n",
       "      <td>4</td>\n",
       "      <td>NaN</td>\n",
       "      <td>4</td>\n",
       "    </tr>\n",
       "  </tbody>\n",
       "</table>\n",
       "</div>"
      ],
      "text/plain": [
       "  Last Name First Name  Alge bra  Calculus  Music  Law\n",
       "0       Doe       John         4         5    3.0    5\n",
       "1     Smith      Alice         5         4    NaN    4"
      ]
     },
     "execution_count": 15,
     "metadata": {},
     "output_type": "execute_result"
    }
   ],
   "source": [
    "# входной датафрейм\n",
    "pd.DataFrame([['Doe', 'John', 4, 5, 3.0, 5], \n",
    "              ['Smith', 'Alice', 5, 4, float(\"nan\"), 4]], \n",
    "             columns=['Last Name', 'First Name', \n",
    "                      'Alge bra', 'Calculus', 'Music', 'Law'], index=[0, 1])"
   ]
  },
  {
   "cell_type": "code",
   "execution_count": 16,
   "metadata": {},
   "outputs": [
    {
     "data": {
      "text/html": [
       "<div>\n",
       "<style scoped>\n",
       "    .dataframe tbody tr th:only-of-type {\n",
       "        vertical-align: middle;\n",
       "    }\n",
       "\n",
       "    .dataframe tbody tr th {\n",
       "        vertical-align: top;\n",
       "    }\n",
       "\n",
       "    .dataframe thead th {\n",
       "        text-align: right;\n",
       "    }\n",
       "</style>\n",
       "<table border=\"1\" class=\"dataframe\">\n",
       "  <thead>\n",
       "    <tr style=\"text-align: right;\">\n",
       "      <th></th>\n",
       "      <th>Last Name</th>\n",
       "      <th>First Name</th>\n",
       "      <th>Algebra</th>\n",
       "      <th>Calculus</th>\n",
       "      <th>Music</th>\n",
       "      <th>Law</th>\n",
       "      <th>GPA</th>\n",
       "    </tr>\n",
       "  </thead>\n",
       "  <tbody>\n",
       "    <tr>\n",
       "      <th>1</th>\n",
       "      <td>Smith</td>\n",
       "      <td>Alice</td>\n",
       "      <td>5</td>\n",
       "      <td>4</td>\n",
       "      <td>NaN</td>\n",
       "      <td>4</td>\n",
       "      <td>4.333333</td>\n",
       "    </tr>\n",
       "    <tr>\n",
       "      <th>0</th>\n",
       "      <td>Doe</td>\n",
       "      <td>John</td>\n",
       "      <td>4</td>\n",
       "      <td>5</td>\n",
       "      <td>3.0</td>\n",
       "      <td>5</td>\n",
       "      <td>4.250000</td>\n",
       "    </tr>\n",
       "  </tbody>\n",
       "</table>\n",
       "</div>"
      ],
      "text/plain": [
       "  Last Name First Name  Algebra  Calculus  Music  Law       GPA\n",
       "1     Smith      Alice        5         4    NaN    4  4.333333\n",
       "0       Doe       John        4         5    3.0    5  4.250000"
      ]
     },
     "execution_count": 16,
     "metadata": {},
     "output_type": "execute_result"
    }
   ],
   "source": [
    "# выходной датафрейм\n",
    "pd.DataFrame([['Smith', 'Alice', 5, 4, float(\"nan\"), 4, 4.333333333333333], \n",
    "              ['Doe', 'John', 4, 5, 3.0, 5, 4.25]], \n",
    "             columns=['Last Name', 'First Name', 'Algebra', \n",
    "                      'Calculus', 'Music', 'Law', 'GPA'], index=[1, 0])"
   ]
  },
  {
   "cell_type": "code",
   "execution_count": 17,
   "metadata": {},
   "outputs": [
    {
     "data": {
      "text/html": [
       "<div>\n",
       "<style scoped>\n",
       "    .dataframe tbody tr th:only-of-type {\n",
       "        vertical-align: middle;\n",
       "    }\n",
       "\n",
       "    .dataframe tbody tr th {\n",
       "        vertical-align: top;\n",
       "    }\n",
       "\n",
       "    .dataframe thead th {\n",
       "        text-align: right;\n",
       "    }\n",
       "</style>\n",
       "<table border=\"1\" class=\"dataframe\">\n",
       "  <thead>\n",
       "    <tr style=\"text-align: right;\">\n",
       "      <th></th>\n",
       "      <th>Last Name</th>\n",
       "      <th>First Name</th>\n",
       "      <th>Algebra</th>\n",
       "      <th>Calculus</th>\n",
       "      <th>Music</th>\n",
       "      <th>Law</th>\n",
       "    </tr>\n",
       "  </thead>\n",
       "  <tbody>\n",
       "    <tr>\n",
       "      <th>0</th>\n",
       "      <td>Doe</td>\n",
       "      <td>John</td>\n",
       "      <td>1</td>\n",
       "      <td>5</td>\n",
       "      <td>3.0</td>\n",
       "      <td>5</td>\n",
       "    </tr>\n",
       "    <tr>\n",
       "      <th>1</th>\n",
       "      <td>Smith</td>\n",
       "      <td>Alice</td>\n",
       "      <td>5</td>\n",
       "      <td>4</td>\n",
       "      <td>NaN</td>\n",
       "      <td>4</td>\n",
       "    </tr>\n",
       "  </tbody>\n",
       "</table>\n",
       "</div>"
      ],
      "text/plain": [
       "  Last Name First Name  Algebra  Calculus  Music  Law\n",
       "0       Doe       John        1         5    3.0    5\n",
       "1     Smith      Alice        5         4    NaN    4"
      ]
     },
     "execution_count": 17,
     "metadata": {},
     "output_type": "execute_result"
    }
   ],
   "source": [
    "# входной датафрейм\n",
    "pd.DataFrame([['Doe', 'John', 1, 5, 3.0, 5], \n",
    "              ['Smith', 'Alice', 5, 4, float(\"nan\"), 4]], \n",
    "             columns=['Last Name', 'First Name', 'Algebra', 'Calculus', \n",
    "                      'Music', 'Law'], index=[0, 1])"
   ]
  },
  {
   "cell_type": "code",
   "execution_count": 18,
   "metadata": {},
   "outputs": [
    {
     "data": {
      "text/html": [
       "<div>\n",
       "<style scoped>\n",
       "    .dataframe tbody tr th:only-of-type {\n",
       "        vertical-align: middle;\n",
       "    }\n",
       "\n",
       "    .dataframe tbody tr th {\n",
       "        vertical-align: top;\n",
       "    }\n",
       "\n",
       "    .dataframe thead th {\n",
       "        text-align: right;\n",
       "    }\n",
       "</style>\n",
       "<table border=\"1\" class=\"dataframe\">\n",
       "  <thead>\n",
       "    <tr style=\"text-align: right;\">\n",
       "      <th></th>\n",
       "      <th>Last Name</th>\n",
       "      <th>First Name</th>\n",
       "      <th>Algebra</th>\n",
       "      <th>Calculus</th>\n",
       "      <th>Music</th>\n",
       "      <th>Law</th>\n",
       "      <th>GPA</th>\n",
       "    </tr>\n",
       "  </thead>\n",
       "  <tbody>\n",
       "    <tr>\n",
       "      <th>1</th>\n",
       "      <td>Smith</td>\n",
       "      <td>Alice</td>\n",
       "      <td>5</td>\n",
       "      <td>4</td>\n",
       "      <td>NaN</td>\n",
       "      <td>4</td>\n",
       "      <td>4.333333</td>\n",
       "    </tr>\n",
       "  </tbody>\n",
       "</table>\n",
       "</div>"
      ],
      "text/plain": [
       "  Last Name First Name  Algebra  Calculus  Music  Law       GPA\n",
       "1     Smith      Alice        5         4    NaN    4  4.333333"
      ]
     },
     "execution_count": 18,
     "metadata": {},
     "output_type": "execute_result"
    }
   ],
   "source": [
    "# выходной датафрейм\n",
    "pd.DataFrame([['Smith', 'Alice', 5, 4, float(\"nan\"), 4, 4.333333333333333]], \n",
    "             columns=['Last Name', 'First Name', 'Algebra', 'Calculus', \n",
    "                      'Music', 'Law', 'GPA'], index=[1])"
   ]
  },
  {
   "cell_type": "code",
   "execution_count": 19,
   "metadata": {
    "deletable": false,
    "nbgrader": {
     "checksum": "997829ab0c2d591879be0c30fc6a26b1",
     "grade_id": "pr_4az",
     "solution": true
    }
   },
   "outputs": [],
   "source": [
    "def gpa_top(df):\n",
    "    df['GPA'] = df.mean(axis=1)\n",
    "    df.sort_values('GPA', inplace=True, ascending=False)\n",
    "    return df[df['GPA'] >= 4]"
   ]
  },
  {
   "cell_type": "code",
   "execution_count": 20,
   "metadata": {
    "deletable": false,
    "nbgrader": {
     "checksum": "4d4b84c75fc7604ff58878a6e34c07e1",
     "grade": true,
     "grade_id": "pr_4_taz",
     "locked": true,
     "points": 2,
     "solution": false
    }
   },
   "outputs": [],
   "source": [
    "import pandas as pd\n",
    "def pd_repr(df):\n",
    "    content = repr(df.values.tolist()).replace('nan', 'float(\"nan\")')\n",
    "    columns = repr(df.columns.tolist())\n",
    "    index = repr(df.index.tolist())\n",
    "    return \"pd.DataFrame(%s, columns=%s, index=%s)\" % (content, columns, index)\n",
    "\n",
    "def test(table, columns, newtable, newindex):\n",
    "    inp = pd.DataFrame(table, columns=columns)\n",
    "    expected = pd.DataFrame(newtable, columns = columns + ['GPA'], index=newindex)\n",
    "    out = gpa_top(inp)\n",
    "    if len(out) == 0 and len(expected) == 0:\n",
    "        return\n",
    "    assert out.equals(expected), \"Что-то пошло не так для входного датафрейма %s\" % pd_repr(inp)\n",
    "\n",
    "test([['Doe', 'John', 4, 5, 3.0, 5]], ['Last Name', 'First Name', 'Algebra', 'Calculus', 'Music', 'Law'], [['Doe', 'John', 4, 5, 3.0, 5, 4.25]], [0])\n",
    "test([['Doe', 'John', 4, 5, 3.0, 5], ['Smith', 'Alice', 5, 4, float('nan'), 4]], ['Last Name', 'First Name', 'Algebra', 'Calculus', 'Music', 'Law'], [['Smith', 'Alice', 5, 4, float('nan'), 4, 4.333333333333333], ['Doe', 'John', 4, 5, 3.0, 5, 4.25]], [1, 0])\n",
    "test([['Doe', 'John', 1, 5, 3.0, 5], ['Smith', 'Alice', 5, 4, float('nan'), 4]], ['Last Name', 'First Name', 'Algebra', 'Calculus', 'Music', 'Law'], [['Smith', 'Alice', 5, 4, float('nan'), 4, 4.333333333333333]], [1])\n",
    "test([['Doe', 'John', 4, float('nan'), 3.0, float('nan')], ['Smith', 'Alice', 2, 4, float('nan'), 4]], ['Last Name', 'First Name', 'Algebra', 'Calculus', 'Music', 'Law'], [], [])\n",
    "test([['Doe', 'John', 4, float('nan'), 5.0, float('nan')], ['Smith', 'Alice', 5, 5, float('nan'), 4]], ['Last Name', 'First Name', 'Algebra', 'Calculus', 'Music', 'Law'], [['Smith', 'Alice', 5, 5.0, float('nan'), 4.0, 4.666666666666667], ['Doe', 'John', 4, float('nan'), 5.0, float('nan'), 4.5]], [1, 0])\n",
    "test([['Doe', 'John', 4, float('nan'), 5.0, float('nan'), 4, 5], ['Smith', 'Alice', 5, 5, float('nan'), 4, 4, float('nan')]], ['Last Name', 'First Name', 'Algebra', 'Calculus', 'Music', 'Law', 'Science', 'English'], [['Doe', 'John', 4, float('nan'), 5.0, float('nan'), 4, 5.0, 4.5], ['Smith', 'Alice', 5, 5.0, float('nan'), 4.0, 4, float('nan'), 4.5]], [0, 1])\n",
    "test([['Doe', 'John', 4, float('nan'), 5.0, float('nan'), 4, 5], ['Smith', 'Alice', 5, 5, float('nan'), 4, 5, float('nan')], ['Doe', 'Alice', 4, float('nan'), 5.0, float('nan'), 4, 5], ['Smith', 'John', 5, 5, float('nan'), 3, 4, float('nan')], ['Doe', 'John', 4, float('nan'), 5.0, 2, 4, 5], ['Smith', 'Alice', 2, 2, float('nan'), 4, 4, float('nan')]], ['Last Name', 'First Name', 'Algebra', 'Calculus', 'Music', 'Law', 'Science', 'English'], [['Smith', 'Alice', 5, 5.0, float('nan'), 4.0, 5, float('nan'), 4.75], ['Doe', 'John', 4, float('nan'), 5.0, float('nan'), 4, 5.0, 4.5], ['Doe', 'Alice', 4, float('nan'), 5.0, float('nan'), 4, 5.0, 4.5], ['Smith', 'John', 5, 5.0, float('nan'), 3.0, 4, float('nan'), 4.25], ['Doe', 'John', 4, float('nan'), 5.0, 2.0, 4, 5.0, 4.0]], [1, 0, 2, 3, 4])"
   ]
  },
  {
   "cell_type": "markdown",
   "metadata": {},
   "source": [
    "### Задача 8 (2 балла)\n",
    "В таблице `df` записана информация о покупках товаров в некотором магазине. Пример:\n",
    "\n",
    "            Покупатель     Товар  Количество  Цена\n",
    "    0    Иван Петрович  Макароны           4   120\n",
    "    1  Лариса Ивановна    Плюшки          10   100\n",
    "    2    Иван Петрович    Плюшки           1   100\n",
    "    3             Петя   Леденцы           5    20\n",
    "\n",
    "Один и тот же товар может продаваться по разным ценам.\n",
    "\n",
    "Вам нужно написать функцию `check_table(df)`, возвращающую кортеж из двух словарей: в первом должно быть указано, сколько денег оставил в магазине каждый покупатель, а во втором — сколько удалось выручить за продажу каждого товара. Например, для приведенной выше таблицы должно быть возвращено\n",
    "\n",
    "```\n",
    "({'Иван Петрович': 580, 'Лариса Ивановна': 1000, 'Петя': 100},\n",
    " {'Леденцы': 100, 'Макароны': 480, 'Плюшки': 1100})\n",
    "```\n",
    "\n",
    "**Подсказки:**\n",
    "\n",
    "1. Сначала создайте столбец, в котором будет указано, во сколько обошлась каждая покупка (с учётом количества товара и его цены). Одномерные элементы *pandas* (например, столбцы и строки датафреймов — их тип называется `pd.DataSeries`) ведут себя как `np.array()`, то есть операции с ними производятся поэлементно.\n",
    "2. Вам поможет метод `groupby()`.\n",
    "3. У элементов типа `pd.DataSeries` есть метод `to_dict()`, превращающий их в словари."
   ]
  },
  {
   "cell_type": "code",
   "execution_count": 21,
   "metadata": {
    "deletable": false,
    "nbgrader": {
     "checksum": "95b1292e879540f25fb944beee2855ab",
     "grade_id": "pr_5az",
     "solution": true
    }
   },
   "outputs": [],
   "source": [
    "def check_table(df):\n",
    "    df['Стоимость'] = df['Цена'] * df['Количество']\n",
    "    return df.groupby('Покупатель').sum()['Стоимость'].to_dict(), df.groupby('Товар').sum()['Стоимость'].to_dict()"
   ]
  },
  {
   "cell_type": "code",
   "execution_count": 22,
   "metadata": {
    "deletable": false,
    "nbgrader": {
     "checksum": "2bf05b8ea95677bbcc654bbf96e0b692",
     "grade": true,
     "grade_id": "pr_5_taz",
     "locked": true,
     "points": 2,
     "solution": false
    }
   },
   "outputs": [],
   "source": [
    "# базовые тесты\n",
    "assert check_table(pd.DataFrame([['Иван Иванович', 'Молоко', 1, 10]], columns=['Покупатель', 'Товар', 'Количество', 'Цена'], index=[0])) == ({'Иван Иванович': 10}, {'Молоко': 10})\n",
    "assert check_table(pd.DataFrame([['Иван Иванович', 'Молоко', 1, 10], ['Иван Иванович', 'Кефир', 2, 20]], columns=['Покупатель', 'Товар', 'Количество', 'Цена'], index=[0, 1])) == ({'Иван Иванович': 50}, {'Молоко': 10, 'Кефир': 40})\n",
    "assert check_table(pd.DataFrame([['Иван Иванович', 'Молоко', 1, 10], ['Иван Никифорович', 'Кефир', 2, 20]], columns=['Покупатель', 'Товар', 'Количество', 'Цена'], index=[0, 1])) == ({'Иван Никифорович': 40, 'Иван Иванович': 10}, {'Молоко': 10, 'Кефир': 40})\n",
    "assert check_table(pd.DataFrame([['Иван Иванович', 'Молоко', 1, 10], ['Иван Никифорович', 'Молоко', 2, 20]], columns=['Покупатель', 'Товар', 'Количество', 'Цена'], index=[0, 1])) == ({'Иван Никифорович': 40, 'Иван Иванович': 10}, {'Молоко': 50})\n",
    "\n",
    "# стресс-тестирование\n",
    "assert check_table(pd.DataFrame([['Петя', 'Кефир', 5, 983], ['Петя', 'Колбаса', 7, 301], ['Элизабет', 'Молоко', 1, 332], ['Иван Никифорович', 'Простокваша', 1, 318], ['Элизабет', 'Кефир', 7, 334], ['Петя', 'Колбаса', 3, 376], ['Петя', 'Чай', 1, 952], ['Ваня', 'Чай', 2, 930], ['Петя', 'Молоко', 8, 759], ['Иван Иванович', 'Кефир', 7, 720], ['Элизабет', 'Простокваша', 2, 958], ['Петя', 'Простокваша', 8, 904], ['Элизабет', 'Кефир', 6, 213], ['Иван Иванович', 'Молоко', 2, 878], ['Ваня', 'Колбаса', 7, 819], ['Петя', 'Журнал \"Мурзилка\"', 6, 924], ['Элизабет', 'Кефир', 6, 862], ['Ваня', 'Журнал \"Мурзилка\"', 7, 324], ['Петя', 'Простокваша', 3, 200], ['Иван Иванович', 'Молоко', 8, 881]], columns=['Покупатель', 'Товар', 'Количество', 'Цена'], index=[0, 1, 2, 3, 4, 5, 6, 7, 8, 9, 10, 11, 12, 13, 14, 15, 16, 17, 18, 19])) == ({'Ваня': 9861, 'Петя': 28550, 'Иван Никифорович': 318, 'Иван Иванович': 13844, 'Элизабет': 11036}, {'Чай': 2812, 'Колбаса': 8968, 'Журнал \"Мурзилка\"': 7812, 'Простокваша': 10066, 'Молоко': 15208, 'Кефир': 18743})\n",
    "assert check_table(pd.DataFrame([['Ваня', 'Простокваша', 8, 189], ['Иван Никифорович', 'Молоко', 2, 723], ['Иван Иванович', 'Молоко', 1, 558], ['Иван Никифорович', 'Молоко', 5, 209], ['Петя', 'Простокваша', 8, 522], ['Иван Иванович', 'Чай', 3, 193], ['Иван Иванович', 'Чай', 4, 312], ['Петя', 'Молоко', 7, 662], ['Элизабет', 'Простокваша', 7, 56], ['Петя', 'Колбаса', 9, 415], ['Иван Никифорович', 'Колбаса', 7, 772], ['Петя', 'Хлеб', 6, 825], ['Элизабет', 'Колбаса', 4, 24], ['Иван Никифорович', 'Хлеб', 9, 68], ['Иван Никифорович', 'Чай', 6, 143], ['Иван Иванович', 'Колбаса', 8, 794], ['Элизабет', 'Простокваша', 2, 333], ['Иван Иванович', 'Хлеб', 2, 272], ['Иван Иванович', 'Колбаса', 2, 250], ['Элизабет', 'Простокваша', 1, 642]], columns=['Покупатель', 'Товар', 'Количество', 'Цена'], index=[0, 1, 2, 3, 4, 5, 6, 7, 8, 9, 10, 11, 12, 13, 14, 15, 16, 17, 18, 19])) == ({'Ваня': 1512, 'Петя': 17495, 'Иван Никифорович': 9365, 'Иван Иванович': 9781, 'Элизабет': 1796}, {'Колбаса': 16087, 'Чай': 2685, 'Простокваша': 7388, 'Молоко': 7683, 'Хлеб': 6106})\n",
    "assert check_table(pd.DataFrame([['Элизабет', 'Чай', 9, 354], ['Иван Никифорович', 'Колбаса', 3, 523], ['Элизабет', 'Молоко', 4, 476], ['Элизабет', 'Молоко', 5, 253], ['Иван Иванович', 'Кефир', 5, 829], ['Иван Никифорович', 'Молоко', 7, 874], ['Элизабет', 'Чай', 3, 901], ['Петя', 'Хлеб', 4, 644], ['Иван Иванович', 'Хлеб', 8, 943], ['Элизабет', 'Колбаса', 5, 80], ['Иван Никифорович', 'Чай', 3, 537], ['Иван Иванович', 'Журнал \"Мурзилка\"', 7, 204], ['Петя', 'Журнал \"Мурзилка\"', 2, 251], ['Петя', 'Колбаса', 1, 344], ['Иван Никифорович', 'Простокваша', 5, 694], ['Иван Иванович', 'Кефир', 3, 661], ['Иван Никифорович', 'Чай', 7, 365], ['Элизабет', 'Хлеб', 6, 36], ['Ваня', 'Колбаса', 9, 40], ['Элизабет', 'Чай', 5, 846]], columns=['Покупатель', 'Товар', 'Количество', 'Цена'], index=[0, 1, 2, 3, 4, 5, 6, 7, 8, 9, 10, 11, 12, 13, 14, 15, 16, 17, 18, 19])) == ({'Ваня': 360, 'Петя': 3422, 'Иван Никифорович': 15323, 'Иван Иванович': 15100, 'Элизабет': 13904}, {'Чай': 14285, 'Колбаса': 2673, 'Журнал \"Мурзилка\"': 1930, 'Хлеб': 10336, 'Простокваша': 3470, 'Молоко': 9287, 'Кефир': 6128})\n",
    "assert check_table(pd.DataFrame([['Элизабет', 'Чай', 5, 547], ['Иван Иванович', 'Хлеб', 2, 883], ['Иван Иванович', 'Журнал \"Мурзилка\"', 6, 616], ['Петя', 'Хлеб', 9, 313], ['Петя', 'Чай', 1, 73], ['Иван Никифорович', 'Хлеб', 8, 665], ['Иван Иванович', 'Колбаса', 5, 219], ['Элизабет', 'Журнал \"Мурзилка\"', 8, 207], ['Петя', 'Кефир', 7, 512], ['Иван Никифорович', 'Молоко', 6, 302], ['Иван Иванович', 'Колбаса', 9, 467], ['Иван Никифорович', 'Хлеб', 8, 548], ['Ваня', 'Простокваша', 9, 331], ['Иван Никифорович', 'Чай', 5, 414], ['Иван Иванович', 'Журнал \"Мурзилка\"', 6, 606], ['Элизабет', 'Чай', 8, 17], ['Иван Иванович', 'Простокваша', 9, 139], ['Иван Иванович', 'Кефир', 3, 730], ['Элизабет', 'Кефир', 2, 727], ['Элизабет', 'Журнал \"Мурзилка\"', 1, 618]], columns=['Покупатель', 'Товар', 'Количество', 'Цена'], index=[0, 1, 2, 3, 4, 5, 6, 7, 8, 9, 10, 11, 12, 13, 14, 15, 16, 17, 18, 19])) == ({'Ваня': 2979, 'Петя': 6474, 'Иван Никифорович': 13586, 'Иван Иванович': 17837, 'Элизабет': 6599}, {'Чай': 5014, 'Колбаса': 5298, 'Журнал \"Мурзилка\"': 9606, 'Хлеб': 14287, 'Простокваша': 4230, 'Молоко': 1812, 'Кефир': 7228})\n",
    "assert check_table(pd.DataFrame([['Петя', 'Простокваша', 8, 516], ['Петя', 'Молоко', 1, 779], ['Петя', 'Журнал \"Мурзилка\"', 2, 12], ['Иван Никифорович', 'Колбаса', 3, 776], ['Элизабет', 'Простокваша', 7, 810], ['Иван Никифорович', 'Журнал \"Мурзилка\"', 8, 368], ['Петя', 'Журнал \"Мурзилка\"', 6, 129], ['Иван Никифорович', 'Колбаса', 6, 246], ['Иван Иванович', 'Чай', 9, 297], ['Петя', 'Журнал \"Мурзилка\"', 7, 558], ['Петя', 'Колбаса', 3, 210], ['Ваня', 'Хлеб', 2, 916], ['Элизабет', 'Чай', 2, 395], ['Петя', 'Простокваша', 5, 317], ['Иван Иванович', 'Чай', 5, 892], ['Петя', 'Хлеб', 2, 389], ['Ваня', 'Кефир', 6, 771], ['Иван Никифорович', 'Простокваша', 5, 33], ['Элизабет', 'Чай', 3, 103], ['Элизабет', 'Кефир', 2, 91]], columns=['Покупатель', 'Товар', 'Количество', 'Цена'], index=[0, 1, 2, 3, 4, 5, 6, 7, 8, 9, 10, 11, 12, 13, 14, 15, 16, 17, 18, 19])) == ({'Ваня': 6458, 'Петя': 12604, 'Иван Никифорович': 6913, 'Иван Иванович': 7133, 'Элизабет': 6951}, {'Чай': 8232, 'Колбаса': 4434, 'Журнал \"Мурзилка\"': 7648, 'Хлеб': 2610, 'Простокваша': 11548, 'Молоко': 779, 'Кефир': 4808})"
   ]
  },
  {
   "cell_type": "markdown",
   "metadata": {},
   "source": [
    "### Задача 9 (2 балла)\n",
    "Написать функцию `mean_by_gender(grades, genders)`, принимающую на вход два series одинаковой длины: в grades записаны оценки некоторых студентов, а в genders — их пол в виде строк male или female. Требуется вернуть словарь, ключами которого будут строки `\"male\"` и `\"female\"`, а записями — среднее арифметическое оценок студентов соответствующего пола.\n",
    "\n",
    "Например, если `grades = pd.Series([5, 4, 3, 5, 2])` и `genders = pd.Series([\"female\", \"male\", \"male\", \"female\", \"male\"])`, функция должна вернуть словарь `{'male': 3.0, 'female': 5.0}`.\n",
    "\n",
    "**Подсказка.** Можно, конечно, создать два отдельных series, в один поместить оценки всех юношей, а в другой — всех девушек (подумайте, как это сделать), но есть решение и поизящнее: создать датафрейм, столбцами которого являются наши series (например, `pd.DataFrame` принимает на вход словарь, ключами которого являются имена столбцов, а значениями — сами столбцы), а затем применить метод `groupby`. Кстати, у series есть метод `to_dict()`."
   ]
  },
  {
   "cell_type": "code",
   "execution_count": 23,
   "metadata": {
    "deletable": false,
    "nbgrader": {
     "checksum": "0dfc6988575ef0ae2ffa3343850a0896",
     "grade_id": "mean_by_gender",
     "solution": true
    }
   },
   "outputs": [],
   "source": [
    "def mean_by_gender(grades, genders):\n",
    "    return {'male' :grades[genders == 'male'].mean(), 'female' :grades[genders == 'female'].mean()}"
   ]
  },
  {
   "cell_type": "code",
   "execution_count": 24,
   "metadata": {
    "deletable": false,
    "nbgrader": {
     "checksum": "fae9c7bd061af055ef7ee949df7435a8",
     "grade": true,
     "grade_id": "mean_by_gender_t",
     "locked": true,
     "points": 2,
     "solution": false
    }
   },
   "outputs": [],
   "source": [
    "def test(a, b, c):\n",
    "    assert mean_by_gender(pd.Series(a), pd.Series(b)) == c\n",
    "\n",
    "assert (mean_by_gender(pd.Series([5, 4, 3, 5, 2], index=['Alice', 'Bob',\n",
    "                                                        'Dan', 'Claudia',\n",
    "                                                        'John']), \n",
    "                       pd.Series([\"male\", \"female\",  \"male\", \n",
    "                                  \"female\", \"male\"], index=['Bob','Alice', \n",
    "                                                            'Dan',\n",
    "                                                            'Claudia', \n",
    "                                                            'John'])\n",
    "                      ) == {'female': 5, \n",
    "                                                          'male': 3})\n",
    "test([1, 0]*10, ['female', 'male']*10, {'female': 1, 'male': 0})\n",
    "test(range(100), ['female', 'male']* 50, {'female': 49.0, 'male': 50.0})\n",
    "test(list(range(100))+[100], ['male']*100+['female'], {'male':49.5, \n",
    "                                                       'female': 100.0})"
   ]
  },
  {
   "cell_type": "markdown",
   "metadata": {},
   "source": [
    "### Задача 10 (2 балла)\n",
    "\n",
    "Напишите функцию `filter_outliers(df)`, которая принимает на вход датафрейм произвольного размера, состоящий только из чисел. Функция должна вернуть копию входного датафрейма, внутри каждой из колонок которого заменить все числа, которые меньше 5-го персентиля или больше 95-персентиля по данной колонке, на число `0`. Обратите внимание, что персентиль должен считаться только по тем числам, которые записаны в этом столбце.\n",
    "\n",
    "**Подсказка.** Поищите, как найти квантили в `pandas`."
   ]
  },
  {
   "cell_type": "code",
   "execution_count": 25,
   "metadata": {
    "deletable": false,
    "nbgrader": {
     "checksum": "a2106c8470174643ca9e1d7a5e450d0e",
     "grade": false,
     "grade_id": "cell-33b81f22501c6f6c",
     "locked": false,
     "schema_version": 1,
     "solution": true
    }
   },
   "outputs": [],
   "source": [
    "def filter_outliers(df):\n",
    "    return df[(df <= df.quantile(q=0.95, axis=0)) & (df >= df.quantile(q=0.05, axis=0))].fillna(0)"
   ]
  },
  {
   "cell_type": "code",
   "execution_count": 26,
   "metadata": {
    "deletable": false,
    "nbgrader": {
     "checksum": "4c6c6a15c587161d2b98ef6458ace2e2",
     "grade": true,
     "grade_id": "cell-edad75d9f68a274b",
     "locked": true,
     "points": 2,
     "schema_version": 1,
     "solution": false
    }
   },
   "outputs": [],
   "source": [
    "ans = [{0:{0:31.0,1:-18.0,2:17.0,3:12.0,4:21.0,5:26.0,6:-18.0,7:-3.0,8:0.0,9:26.0},1:{0:-6.0,1:1.0,2:-19.0,3:37.0,4:39.0,5:0.0,6:30.0,7:-17.0,8:-19.0,9:14.0},2:{0:40.0,1:32.0,2:0.0,3:1.0,4:-6.0,5:30.0,6:0.0,7:39.0,8:39.0,9:15.0},3:{0:0.0,1:0.0,2:39.0,3:28.0,4:0.0,5:34.0,6:0.0,7:-7.0,8:23.0,9:29.0},4:{0:3.0,1:9.0,2:0.0,3:38.0,4:41.0,5:0.0,6:18.0,7:-12.0,8:-13.0,9:0.0}},\n",
    "      {0:{0:31.0,1:40.0,2:3.0,3:1.0,4:0.0,5:17.0,6:0.0,7:0.0},1:{0:-6.0,1:0.0,2:-18.0,3:32.0,4:9.0,5:0.0,6:0.0,7:12.0}},\n",
    "      {0:{0:31.0,1:3.0,2:0.0,3:0.0,4:37.0,5:21.0,6:41.0,7:34.0,8:-14.0,9:-17.0,10:32.0,11:-13.0,12:29.0,13:33.0,14:-3.0,15:-7.0,16:19.0,17:39.0,18:24.0,19:-13.0,20:14.0,21:20.0,22:13.0,23:41.0,24:0.0,25:-16.0,26:-6.0,27:31.0,28:22.0,29:11.0,30:21.0,31:-15.0,32:9.0,33:6.0,34:6.0,35:30.0,36:11.0,37:31.0,38:-18.0,39:0.0},1:{0:-6.0,1:0.0,2:9.0,3:39.0,4:1.0,5:39.0,6:26.0,7:0.0,8:0.0,9:39.0,10:0.0,11:26.0,12:-17.0,13:-17.0,14:23.0,15:27.0,16:32.0,17:20.0,18:0.0,19:42.0,20:14.0,21:7.0,22:12.0,23:16.0,24:26.0,25:-7.0,26:21.0,27:-17.0,28:8.0,29:38.0,30:24.0,31:7.0,32:41.0,33:41.0,34:-12.0,35:23.0,36:31.0,37:-9.0,38:35.0,39:33.0},2:{0:40.0,1:1.0,2:17.0,3:0.0,4:28.0,5:-6.0,6:41.0,7:-18.0,8:18.0,9:-7.0,10:39.0,11:14.0,12:0.0,13:33.0,14:13.0,15:-6.0,16:3.0,17:8.0,18:-12.0,19:-10.0,20:12.0,21:-14.0,22:27.0,23:23.0,24:-18.0,25:6.0,26:30.0,27:2.0,28:15.0,29:7.0,30:41.0,31:7.0,32:41.0,33:-18.0,34:41.0,35:3.0,36:41.0,37:18.0,38:38.0,39:0.0},3:{0:0.0,1:32.0,2:-19.0,3:12.0,4:38.0,5:41.0,6:30.0,7:30.0,8:-3.0,9:-12.0,10:23.0,11:15.0,12:-15.0,13:42.0,14:41.0,15:41.0,16:5.0,17:-6.0,18:-20.0,19:-13.0,20:-16.0,21:-9.0,22:2.0,23:14.0,24:-20.0,25:-12.0,26:42.0,27:-6.0,28:-8.0,29:0.0,30:36.0,31:23.0,32:-20.0,33:0.0,34:16.0,35:38.0,36:37.0,37:-19.0,38:-19.0,39:-2.0}}]\n",
    "params = ((50, 10, 0), (16, 8, 1), (160, 40, 2))\n",
    "for param in params:\n",
    "    np.random.seed(42)\n",
    "    dd = filter_outliers(pd.DataFrame(np.random.randint(-20, 50, param[0]).reshape(param[1],-1)))\n",
    "    assert dd.astype(float).equals(pd.DataFrame(ans[param[-1]]))"
   ]
  },
  {
   "cell_type": "markdown",
   "metadata": {},
   "source": [
    "### Задача 9 (3 балла)\n",
    "В некотором царстве, некотором государстве, раз в четыре года на земском соборе проходят выборы царя. Царство имеет федеративную структуру и состоит из земель. Каждая земля имеет право направить на съезд определённое число делегатов, чьи голоса и определят президента… ой, то есть царя. У разных земель разное число делегатов. По традиции, каждая земля на своей территории проводит выборы самостоятельно, после чего подводится их итог и определяется победитель в данной земле. Делегаты, которых отправляют на собор, обязаны проголосовать за того кандидата, который набрал в их земле большинство голосов («победитель получает всё»). Царём становится тот кандидат, который набрал большинство голосов делегатов. Разные земли имеют разное число делегатов.\n",
    "\n",
    "Требуется написать функцию `winner_votes(results)`, возвращающую двухэлементный кортеж: первый элемент — победитель, второй — число голосов делегатов, которые он набрал. Функция принимает на вход таблицу (`pd.DataFrame`), выглядящую примерно так:\n",
    "\n",
    "              state  electors  Arya Stark  Tyrion Lannister  Daenerys Targaryen\n",
    "    0    Winterfell         3         0.6               0.3                 0.1\n",
    "    1      Riverrun         5         0.3               0.2                 0.5\n",
    "    2  Vaes Dothrak         2         0.2               0.3                 0.5\n",
    "\n",
    "В первом столбце указано название земли, во втором — число делегатов от этой земли, в остальных столбцах — доля голосов жителей, которые набрал данный кандидат в данной земле.\n",
    "\n",
    "Например, для приведенной выше таблицы победителем в `Winterfell` будет `Arya Stark`, в остальных двух землях — `Daenerys Targaryen`. Арья наберёт 3 голоса делегатов, Дейнерис — 7 голосов. Победителем будет Дейнерис. Функция должна вернуть `(\"Daenerys Targaryen\", 7)`.\n",
    "\n",
    "Как обычно, запрещено использовать циклы.\n",
    "\n",
    "В случае, если два кандидата набирают равное число голосов, то побеждает тот, кто идёт первым по алфавиту.\n",
    "\n",
    "**Подсказка.** Вам пригодится метод `.idxmax()`. И ещё `.sort_index()`."
   ]
  },
  {
   "cell_type": "code",
   "execution_count": 27,
   "metadata": {
    "deletable": false,
    "nbgrader": {
     "checksum": "fd1abfcedd2afdd872d831e17c6cc43d",
     "grade_id": "pr6",
     "solution": true
    }
   },
   "outputs": [],
   "source": [
    "def winner_votes(df):\n",
    "    names = list(df.drop(['state', 'electors'], axis=1).idxmax(axis=1))\n",
    "    electors = list(df['electors'])\n",
    "    \n",
    "    df_new = pd.DataFrame(zip(names, electors), columns=['name', 'electors'])\n",
    "    result = list(df_new.groupby('name').sum().sort_values('electors', kind='mergesort', ascending=False).head(1).to_dict().values())[0]\n",
    "    \n",
    "    return list(result.items())[0]"
   ]
  },
  {
   "cell_type": "code",
   "execution_count": 28,
   "metadata": {
    "deletable": false,
    "nbgrader": {
     "checksum": "dcca08aaee29e2d6e55afc47a43106ac",
     "grade": true,
     "grade_id": "pr6t1",
     "locked": true,
     "points": 3,
     "solution": false
    }
   },
   "outputs": [],
   "source": [
    "import random\n",
    "import numpy as np\n",
    "\n",
    "df = pd.DataFrame([['Winterfell', 3, 0.6, 0.3, 0.1],\n",
    " ['Riverrun', 5, 0.3, 0.2, 0.5],\n",
    " ['Vaes Dothrak', 2, 0.2, 0.3, 0.5]], columns=['state', 'electors', \n",
    "                                               'Arya Stark', \n",
    "                                               'Tyrion Lannister', \n",
    "                                               'Daenerys Targaryen'])\n",
    "\n",
    "\n",
    "assert winner_votes(df) == (\"Daenerys Targaryen\", 7)\n",
    "\n",
    "def mktable(seed):\n",
    "    states = ['Florida', 'Connecticut', 'Georgia', 'Texas', 'Vermont', \n",
    "              'New Mexico', 'Illinois', 'Kentucky', 'Iowa', 'Alaska', \n",
    "              'New York', 'Massachusetts', 'Arkansas', 'Missouri', 'Kansas', \n",
    "              'Idaho', 'Wisconsin', 'Mississippi', 'Washington', 'Oklahoma', \n",
    "              'California', 'South Carolina', 'Hawaii', 'Maryland', 'Arizona', \n",
    "              'Montana', 'Ohio', 'Oregon', 'Rhode Island', 'South Dakota', \n",
    "              'Alabama', 'North Dakota', 'Virginia', 'New Jersey', 'Wyoming', \n",
    "              'Maine', 'D.C.', 'Tennessee', 'Pennsylvania', 'Nebraska', \n",
    "              'Delaware', 'Michigan', 'New Hampshire', 'Indiana', \n",
    "              'North Carolina', 'Colorado', 'West Virginia', 'Utah', \n",
    "              'Minnesota', 'Louisiana', 'Nevada']\n",
    "    candidates = ['Clinton', 'Trump', 'Johnson', 'Stein', 'Castle', \n",
    "                  'McMullin']\n",
    "    random.seed(seed)\n",
    "    np.random.seed(seed)\n",
    "    states_ = random.sample(states, random.randrange(1, len(states)))\n",
    "    candidates_ = random.sample(candidates, \n",
    "                                random.randrange(1, len(candidates)))\n",
    "    results = np.random.uniform(size=(len(candidates_), len(states_)))\n",
    "    results = (results / results.sum(axis=0)).T\n",
    "    electors = np.random.randint(1, 20, size=len(states_))\n",
    "    return pd.concat([pd.Series(states_, name='state'),\n",
    "                      pd.Series(electors, name='electors'), \n",
    "                      pd.DataFrame(results,\n",
    "                                   columns=candidates_)], axis=1)\n",
    "\n",
    "for i, result in enumerate([('Stein', 107), ('Clinton', 48), ('Castle', 18), \n",
    "                            ('Trump', 63), ('Johnson', 88), ('Johnson', 196), \n",
    "                            ('Johnson', 88), ('McMullin', 62), ('Trump', 51), \n",
    "                            ('Johnson', 295), ('Johnson', 79), ('Stein', 84), \n",
    "                            ('Clinton', 285), ('Trump', 84), ('Stein', 55), \n",
    "                            ('McMullin', 59), ('Clinton', 110), \n",
    "                            ('McMullin', 162), ('Johnson', 45), \n",
    "                            ('Clinton', 165), ('Castle', 156), \n",
    "                            ('Johnson', 47), ('Trump', 83), ('Trump', 287), \n",
    "                            ('Stein', 268), ('Castle', 275), ('Clinton', 235), \n",
    "                            ('Trump', 434), ('Stein', 24), ('Castle', 135), \n",
    "                            ('Trump', 99), ('Stein', 17), ('Clinton', 23), \n",
    "                            ('Clinton', 133), ('Trump', 159), ('Trump', 88), \n",
    "                            ('McMullin', 77), ('Johnson', 436), \n",
    "                            ('Stein', 211), ('Johnson', 158), ('Trump', 114), \n",
    "                            ('Castle', 259), ('Johnson', 431), \n",
    "                            ('Johnson', 19), ('Castle', 304), ('Trump', 118), \n",
    "                            ('Castle', 18), ('McMullin', 141), \n",
    "                            ('Clinton', 197), ('McMullin', 14), \n",
    "                            ('Trump', 259), ('Castle', 87), ('Trump', 171), \n",
    "                            ('Castle', 120), ('Johnson', 48), ('Stein', 54), \n",
    "                            ('Trump', 382), ('Trump', 30), ('Trump', 134), \n",
    "                            ('McMullin', 77), ('Trump', 72), ('Stein', 114), \n",
    "                            ('Clinton', 152), ('McMullin', 105), \n",
    "                            ('Clinton', 279), ('Trump', 241), ('Castle', 23), \n",
    "                            ('McMullin', 27), ('Stein', 148), ('Trump', 420), \n",
    "                            ('Castle', 42), ('Clinton', 114), ('Stein', 23), \n",
    "                            ('Castle', 68), ('Clinton', 328), \n",
    "                            ('Johnson', 149), ('Trump', 97), ('Trump', 91), \n",
    "                            ('Trump', 51), ('McMullin', 45), ('Johnson', 56), \n",
    "                            ('McMullin', 167), ('Stein', 57), ('Castle', 111), \n",
    "                            ('Stein', 477), ('McMullin', 82), \n",
    "                            ('Clinton', 173), ('Clinton', 77), ('Trump', 273), \n",
    "                            ('Trump', 43), ('Trump', 68), ('Stein', 34), \n",
    "                            ('McMullin', 185), ('Clinton', 293), \n",
    "                            ('Johnson', 138), ('Stein', 261), \n",
    "                            ('Johnson', 131), ('Johnson', 58), \n",
    "                            ('Trump', 85), ('McMullin', 283)]):\n",
    "    assert winner_votes(mktable(i)) == result, \"Something wrong \"\\\n",
    "                                               \"with table\\n\" + \\\n",
    "                                            str(mktable(i)) + \"\\nExpected \" +\\\n",
    "                                            str(result) + \"\\nObtained: \" + \\\n",
    "                                            str(winner_votes(mktable(i)))"
   ]
  }
 ],
 "metadata": {
  "kernelspec": {
   "display_name": "Python 3",
   "language": "python",
   "name": "python3"
  },
  "language_info": {
   "codemirror_mode": {
    "name": "ipython",
    "version": 3
   },
   "file_extension": ".py",
   "mimetype": "text/x-python",
   "name": "python",
   "nbconvert_exporter": "python",
   "pygments_lexer": "ipython3",
   "version": "3.8.5"
  }
 },
 "nbformat": 4,
 "nbformat_minor": 2
}
