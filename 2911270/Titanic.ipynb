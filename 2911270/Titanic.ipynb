{
 "cells": [
  {
   "cell_type": "markdown",
   "metadata": {},
   "source": [
    "# Титаник (вариант 1)"
   ]
  },
  {
   "cell_type": "markdown",
   "metadata": {},
   "source": [
    "1. Определите количество мужчин и женщин, которые ехали на корабле.\n"
   ]
  },
  {
   "cell_type": "code",
   "execution_count": 1,
   "metadata": {},
   "outputs": [],
   "source": [
    "#  Импорт модулей для обработки данных\n",
    "import pandas as pd\n",
    "import numpy as np\n",
    "\n",
    "import matplotlib.pyplot as plt\n",
    "from scipy.stats import pearsonr  #  Функция возвращает коэффициент корреляции Пирсона и p-value\n",
    "import scipy.stats as sts\n",
    "\n",
    "import seaborn\n",
    "\n",
    "%matplotlib inline"
   ]
  },
  {
   "cell_type": "code",
   "execution_count": 2,
   "metadata": {},
   "outputs": [],
   "source": [
    "df = pd.read_csv(\"C:\\\\Users\\\\MrRobot\\\\Downloads\\\\WPy64-3870\\\\notebooks\\\\titanic.csv\")  #  Чтение таблицы по ссылке"
   ]
  },
  {
   "cell_type": "code",
   "execution_count": 3,
   "metadata": {},
   "outputs": [
    {
     "data": {
      "text/plain": [
       "Sex\n",
       "female    314\n",
       "male      577\n",
       "Name: PassengerId, dtype: int64"
      ]
     },
     "execution_count": 3,
     "metadata": {},
     "output_type": "execute_result"
    }
   ],
   "source": [
    "df.groupby([\"Sex\"])[\"PassengerId\"].count()  #  Определение количества мужчин и женщин на корабле"
   ]
  },
  {
   "cell_type": "markdown",
   "metadata": {},
   "source": [
    "2. Определите какой части пассажиров удалось выжить. Посчитайте долю выживших пассажиров.\n"
   ]
  },
  {
   "cell_type": "code",
   "execution_count": 4,
   "metadata": {},
   "outputs": [
    {
     "data": {
      "text/plain": [
       "342"
      ]
     },
     "execution_count": 4,
     "metadata": {},
     "output_type": "execute_result"
    }
   ],
   "source": [
    "df[df[\"Survived\"] == 1][\"Survived\"].sum()  #  Количество выживших пассажиров"
   ]
  },
  {
   "cell_type": "code",
   "execution_count": 5,
   "metadata": {},
   "outputs": [
    {
     "data": {
      "text/plain": [
       "0.3838383838383838"
      ]
     },
     "execution_count": 5,
     "metadata": {},
     "output_type": "execute_result"
    }
   ],
   "source": [
    "df.groupby([\"Survived\"])[\"PassengerId\"].count().iloc[1]/df['PassengerId'].count()  #  Доля выживших пассажиров"
   ]
  },
  {
   "cell_type": "markdown",
   "metadata": {},
   "source": [
    "3. Какую долю пассажиры первого класса составляли среди всех пассажиров?\n"
   ]
  },
  {
   "cell_type": "code",
   "execution_count": 6,
   "metadata": {},
   "outputs": [
    {
     "name": "stdout",
     "output_type": "stream",
     "text": [
      "Доля пассажиров в первом классе: 0.24242424242424243\n"
     ]
    }
   ],
   "source": [
    "passengers = df['PassengerId'].count()  #  Переменной passengers присваиваем количество пассажиров\n",
    "prop_passengers_first = df.groupby([\"Pclass\"])[\"PassengerId\"].count().loc[1] / passengers  #  Доля пассажиров в первом классе\n",
    "print(f\"Доля пассажиров в первом классе: {prop_passengers_first}\")"
   ]
  },
  {
   "cell_type": "markdown",
   "metadata": {},
   "source": [
    "4. Какого возраста были пассажиры? Посчитайте среднее и медиану возраста пассажиров.\n"
   ]
  },
  {
   "cell_type": "code",
   "execution_count": 7,
   "metadata": {},
   "outputs": [
    {
     "name": "stdout",
     "output_type": "stream",
     "text": [
      "Средний возраст пассажиров: 29.69911764705882\n",
      "Медиана возраста пассажиров: 28.0\n"
     ]
    }
   ],
   "source": [
    "mean_age = df[\"Age\"].mean()  #  Средний возраст пассажиров\n",
    "median_age = df[\"Age\"].median()  #  Медиана возраста пассажиров\n",
    "print(f\"Средний возраст пассажиров: {mean_age}\\nМедиана возраста пассажиров: {median_age}\")"
   ]
  },
  {
   "cell_type": "markdown",
   "metadata": {},
   "source": [
    "5. Коррелируют ли число братьев/сестер с числом родителей/детей? Посчитайте корреляцию Пирсона между признаками SibSp и Parch. Оцените значение p-value. Постройте плотность распределения признаков SibSp и Parch.\n"
   ]
  },
  {
   "cell_type": "code",
   "execution_count": 8,
   "metadata": {},
   "outputs": [
    {
     "name": "stdout",
     "output_type": "stream",
     "text": [
      "Коэффициент корреляции Пирсона: 0.4148376986201561\n",
      "Коэффициент значимости p-value: 2.2418236681384912e-38\n"
     ]
    }
   ],
   "source": [
    "SibSp_ = df[\"SibSp\"]  #  Братьев и сестер на борту\n",
    "Parch_ = df[\"Parch\"]  #  Родителей и детей на борту\n",
    "r, p_value = pearsonr(SibSp_, Parch_)  #  Функция возвращает коэффициент корреляции Пирсона и p-value\n",
    "print(\"Коэффициент корреляции Пирсона: {0}\\nКоэффициент значимости p-value: {1}\".format(r, p_value))"
   ]
  },
  {
   "cell_type": "code",
   "execution_count": 9,
   "metadata": {},
   "outputs": [
    {
     "data": {
      "text/plain": [
       "<AxesSubplot:ylabel='Density'>"
      ]
     },
     "execution_count": 9,
     "metadata": {},
     "output_type": "execute_result"
    },
    {
     "data": {
      "image/png": "[encoded data removed]",
      "text/plain": [
       "<Figure size 432x288 with 1 Axes>"
      ]
     },
     "metadata": {
      "needs_background": "light"
     },
     "output_type": "display_data"
    }
   ],
   "source": [
    "SibSp_.plot.kde()  #  Плотность распределения признаков SibSp"
   ]
  },
  {
   "cell_type": "code",
   "execution_count": 10,
   "metadata": {},
   "outputs": [
    {
     "data": {
      "text/plain": [
       "<AxesSubplot:ylabel='Density'>"
      ]
     },
     "execution_count": 10,
     "metadata": {},
     "output_type": "execute_result"
    },
    {
     "data": {
      "image/png": "[encoded data removed]",
      "text/plain": [
       "<Figure size 432x288 with 1 Axes>"
      ]
     },
     "metadata": {
      "needs_background": "light"
     },
     "output_type": "display_data"
    }
   ],
   "source": [
    "Parch_.plot.kde()  #  Плотность распределения признаков Parch"
   ]
  },
  {
   "cell_type": "markdown",
   "metadata": {},
   "source": [
    "6. Какое самое популярное женское имя на корабле? Извлеките из полного имени пассажира (колонка Name) его личное имя (First Name). Попробуйте вручную разобрать несколько значений столбца Name и выработать правило для извлечения имен, а также разделения их на женские и мужские.\n"
   ]
  },
  {
   "cell_type": "code",
   "execution_count": 11,
   "metadata": {},
   "outputs": [
    {
     "data": {
      "text/plain": [
       "Name                                   Sex   \n",
       "Abbing, Mr. Anthony                    male      1\n",
       "Abbott, Mr. Rossmore Edward            male      1\n",
       "Abbott, Mrs. Stanton (Rosa Hunt)       female    1\n",
       "Abelson, Mr. Samuel                    male      1\n",
       "Abelson, Mrs. Samuel (Hannah Wizosky)  female    1\n",
       "Name: PassengerId, dtype: int64"
      ]
     },
     "execution_count": 11,
     "metadata": {},
     "output_type": "execute_result"
    }
   ],
   "source": [
    "df.groupby([\"Name\", \"Sex\"])[\"PassengerId\"].count().head()  #  Посмотрим на закономерность имен"
   ]
  },
  {
   "cell_type": "code",
   "execution_count": 12,
   "metadata": {},
   "outputs": [
    {
     "name": "stdout",
     "output_type": "stream",
     "text": [
      "Количество уникальных женских имен: 203\n",
      "Женское имя William встречается максимальное количество раз: 13\n"
     ]
    }
   ],
   "source": [
    "names = df[\"Name\"][(df.Sex==\"female\")].apply(lambda name: name.split('.')[1].strip().split(' ')[0].strip())  #  Сортировка столбца Name по признаку fename\n",
    "print(f\"Количество уникальных женских имен: {names.nunique()}\")  #  nunique() - Выбирает уникальные названия\n",
    "tmp = dict([('name', names), ('id', range(len(names)))])  #  Создание словаря с женскими именами\n",
    "names = pd.DataFrame(tmp)  #  По словарю создаем новыу таблицу с женскими именами\n",
    "names_count = names.groupby([\"name\"]).count()  #  Группировка по именам\n",
    "max_name = names_count.max()  #  Неизвестное имя, которое встретилось максимальное количество раз\n",
    "tmpTableName = names_count[names_count.id == int(max_name)]  #  Таблица с именем, которое встречается максимальное количество раз\n",
    "isName = list(tmpTableName.index)[0]  #  Имя, которое встречается максимальное количество раз\n",
    "print (f\"Женское имя {isName} встречается максимальное количество раз: {int(max_name)}\")  #  Вывод информации"
   ]
  },
  {
   "cell_type": "markdown",
   "metadata": {},
   "source": [
    "7. Коррелирует ли класс, которым ехал пассажир, с выживаемостью?\n"
   ]
  },
  {
   "cell_type": "code",
   "execution_count": 13,
   "metadata": {},
   "outputs": [
    {
     "data": {
      "text/plain": [
       "Survived  Pclass\n",
       "0         1          80\n",
       "          2          97\n",
       "          3         372\n",
       "1         1         136\n",
       "          2          87\n",
       "          3         119\n",
       "Name: Pclass, dtype: int64"
      ]
     },
     "execution_count": 13,
     "metadata": {},
     "output_type": "execute_result"
    }
   ],
   "source": [
    "df.groupby([\"Survived\", \"Pclass\"])[\"Pclass\"].count()  #  Видно, что погибших людей, ехавших классом 3 больше относительно 1 класса"
   ]
  },
  {
   "cell_type": "code",
   "execution_count": 14,
   "metadata": {},
   "outputs": [
    {
     "name": "stdout",
     "output_type": "stream",
     "text": [
      "Погибших пассажиров 1 класса: 80\n",
      "Погибших пассажиров 3 класса: 372\n",
      "Коэффициент корреляции Пирсона: 0.4148376986201561\n",
      "Коэффициент значимости p-value: 2.2418236681384912e-38\n"
     ]
    }
   ],
   "source": [
    "Unsurvived_1 = df[(df[\"Pclass\"]==1)&(df[\"Survived\"]==0)]  #  Погибшие 1 класса\n",
    "Unsurvived_3 = df[(df[\"Pclass\"]==3)&(df[\"Survived\"]==0)]  #  Погибшие 3 класса\n",
    "print(\"Погибших пассажиров 1 класса: {0}\\nПогибших пассажиров 3 класса: {1}\".format(Unsurvived_1[\"Survived\"].count(), Unsurvived_3[\"Survived\"].count()))\n",
    "\n",
    "df_Pclass_13 = df[(df[\"Pclass\"]>2) | (df[\"Pclass\"]<2)]  #  Убираем 2 класс\n",
    "df_Pclass_13 = df_Pclass_13[\"Pclass\"]  #  Выбираем по признаку класса\n",
    "df_Survived = df[\"Survived\"]  #  Выбираем по признаку выживших\n",
    "\n",
    "print(\"Коэффициент корреляции Пирсона: {0}\\nКоэффициент значимости p-value: {1}\".format(r, p_value))  #  Уровень p-value достаточно низок, что подтверждает не случайность корреляции"
   ]
  },
  {
   "cell_type": "markdown",
   "metadata": {},
   "source": [
    "8. Визуализируйте гистограммы возраста для выживших и не выживших пассажиров. Сделайте выводы. Отобразите данные на одном и нескольких графиках\n"
   ]
  },
  {
   "cell_type": "code",
   "execution_count": 15,
   "metadata": {},
   "outputs": [],
   "source": [
    "df = df.dropna()  #  Удаляем NaN\n",
    "age_surv = df.drop([\"PassengerId\", \"Pclass\", \"Name\", \"Sex\", \"SibSp\", \"Parch\", \"Ticket\", \"Fare\", \"Cabin\", \"Embarked\"], axis = \"columns\")  #  Удаление ненужных столбцов\n",
    "age_surv_0 = age_surv[age_surv.Survived == 0]  #  Таблица возрастов невыживших пассажиров\n",
    "age_surv_1 = age_surv[age_surv.Survived == 1]  #  Таблица возрастов выживших пассажиров"
   ]
  },
  {
   "cell_type": "code",
   "execution_count": 16,
   "metadata": {},
   "outputs": [
    {
     "data": {
      "text/plain": [
       "<AxesSubplot:xlabel='Age', ylabel='Count'>"
      ]
     },
     "execution_count": 16,
     "metadata": {},
     "output_type": "execute_result"
    },
    {
     "data": {
      "image/png": "[encoded data removed]",
      "text/plain": [
       "<Figure size 432x288 with 1 Axes>"
      ]
     },
     "metadata": {
      "needs_background": "light"
     },
     "output_type": "display_data"
    }
   ],
   "source": [
    "seaborn.histplot(age_surv_0.Age)  #  Гистограмма не выживших пассажиров seaborn"
   ]
  },
  {
   "cell_type": "code",
   "execution_count": 17,
   "metadata": {},
   "outputs": [
    {
     "data": {
      "text/plain": [
       "<AxesSubplot:xlabel='Age', ylabel='Count'>"
      ]
     },
     "execution_count": 17,
     "metadata": {},
     "output_type": "execute_result"
    },
    {
     "data": {
      "image/png": "[encoded data removed]",
      "text/plain": [
       "<Figure size 432x288 with 1 Axes>"
      ]
     },
     "metadata": {
      "needs_background": "light"
     },
     "output_type": "display_data"
    }
   ],
   "source": [
    "seaborn.histplot(age_surv_1.Age)  #  Гистограмма выживших пассажиров seaborn"
   ]
  },
  {
   "cell_type": "markdown",
   "metadata": {},
   "source": [
    "__Вывод__:  по гистограмме выживших можно судить, что выживаемость была выше среди людей от 20 до 40 лет. Также видно, что выживаемость среди детей больше (так как люди стремятся спасать детей в первую очередь). Пик гистограммы погибших - люди, возраста около 40. Таким образом пик гистограммы выживших смещен по возрасту влево, относительно пика гистограммы погибших."
   ]
  },
  {
   "cell_type": "markdown",
   "metadata": {},
   "source": [
    "9. Визуализируйте гистограммы возраста для выживших и не выживших пассажиров по классам. Сделайте выводы.\n"
   ]
  },
  {
   "cell_type": "code",
   "execution_count": 18,
   "metadata": {},
   "outputs": [],
   "source": [
    "class_surv = df.drop([\"PassengerId\", \"Age\", \"Name\", \"Sex\", \"SibSp\", \"Parch\", \"Ticket\", \"Fare\", \"Cabin\", \"Embarked\"], axis = \"columns\")  #  Удаление ненужных столбцов\n",
    "class_surv_0 = class_surv[class_surv.Survived == 0]  #  Таблица возрастов невыживших пассажиров\n",
    "class_surv_1 = class_surv[class_surv.Survived == 1]  #  Таблица возрастов выживших пассажиров"
   ]
  },
  {
   "cell_type": "code",
   "execution_count": 19,
   "metadata": {},
   "outputs": [
    {
     "data": {
      "text/plain": [
       "array([[<AxesSubplot:title={'center':'Age'}>]], dtype=object)"
      ]
     },
     "execution_count": 19,
     "metadata": {},
     "output_type": "execute_result"
    },
    {
     "data": {
      "image/png": "[encoded data removed]",
      "text/plain": [
       "<Figure size 432x288 with 1 Axes>"
      ]
     },
     "metadata": {
      "needs_background": "light"
     },
     "output_type": "display_data"
    },
    {
     "data": {
      "image/png": "[encoded data removed]",
      "text/plain": [
       "<Figure size 432x288 with 1 Axes>"
      ]
     },
     "metadata": {
      "needs_background": "light"
     },
     "output_type": "display_data"
    }
   ],
   "source": [
    "df.query('Survived == True and Pclass == 1')[['Age']].hist()\n",
    "df.query('Survived == False and Pclass == 1')[['Age']].hist()"
   ]
  },
  {
   "cell_type": "code",
   "execution_count": 20,
   "metadata": {},
   "outputs": [
    {
     "data": {
      "text/plain": [
       "array([[<AxesSubplot:title={'center':'Age'}>]], dtype=object)"
      ]
     },
     "execution_count": 20,
     "metadata": {},
     "output_type": "execute_result"
    },
    {
     "data": {
      "image/png": "[encoded data removed]",
      "text/plain": [
       "<Figure size 432x288 with 1 Axes>"
      ]
     },
     "metadata": {
      "needs_background": "light"
     },
     "output_type": "display_data"
    },
    {
     "data": {
      "image/png": "[encoded data removed]",
      "text/plain": [
       "<Figure size 432x288 with 1 Axes>"
      ]
     },
     "metadata": {
      "needs_background": "light"
     },
     "output_type": "display_data"
    }
   ],
   "source": [
    "df.query('Survived == True and Pclass == 2')[['Age']].hist()\n",
    "df.query('Survived == False and Pclass == 2')[['Age']].hist()"
   ]
  },
  {
   "cell_type": "code",
   "execution_count": 21,
   "metadata": {},
   "outputs": [
    {
     "data": {
      "text/plain": [
       "array([[<AxesSubplot:title={'center':'Age'}>]], dtype=object)"
      ]
     },
     "execution_count": 21,
     "metadata": {},
     "output_type": "execute_result"
    },
    {
     "data": {
      "image/png": "[encoded data removed]",
      "text/plain": [
       "<Figure size 432x288 with 1 Axes>"
      ]
     },
     "metadata": {
      "needs_background": "light"
     },
     "output_type": "display_data"
    },
    {
     "data": {
      "image/png": "[encoded data removed]",
      "text/plain": [
       "<Figure size 432x288 with 1 Axes>"
      ]
     },
     "metadata": {
      "needs_background": "light"
     },
     "output_type": "display_data"
    }
   ],
   "source": [
    "df.query('Survived == True and Pclass == 3')[['Age']].hist()\n",
    "df.query('Survived == False and Pclass == 3')[['Age']].hist()"
   ]
  },
  {
   "cell_type": "code",
   "execution_count": 22,
   "metadata": {},
   "outputs": [
    {
     "data": {
      "text/plain": [
       "<AxesSubplot:>"
      ]
     },
     "execution_count": 22,
     "metadata": {},
     "output_type": "execute_result"
    },
    {
     "data": {
      "image/png": "[encoded data removed]",
      "text/plain": [
       "<Figure size 432x288 with 1 Axes>"
      ]
     },
     "metadata": {
      "needs_background": "light"
     },
     "output_type": "display_data"
    }
   ],
   "source": [
    "class_surv_0.Pclass.hist(bins = 5)  #  Гистограмма погибших и выживших по классам.\n",
    "class_surv_1.Pclass.hist(bins = 10)"
   ]
  },
  {
   "cell_type": "markdown",
   "metadata": {},
   "source": [
    "__Вывод__:  по гистограммам видно, что выживших 1 класса больше, чем выживших 3. Некоторые данные удалены из таблицы по причине отсутствия конкретных значений, поэтому количество людей может отличаться."
   ]
  },
  {
   "cell_type": "markdown",
   "metadata": {},
   "source": [
    "10. Постройте столбчатую диаграмму количества людей: мужчины, женщины, дети."
   ]
  },
  {
   "cell_type": "code",
   "execution_count": 23,
   "metadata": {},
   "outputs": [
    {
     "data": {
      "text/plain": [
       "<AxesSubplot:xlabel='sex', ylabel='count'>"
      ]
     },
     "execution_count": 23,
     "metadata": {},
     "output_type": "execute_result"
    },
    {
     "data": {
      "image/png": "[encoded data removed]",
      "text/plain": [
       "<Figure size 432x288 with 1 Axes>"
      ]
     },
     "metadata": {
      "needs_background": "light"
     },
     "output_type": "display_data"
    }
   ],
   "source": [
    "stolb = pd.DataFrame({'count': [len(df.loc[df.Sex == \"male\"]),len(df.loc[df.Sex == \"female\"]),len(df.query(\"Age < 18\"))],\n",
    "'sex': [\"male\",\"female\",\"child\"]})\n",
    "seaborn.barplot(data=stolb, y='count', x='sex')"
   ]
  }
 ],
 "metadata": {
  "kernelspec": {
   "display_name": "Python 3",
   "language": "python",
   "name": "python3"
  },
  "language_info": {
   "codemirror_mode": {
    "name": "ipython",
    "version": 3
   },
   "file_extension": ".py",
   "mimetype": "text/x-python",
   "name": "python",
   "nbconvert_exporter": "python",
   "pygments_lexer": "ipython3",
   "version": "3.8.7"
  }
 },
 "nbformat": 4,
 "nbformat_minor": 4
}
