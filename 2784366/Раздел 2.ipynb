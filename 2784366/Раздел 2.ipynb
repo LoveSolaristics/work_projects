{
 "cells": [
  {
   "cell_type": "markdown",
   "metadata": {},
   "source": [
    "## 2.1 Целочисленные алгоритмы"
   ]
  },
  {
   "cell_type": "code",
   "execution_count": 30,
   "metadata": {},
   "outputs": [
    {
     "name": "stdout",
     "output_type": "stream",
     "text": [
      "Для n = 10 число шагов нашего алгоритма = 15; решето Эратосфена делает 5 шагов.\n",
      "Для n = 25 число шагов нашего алгоритма = 103; решето Эратосфена делает 18 шагов.\n",
      "Для n = 50 число шагов нашего алгоритма = 350; решето Эратосфена делает 45 шагов.\n",
      "Для n = 100 число шагов нашего алгоритма = 1133; решето Эратосфена делает 104 шагов.\n"
     ]
    }
   ],
   "source": [
    "# 1\n",
    "def is_prime(n):\n",
    "    result = []\n",
    "    steps = 0\n",
    "    for number in range(2, n+1):\n",
    "        is_prime = True\n",
    "        for potential_divisor in range(2, number):\n",
    "            steps += 1\n",
    "            if number % potential_divisor == 0:\n",
    "                is_prime = False\n",
    "                break\n",
    "        if is_prime:\n",
    "            result.append(number)\n",
    "    return result, steps\n",
    "\n",
    "def is_prime_eratosthenes(N):     # n - число, до которого хотим найти простые числа \n",
    "    steps = 0\n",
    "    A = [True]*(N+1)\n",
    "    k = 2\n",
    "    while k*k <= N:\n",
    "        if A[k]:\n",
    "            i = k*k\n",
    "            while i <= N:\n",
    "                steps += 1\n",
    "                A[i] = False\n",
    "                i += k\n",
    "        k += 1\n",
    "    return [i for i in range(2, N+1) if A[i]], steps\n",
    "\n",
    "n = 10\n",
    "print(f'Для n = {n} число шагов нашего алгоритма = {is_prime(n)[1]}; решето Эратосфена делает {is_prime_eratosthenes(n)[1]} шагов.')\n",
    "n = 25\n",
    "print(f'Для n = {n} число шагов нашего алгоритма = {is_prime(n)[1]}; решето Эратосфена делает {is_prime_eratosthenes(n)[1]} шагов.')\n",
    "n = 50\n",
    "print(f'Для n = {n} число шагов нашего алгоритма = {is_prime(n)[1]}; решето Эратосфена делает {is_prime_eratosthenes(n)[1]} шагов.')\n",
    "n = 100\n",
    "print(f'Для n = {n} число шагов нашего алгоритма = {is_prime(n)[1]}; решето Эратосфена делает {is_prime_eratosthenes(n)[1]} шагов.')\n",
    "#  очевидно, алгоритм, использующий решето Эратосфена, работает быстрее"
   ]
  },
  {
   "cell_type": "code",
   "execution_count": 37,
   "metadata": {},
   "outputs": [
    {
     "name": "stdout",
     "output_type": "stream",
     "text": [
      "\n",
      "1.000.000.001\n",
      "2.000.000.002\n",
      "3.000.000.003\n",
      "4.000.000.004\n",
      "5.000.000.005\n",
      "6.000.000.006\n",
      "7.000.000.007\n",
      "8.000.000.008\n",
      "9.000.000.009\n"
     ]
    }
   ],
   "source": [
    "# 2\n",
    "def preparation():\n",
    "    f = open('2.1.2.txt', 'w')\n",
    "    for i in range(10):\n",
    "        print(i*10**9 + i, file = f)\n",
    "    f.close()\n",
    "    \n",
    "def long_numbers(file_name):\n",
    "    f = open(file_name, 'r')\n",
    "    result = []\n",
    "    for line in f:\n",
    "        number_array = []\n",
    "        number = int(line)\n",
    "        while number:\n",
    "            number_array.append(number%1000)\n",
    "            number//=1000\n",
    "        result.append(number_array)\n",
    "    f.close()\n",
    "    return result\n",
    "\n",
    "def print_long_numbers(number):\n",
    "    for index, elem in enumerate(number):\n",
    "        if index == 0:\n",
    "            print(elem, end='')\n",
    "        else:\n",
    "            print('.{:03d}'.format(elem), end='')\n",
    "            \n",
    "# если нужен файл для подготовки - раскомментировать\n",
    "# preparation() \n",
    "\n",
    "a = long_numbers('2.1.2.txt')\n",
    "for number in a:\n",
    "    print_long_numbers(number)\n",
    "    print()"
   ]
  },
  {
   "cell_type": "code",
   "execution_count": 63,
   "metadata": {},
   "outputs": [
    {
     "name": "stdout",
     "output_type": "stream",
     "text": [
      "1.123.123 + 1.123.123 = 2.246.246\n",
      "1.123.123 - 1.123.123 = 0"
     ]
    }
   ],
   "source": [
    "# 3\n",
    "\n",
    "# Данная программа работает только для положительных чисел, где a >= b\n",
    "def sum(a,b):\n",
    "    result = [] # результат операции\n",
    "    \n",
    "    # уравниваеем количество разрядов в числах\n",
    "    if len(a) > len(b):\n",
    "        b = [0] * (len(a) - len(b)) + b\n",
    "    else:\n",
    "        a = [0] * (len(b) - len(a)) + a\n",
    "    n = len(a)\n",
    "    \n",
    "    temp = 0 # то, что нужно перенести в следующий разряд\n",
    "    for i in range(n-1, -1, -1):\n",
    "        new_elem = (a[i] + b[i] + temp)%1000\n",
    "        result.append(new_elem)\n",
    "        temp = new_elem // 1000\n",
    "        \n",
    "    # если что-то еще нужно перенести в новый разряд\n",
    "    if temp != 0:\n",
    "        result.append(temp)\n",
    "    print_long_numbers(reversed(result))\n",
    "\n",
    "def sub(a,b):\n",
    "    result = [] # результат операции\n",
    "    \n",
    "    # уравниваеем количество разрядов в числах\n",
    "    if len(a) > len(b):\n",
    "        b = [0] * (len(a) - len(b)) + b\n",
    "    else:\n",
    "        a = [0] * (len(b) - len(a)) + a\n",
    "    n = len(a)\n",
    "    \n",
    "    temp = 0\n",
    "    for i in range(n-1, -1, -1):\n",
    "        new_elem = (a[i] - b[i]- temp)\n",
    "        if new_elem < 0:\n",
    "            new_elem = 1000 + new_elem\n",
    "            temp = 1\n",
    "        result.append(new_elem)\n",
    "    \n",
    "    # убираем лидирующие нули\n",
    "    while result[-1] == 0 and len(result) > :\n",
    "        result.pop()\n",
    "    print_long_numbers(reversed(result))\n",
    "    \n",
    "# начальные данные\n",
    "a = [1,123, 123]\n",
    "b = [1,123, 123]\n",
    "\n",
    "# сложение\n",
    "print_long_numbers(a)\n",
    "print(' + ', end='')\n",
    "print_long_numbers(b)\n",
    "print(' = ', end='')\n",
    "sum(a,b)\n",
    "\n",
    "print()\n",
    "\n",
    "# вычитание\n",
    "print_long_numbers(a)\n",
    "print(' - ', end='')\n",
    "print_long_numbers(b)\n",
    "print(' = ', end='')\n",
    "sub(a,b)"
   ]
  },
  {
   "cell_type": "code",
   "execution_count": 71,
   "metadata": {},
   "outputs": [
    {
     "name": "stdout",
     "output_type": "stream",
     "text": [
      "4\n",
      "4\n",
      "4.0\n",
      "4.0\n"
     ]
    }
   ],
   "source": [
    "# 4\n",
    "def isqrt(a):\n",
    "    x = a\n",
    "    while True:\n",
    "        x1 = (x*x + a) // (2*x)\n",
    "        if x1 >= x: return x\n",
    "        x = x1\n",
    "        \n",
    "print(isqrt(16)) # есть целочисленный корень\n",
    "print(isqrt(17)) # нет целочисленного корня\n",
    "\n",
    "print(isqrt(16.)) # есть целочисленный корень - вернется  число типа float\n",
    "print(isqrt(17.)) # нет целочисленного корня - вернется  число типа float"
   ]
  },
  {
   "cell_type": "markdown",
   "metadata": {},
   "source": [
    "# 2.3 Структуры"
   ]
  },
  {
   "cell_type": "code",
   "execution_count": 72,
   "metadata": {},
   "outputs": [
    {
     "name": "stdout",
     "output_type": "stream",
     "text": [
      "Выпускной empty_name\n"
     ]
    }
   ],
   "source": [
    "# 1\n",
    "class Video: # видео\n",
    "    name = 'empty_name'\n",
    "    author = 'empty_author'\n",
    "    duration = '0'\n",
    "\n",
    "class Employee: # сотрудник фирмы \"Рога и копыта\"\n",
    "    name = 'empty_name'\n",
    "    surname = 'empty_surname'\n",
    "    post = 'empty_post'\n",
    "\n",
    "class Plane: # самолет\n",
    "    name = 'empty_name'\n",
    "    airline =  'empty_airline'\n",
    "    pilot =  'empty_pilot'\n",
    "\n",
    "class Dog: # породистая собака\n",
    "    name = 'empty_name'\n",
    "    breed = 'empty_breed'"
   ]
  },
  {
   "cell_type": "code",
   "execution_count": 102,
   "metadata": {},
   "outputs": [
    {
     "name": "stdout",
     "output_type": "stream",
     "text": [
      "Элементы базы данных:\n",
      "|Dima Anfimov: director| |July Markova: manager| |Mark Anisimov: sell-manager|\n",
      "\n",
      "Отсортированные по фамилии элкменты базы данных:\n",
      "|Dima Anfimov: director| |Mark Anisimov: sell-manager| |July Markova: manager|\n",
      "\n",
      "После удаления одного элемента:\n",
      ">> Succesful delete\n",
      "|Mark Anisimov: sell-manager| |July Markova: manager|\n"
     ]
    }
   ],
   "source": [
    "# 2\n",
    "import pickle\n",
    "\n",
    "class Employee: # сотрудник фирмы \"Рога и копыта\"\n",
    "    name = 'empty_name'\n",
    "    surname = 'empty_surname'\n",
    "    post = 'empty_post'\n",
    "    \n",
    "    def __str__(self):\n",
    "        return f'|{self.name} {self.surname}: {self.post}|'\n",
    "    \n",
    "    def __eq__(self, other):\n",
    "        return self.name == other.name and self.surname == other.surname and self.post == other.post\n",
    "    \n",
    "class DataBase: # база данных для сотрудников\n",
    "    file_name = '2.3.2.txt'\n",
    "    \n",
    "    def view(self):# чтение базы данных \n",
    "        workers_db = []\n",
    "        f = open(self.file_name, 'rb')\n",
    "        while True:\n",
    "            try:\n",
    "                workers_db.append(pickle.load(f))\n",
    "            except:\n",
    "                break  \n",
    "        f.close()\n",
    "        return workers_db\n",
    "    \n",
    "    def write_element(self, element):# запись нового элемента в базу\n",
    "        f = open(self.file_name, 'ab')\n",
    "        pickle.dump(element, f)\n",
    "        f.close()\n",
    "        \n",
    "    def delete_element(self, element):# удаление элемента из базы\n",
    "        workers_db = self.view()\n",
    "        if element in workers_db:\n",
    "            workers_db.remove(element)\n",
    "            f = open(self.file_name, 'wb')\n",
    "            for element in workers_db:\n",
    "                self.write_element(element)\n",
    "            print('>> Succesful delete')\n",
    "        else:\n",
    "            print('>> Elemrnt not in database')\n",
    "    def sort(self, parameter_name):# сортирока базы\n",
    "        workers_db = self.view()\n",
    "        if parameter_name == 'name':\n",
    "            workers_db.sort(key=lambda x: x.name)\n",
    "        elif parameter_name == 'surname':\n",
    "            workers_db.sort(key=lambda x: x.surname)\n",
    "        elif parameter_name == 'post':\n",
    "            workers_db.sort(key=lambda x: x.post)\n",
    "        else:\n",
    "            print('>> Parameter not found')\n",
    "        f = open(self.file_name, 'wb')\n",
    "        for element in workers_db:\n",
    "            pickle.dump(element, f)\n",
    "        f.close()\n",
    "\n",
    "# создаем и очищаем файл с базой данных\n",
    "f = open('2.3.2.txt', 'wb')\n",
    "f.close()\n",
    "\n",
    "# моздаем нужные элементы\n",
    "workers_db = DataBase()\n",
    "a = Employee()\n",
    "a.name, a.surname, a.post = 'Dima', 'Anfimov', 'director'\n",
    "b = Employee()\n",
    "b.name, b.surname, b.post = 'July', 'Markova', 'manager'\n",
    "c = Employee()\n",
    "c.name, c.surname, c.post = 'Mark', 'Anisimov', 'sell-manager'\n",
    "\n",
    "# добавялем элементы в базу данных\n",
    "workers_db.write_element(a)\n",
    "workers_db.write_element(b)\n",
    "workers_db.write_element(c)\n",
    "\n",
    "# вывод элементов\n",
    "print('Элементы базы данных:')\n",
    "print(*workers_db.view())\n",
    "\n",
    "# сортировка по фамилии\n",
    "print('\\nОтсортированные по фамилии элкменты базы данных:')\n",
    "workers_db.sort('surname')\n",
    "print(*workers_db.view())\n",
    "\n",
    "# удаление одного из элементов\n",
    "print('\\nПосле удаления одного элемента:')\n",
    "workers_db.delete_element(a)\n",
    "print(*workers_db.view())\n",
    "\n",
    "\n",
    "\n",
    "    \n"
   ]
  },
  {
   "cell_type": "markdown",
   "metadata": {},
   "source": [
    "# 2.3 Словари"
   ]
  },
  {
   "cell_type": "code",
   "execution_count": 109,
   "metadata": {},
   "outputs": [
    {
     "name": "stdout",
     "output_type": "stream",
     "text": [
      "{'Мне': 2, 'уже': 2, 'не': 4, 'больно,': 1, 'Вроде': 1, 'бы.': 1, 'Я': 3, 'строю': 1, 'планов': 1, 'на': 2, 'завтра,': 1, 'В': 2, 'сумке': 1, 'любимый': 1, 'автор': 1, 'И': 5, 'три': 1, 'бутерброда.': 1, 'Что-то': 2, 'продано,': 1, 'куплено': 1, 'раздарено.': 1, 'Стихи': 2, 'бестолковые,': 1, 'матерные,': 1, 'бездарен': 1, 'и': 2, 'Не': 2, 'прошу': 1, 'понимать': 1, 'меня.': 1, 'там': 1, 'с': 1, 'теми': 1, 'Раскрываю': 1, 'душу,': 1, 'На': 2, 'улице': 1, 'минус': 1, 'двадцать,': 1, 'так': 1, 'люблю': 1, 'просыпаться': 1, 'своей': 2, 'постели': 1, 'засыпать': 1, 'подушке.': 1, 'кажется,': 1, 'Это': 1, 'самое': 1, 'настоящее': 1, 'счастье.': 1, 'Солнце': 1, 'блестит,': 1, 'Как': 1, 'новенький': 1, 'пенни,': 1, 'Разгоняя': 1, 'хмурые': 1, 'тучи,': 1, 'Бог': 1, 'одолжит': 1, 'завтра': 1, 'Немного': 1, 'сил': 1, 'терпения,': 1, 'я': 1, 'справлюсь,': 1, 'Всё': 1, 'получится,': 1, 'Ведь': 1, 'мне': 1, 'больно.': 1}\n"
     ]
    }
   ],
   "source": [
    "# 1\n",
    "def dictionary(file_name):\n",
    "    f = open(file_name, 'r')\n",
    "    result = dict()\n",
    "    for line in f:\n",
    "        for elem in line.split():\n",
    "            if elem in result:\n",
    "                result[elem] += 1\n",
    "            else:\n",
    "                result[elem] = 1\n",
    "    return result\n",
    "\n",
    "def preporation():\n",
    "    f = open('2.3.1.txt', 'w')\n",
    "    text = []\n",
    "    s = input()\n",
    "    while s:\n",
    "        text.append(s)\n",
    "        s = input()\n",
    "    for string in text:\n",
    "        print(string, file = f)\n",
    "    f.close()\n",
    "\n",
    "# если нужно подготовить файл - раскомментируйте\n",
    "# preporation()\n",
    "\n",
    "print(dictionary('2.3.1.txt'))"
   ]
  },
  {
   "cell_type": "code",
   "execution_count": 138,
   "metadata": {},
   "outputs": [
    {
     "name": "stdout",
     "output_type": "stream",
     "text": [
      "['И', 'не', 'Я', 'Мне', 'уже', 'больно', 'на', 'завтра', 'В', 'Что-то', 'Стихи', 'и', 'Не', 'На', 'своей', 'Вроде', 'бы', 'строю', 'планов', 'сумке', 'любимый', 'автор', 'три', 'бутерброда', 'продано', 'куплено', 'раздарено', 'бестолковые', 'матерные', 'бездарен', 'прошу', 'понимать', 'меня', 'там', 'с', 'теми', 'Раскрываю', 'душу', 'улице', 'минус', 'двадцать', 'так', 'люблю', 'просыпаться', 'постели', 'засыпать', 'подушке', 'кажется', 'Это', 'самое', 'настоящее', 'счастье', 'Солнце', 'блестит', 'Как', 'новенький', 'пенни', 'Разгоняя', 'хмурые', 'тучи', 'Бог', 'одолжит', 'Немного', 'сил', 'терпения', 'я', 'справлюсь', 'Всё', 'получится', 'Ведь', 'мне']\n"
     ]
    }
   ],
   "source": [
    "# 2\n",
    "def dictionary(file_name):\n",
    "    f = open(file_name, 'r')\n",
    "    result = dict()\n",
    "    for line in f:\n",
    "        for elem in line.split():\n",
    "            if not elem[-1].isalpha():\n",
    "                elem = elem[:len(elem) - 1]\n",
    "                \n",
    "            if elem in result:\n",
    "                result[elem] += 1\n",
    "            else:\n",
    "                result[elem] = 1\n",
    "    return sorted([key for key in result.keys()], key=lambda x: result[x], reverse=True)\n",
    "\n",
    "def preporation():\n",
    "    f = open('2.3.1.txt', 'w')\n",
    "    text = []\n",
    "    s = input()\n",
    "    while s:\n",
    "        text.append(s)\n",
    "        s = input()\n",
    "    for string in text:\n",
    "        print(string, file = f)\n",
    "    f.close()\n",
    "\n",
    "# если нужно подготовить файл - раскомментируйте\n",
    "# preporation()\n",
    "\n",
    "print(dictionary('2.3.1.txt'))"
   ]
  },
  {
   "cell_type": "markdown",
   "metadata": {},
   "source": [
    "# 2.4 Стек-очередь-дек"
   ]
  },
  {
   "cell_type": "code",
   "execution_count": 143,
   "metadata": {},
   "outputs": [
    {
     "name": "stdout",
     "output_type": "stream",
     "text": [
      "12 57 23 84 30 25 60 65 39 80\n",
      "80 39 65 60 25 30 84 23 57 12\n"
     ]
    }
   ],
   "source": [
    "# 1\n",
    "from random import randint\n",
    "def preparation():\n",
    "    a = [randint(10, 99) for i in range(10)]\n",
    "    f = open('2.4.1.txt', 'w')\n",
    "    for elem in a:\n",
    "        print(elem, file = f)\n",
    "    f.close()\n",
    "\n",
    "# если нужно подготовить файл - раскомментируйте        \n",
    "# preparation()\n",
    "\n",
    "f = open('2.4.1.txt', 'r')\n",
    "a = []\n",
    "for line in f:\n",
    "    a.append(int(line))\n",
    "f.close()\n",
    "\n",
    "print(*a)\n",
    "result = [a.pop() for i in range(len(a))]\n",
    "print(*result)\n"
   ]
  },
  {
   "attachments": {
    "image.png": {
     "image/png": "[encoded data removed]"
    }
   },
   "cell_type": "markdown",
   "metadata": {},
   "source": [
    "![image.png](attachment:image.png)"
   ]
  },
  {
   "cell_type": "code",
   "execution_count": 192,
   "metadata": {},
   "outputs": [
    {
     "name": "stdout",
     "output_type": "stream",
     "text": [
      "36 = 36\n"
     ]
    }
   ],
   "source": [
    "# 2\n",
    "def postfix_expression(string):\n",
    "    operands = '+-/*'\n",
    "    opearandStack = []\n",
    "    try:\n",
    "        for elem in string.split():\n",
    "            if elem in operands:\n",
    "                second = opearandStack.pop()\n",
    "                first = opearandStack.pop()\n",
    "                if elem == '+':\n",
    "                    opearandStack.append(first + second)\n",
    "                if elem == '-':\n",
    "                    opearandStack.append(first - second)\n",
    "                if elem == '/':\n",
    "                    opearandStack.append(first / second)\n",
    "                if elem == '*':\n",
    "                    opearandStack.append(first * second)\n",
    "            else:\n",
    "                opearandStack.append(int(elem))\n",
    "    except:\n",
    "        return 'Некорректное постфиксное выражение'\n",
    "    \n",
    "    if len(opearandStack) != 1:\n",
    "        return 'Некорректное постфиксное выражение'\n",
    "    return opearandStack.pop()\n",
    "\n",
    "# Примеры:\n",
    "# (обычное)             (постфиксное)\n",
    "# (A + B) * C       =   A B + C *\n",
    "# A + B * C + D     =   A B C * + D +\n",
    "# (A + B) * (C + D) =   A B + C D + *\n",
    "# A * B + C * D     =   A B * C D * +\n",
    "# A + B + C + D     =   A B + C + D +\n",
    "\n",
    "string = '2 4 + 6 *'\n",
    "print(postfix_expression(string), '= 36')"
   ]
  },
  {
   "cell_type": "code",
   "execution_count": 168,
   "metadata": {},
   "outputs": [
    {
     "name": "stdout",
     "output_type": "stream",
     "text": [
      "True\n",
      "True\n",
      "True\n",
      "True\n",
      "False\n",
      "False\n",
      "False\n",
      "False\n"
     ]
    }
   ],
   "source": [
    "# 3\n",
    "def is_coorect(string):\n",
    "    stack = []\n",
    "    for elem in string:\n",
    "        if elem in '(<[{':\n",
    "            stack.append(elem)\n",
    "        else:\n",
    "            if len(stack) != 0:\n",
    "                pair = stack[-1]\n",
    "                scobki = pair + elem\n",
    "                if scobki == '()' or scobki == '{}' or scobki == '[]' or scobki == '<>':\n",
    "                    stack.pop()\n",
    "            else:\n",
    "                return False\n",
    "    return not stack\n",
    "\n",
    "# True\n",
    "print(is_coorect(''))\n",
    "print(is_coorect('()'))\n",
    "print(is_coorect('{()}'))\n",
    "print(is_coorect('(())'))\n",
    "\n",
    "# False\n",
    "print(is_coorect('(()'))\n",
    "print(is_coorect('(()}'))\n",
    "print(is_coorect('[()}'))\n",
    "print(is_coorect('<(>'))"
   ]
  },
  {
   "cell_type": "code",
   "execution_count": 182,
   "metadata": {},
   "outputs": [
    {
     "name": "stdout",
     "output_type": "stream",
     "text": [
      "True\n",
      "True\n",
      "True\n",
      "True\n",
      "Скобочная последовательность не завершена\n",
      "False\n",
      "Ошибочный символ под индексом 3\n",
      "False\n",
      "Ошибочный символ под индексом 3\n",
      "False\n",
      "Ошибочный символ под индексом 2\n",
      "False\n"
     ]
    }
   ],
   "source": [
    "# 4\n",
    "def is_coorect(string):\n",
    "    stack = []\n",
    "    for index, elem in enumerate(string):\n",
    "        if elem in '(<[{':\n",
    "            stack.append(elem)\n",
    "        else:\n",
    "            if len(stack) != 0:\n",
    "                pair = stack[-1]\n",
    "                scobki = pair + elem\n",
    "                if scobki == '()' or scobki == '{}' or scobki == '[]' or scobki == '<>':\n",
    "                    stack.pop()\n",
    "                else:\n",
    "                    print('Ошибочный символ под индексом', index)\n",
    "                    return False\n",
    "            else:\n",
    "                print('Ошибочный символ под индексом', index)\n",
    "                return False\n",
    "    if stack:\n",
    "        print('Скобочная последовательность не завершена')\n",
    "        return False\n",
    "    else:\n",
    "        return True\n",
    "\n",
    "# True\n",
    "print(is_coorect(''))\n",
    "print(is_coorect('()'))\n",
    "print(is_coorect('{()}'))\n",
    "print(is_coorect('(())'))\n",
    "\n",
    "# False\n",
    "print(is_coorect('(()'))\n",
    "print(is_coorect('(()}'))\n",
    "print(is_coorect('[()}'))\n",
    "print(is_coorect('<(>'))"
   ]
  },
  {
   "cell_type": "code",
   "execution_count": 184,
   "metadata": {},
   "outputs": [
    {
     "name": "stdout",
     "output_type": "stream",
     "text": [
      "True\n",
      "True\n",
      "True\n",
      "True\n",
      "Скобочная последовательность не завершена\n",
      "False\n",
      "Ошибочный символ под индексом 3\n",
      "False\n",
      "Ошибочный символ под индексом 3\n",
      "False\n",
      "Ошибочный символ под индексом 2\n",
      "False\n"
     ]
    }
   ],
   "source": [
    "# 5\n",
    "def is_coorect(string):\n",
    "    stack = ''\n",
    "    for index, elem in enumerate(string):\n",
    "        if elem in '(<[{':\n",
    "            stack = stack + elem\n",
    "        else:\n",
    "            if len(stack) != 0:\n",
    "                pair = stack[-1]\n",
    "                scobki = pair + elem\n",
    "                if scobki == '()' or scobki == '{}' or scobki == '[]' or scobki == '<>':\n",
    "                    stack = stack[:-1]\n",
    "                else:\n",
    "                    print('Ошибочный символ под индексом', index)\n",
    "                    return False\n",
    "            else:\n",
    "                print('Ошибочный символ под индексом', index)\n",
    "                return False\n",
    "    if stack:\n",
    "        print('Скобочная последовательность не завершена')\n",
    "        return False\n",
    "    else:\n",
    "        return True\n",
    "    \n",
    "# True\n",
    "print(is_coorect(''))\n",
    "print(is_coorect('()'))\n",
    "print(is_coorect('{()}'))\n",
    "print(is_coorect('(())'))\n",
    "\n",
    "# False\n",
    "print(is_coorect('(()'))\n",
    "print(is_coorect('(()}'))\n",
    "print(is_coorect('[()}'))\n",
    "print(is_coorect('<(>'))"
   ]
  },
  {
   "cell_type": "code",
   "execution_count": 215,
   "metadata": {},
   "outputs": [
    {
     "name": "stdout",
     "output_type": "stream",
     "text": [
      " 2 3 +\n",
      " 2 3 + 6 *\n",
      " 1 2 3 * + 4 +\n",
      " 1 2 + 3 5 + *\n"
     ]
    }
   ],
   "source": [
    "# 6\n",
    "\n",
    "# https://studref.com/324900/informatika/ispolzovanie_steka_preobrazovaniya_form_zapisi_vyrazheniy\n",
    "\n",
    "def polska(string):\n",
    "    string = string.split()\n",
    "    \n",
    "    operands = '+-/*'\n",
    "    \n",
    "    stack = []\n",
    "    result = ''\n",
    "    \n",
    "    for elem in string:\n",
    "        if elem == '(':\n",
    "            stack.append('(')\n",
    "        elif elem in operands:\n",
    "            if elem == '-' or elem=='+':\n",
    "                low_priority = '('\n",
    "            else:\n",
    "                low_priority = '(+-'\n",
    "                \n",
    "            while True:\n",
    "                if len(stack) == 0:\n",
    "                    break\n",
    "                t = stack.pop()\n",
    "                if t == '(':\n",
    "                    stack.append('(')\n",
    "                    break\n",
    "                result = result + ' ' + t \n",
    "                if t in low_priority:\n",
    "                    break\n",
    "                \n",
    "            stack.append(elem)\n",
    "            \n",
    "        elif elem == ')':\n",
    "            while True:\n",
    "                try:\n",
    "                    t = stack.pop()\n",
    "                except:\n",
    "                    return 'Неправильное выражение'\n",
    "                if t == '(':\n",
    "                    break\n",
    "                else:\n",
    "\n",
    "                    result = result + ' ' + t \n",
    "        else:\n",
    "            result = result + ' ' + elem\n",
    "    return result + ' ' + ' '.join(stack)\n",
    "\n",
    "# программа работает с проставленными скобками, указывающими на порядок действий\n",
    "\n",
    "# A + B             =   A B +\n",
    "print(polska('2 + 3'))\n",
    "# (A + B) * C       =   A B + C *\n",
    "print(polska('( 2 + 3 ) * 6'))\n",
    "# A + (B * C) + D     =   A B C * + D +\n",
    "print(polska('1 + ( 2 * 3 ) + 4 '))\n",
    "# (A + B) * (C + D) =   A B + C D + *\n",
    "print(polska('( 1 + 2 ) * ( 3 + 5 )'))"
   ]
  },
  {
   "cell_type": "code",
   "execution_count": 8,
   "metadata": {},
   "outputs": [
    {
     "name": "stdout",
     "output_type": "stream",
     "text": [
      "Введите координаты точек в матрице и цвет\n",
      "1 1 b\n",
      "2 2 c\n",
      "1 1 d\n",
      "\n",
      "w w w w w \n",
      "w d w w w \n",
      "w w c w w \n",
      "w w w w w \n",
      "w w w w w \n"
     ]
    }
   ],
   "source": [
    "# 7\n",
    "def preporation():\n",
    "    f = open('2.4.7.txt', 'w')\n",
    "    n = 5\n",
    "    for i in range(n):\n",
    "        print('w' * n, file = f)\n",
    "    f.close()\n",
    "    \n",
    "# если нужно подготовить матрицу - раскомментируйте\n",
    "# preporation()\n",
    "\n",
    "\n",
    "f = open('2.4.7.txt', 'r')\n",
    "a = []\n",
    "for index, line in enumerate(f):\n",
    "    a.append([])\n",
    "    line = line.strip()\n",
    "    for elem in line:\n",
    "        a[index].append(elem)\n",
    "f.close()\n",
    "print('Введите координаты точек в матрице и цвет')\n",
    "\n",
    "\n",
    "s = input()\n",
    "queue = []\n",
    "while s:\n",
    "    x, y, c = s.split()\n",
    "    x = int(x)\n",
    "    y = int(y)\n",
    "    queue.append((x,y,c))\n",
    "    if x < len(a) and y < len(a[x]):\n",
    "        a[x][y] = c\n",
    "    s = input()\n",
    "while queue:\n",
    "    x, y, c = queue[0]\n",
    "    if x < len(a) and y < len(a[x]):\n",
    "        a[x][y] = c\n",
    "    queue = queue[1:]\n",
    "    \n",
    "for line in a:\n",
    "    for elem in line:\n",
    "        print(elem, end=' ')\n",
    "    print()"
   ]
  },
  {
   "cell_type": "markdown",
   "metadata": {},
   "source": [
    "# 2.4.4 Деревья"
   ]
  },
  {
   "cell_type": "code",
   "execution_count": 1,
   "metadata": {},
   "outputs": [],
   "source": [
    "# 1\n"
   ]
  },
  {
   "cell_type": "code",
   "execution_count": 1,
   "metadata": {},
   "outputs": [],
   "source": [
    "# 2\n"
   ]
  },
  {
   "cell_type": "code",
   "execution_count": 1,
   "metadata": {},
   "outputs": [],
   "source": [
    "# 3\n"
   ]
  },
  {
   "cell_type": "code",
   "execution_count": 1,
   "metadata": {},
   "outputs": [],
   "source": [
    "# 4\n"
   ]
  },
  {
   "cell_type": "markdown",
   "metadata": {},
   "source": [
    "# 2.5.1 Графы"
   ]
  },
  {
   "cell_type": "code",
   "execution_count": 1,
   "metadata": {},
   "outputs": [],
   "source": [
    "# 1\n"
   ]
  },
  {
   "cell_type": "code",
   "execution_count": 1,
   "metadata": {},
   "outputs": [],
   "source": [
    "# 2\n"
   ]
  },
  {
   "cell_type": "code",
   "execution_count": 1,
   "metadata": {},
   "outputs": [],
   "source": [
    "# 3\n"
   ]
  },
  {
   "cell_type": "code",
   "execution_count": 1,
   "metadata": {},
   "outputs": [],
   "source": [
    "# 4\n"
   ]
  },
  {
   "cell_type": "markdown",
   "metadata": {},
   "source": [
    "# 2.6.1 Динамическое программирование"
   ]
  },
  {
   "cell_type": "code",
   "execution_count": 1,
   "metadata": {},
   "outputs": [],
   "source": [
    "# 1\n"
   ]
  },
  {
   "cell_type": "code",
   "execution_count": 1,
   "metadata": {},
   "outputs": [],
   "source": [
    "# 2\n"
   ]
  },
  {
   "cell_type": "code",
   "execution_count": 1,
   "metadata": {},
   "outputs": [],
   "source": [
    "# 3\n"
   ]
  },
  {
   "cell_type": "code",
   "execution_count": 1,
   "metadata": {},
   "outputs": [],
   "source": [
    "# 4\n"
   ]
  }
 ],
 "metadata": {
  "kernelspec": {
   "display_name": "Python 3",
   "language": "python",
   "name": "python3"
  },
  "language_info": {
   "codemirror_mode": {
    "name": "ipython",
    "version": 3
   },
   "file_extension": ".py",
   "mimetype": "text/x-python",
   "name": "python",
   "nbconvert_exporter": "python",
   "pygments_lexer": "ipython3",
   "version": "3.8.5"
  }
 },
 "nbformat": 4,
 "nbformat_minor": 4
}
