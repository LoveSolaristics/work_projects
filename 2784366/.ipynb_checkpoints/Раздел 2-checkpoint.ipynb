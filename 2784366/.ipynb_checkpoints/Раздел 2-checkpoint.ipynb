{
 "cells": [
  {
   "cell_type": "markdown",
   "metadata": {},
   "source": [
    "# 2.1 Целочисленные алгоритмы"
   ]
  },
  {
   "cell_type": "code",
   "execution_count": 30,
   "metadata": {},
   "outputs": [
    {
     "name": "stdout",
     "output_type": "stream",
     "text": [
      "Для n = 10 число шагов нашего алгоритма = 15; решето Эратосфена делает 5 шагов.\n",
      "Для n = 25 число шагов нашего алгоритма = 103; решето Эратосфена делает 18 шагов.\n",
      "Для n = 50 число шагов нашего алгоритма = 350; решето Эратосфена делает 45 шагов.\n",
      "Для n = 100 число шагов нашего алгоритма = 1133; решето Эратосфена делает 104 шагов.\n"
     ]
    }
   ],
   "source": [
    "# 1\n",
    "def is_prime(n):\n",
    "    result = []\n",
    "    steps = 0\n",
    "    for number in range(2, n+1):\n",
    "        is_prime = True\n",
    "        for potential_divisor in range(2, number):\n",
    "            steps += 1\n",
    "            if number % potential_divisor == 0:\n",
    "                is_prime = False\n",
    "                break\n",
    "        if is_prime:\n",
    "            result.append(number)\n",
    "    return result, steps\n",
    "\n",
    "def is_prime_eratosthenes(N):     # n - число, до которого хотим найти простые числа \n",
    "    steps = 0\n",
    "    A = [True]*(N+1)\n",
    "    k = 2\n",
    "    while k*k <= N:\n",
    "        if A[k]:\n",
    "            i = k*k\n",
    "            while i <= N:\n",
    "                steps += 1\n",
    "                A[i] = False\n",
    "                i += k\n",
    "        k += 1\n",
    "    return [i for i in range(2, N+1) if A[i]], steps\n",
    "\n",
    "n = 10\n",
    "print(f'Для n = {n} число шагов нашего алгоритма = {is_prime(n)[1]}; решето Эратосфена делает {is_prime_eratosthenes(n)[1]} шагов.')\n",
    "n = 25\n",
    "print(f'Для n = {n} число шагов нашего алгоритма = {is_prime(n)[1]}; решето Эратосфена делает {is_prime_eratosthenes(n)[1]} шагов.')\n",
    "n = 50\n",
    "print(f'Для n = {n} число шагов нашего алгоритма = {is_prime(n)[1]}; решето Эратосфена делает {is_prime_eratosthenes(n)[1]} шагов.')\n",
    "n = 100\n",
    "print(f'Для n = {n} число шагов нашего алгоритма = {is_prime(n)[1]}; решето Эратосфена делает {is_prime_eratosthenes(n)[1]} шагов.')\n",
    "#  очевидно, алгоритм, использующий решето Эратосфена, работает быстрее"
   ]
  },
  {
   "cell_type": "code",
   "execution_count": 37,
   "metadata": {},
   "outputs": [
    {
     "name": "stdout",
     "output_type": "stream",
     "text": [
      "\n",
      "1.000.000.001\n",
      "2.000.000.002\n",
      "3.000.000.003\n",
      "4.000.000.004\n",
      "5.000.000.005\n",
      "6.000.000.006\n",
      "7.000.000.007\n",
      "8.000.000.008\n",
      "9.000.000.009\n"
     ]
    }
   ],
   "source": [
    "# 2\n",
    "def preparation():\n",
    "    f = open('2.1.2.txt', 'w')\n",
    "    for i in range(10):\n",
    "        print(i*10**9 + i, file = f)\n",
    "    f.close()\n",
    "    \n",
    "def long_numbers(file_name):\n",
    "    f = open(file_name, 'r')\n",
    "    result = []\n",
    "    for line in f:\n",
    "        number_array = []\n",
    "        number = int(line)\n",
    "        while number:\n",
    "            number_array.append(number%1000)\n",
    "            number//=1000\n",
    "        result.append(number_array)\n",
    "    f.close()\n",
    "    return result\n",
    "\n",
    "def print_long_numbers(number):\n",
    "    for index, elem in enumerate(number):\n",
    "        if index == 0:\n",
    "            print(elem, end='')\n",
    "        else:\n",
    "            print('.{:03d}'.format(elem), end='')\n",
    "            \n",
    "# если нужен файл для подготовки - раскомментировать\n",
    "# preparation() \n",
    "\n",
    "a = long_numbers('2.1.2.txt')\n",
    "for number in a:\n",
    "    print_long_numbers(number)\n",
    "    print()"
   ]
  },
  {
   "cell_type": "code",
   "execution_count": 63,
   "metadata": {},
   "outputs": [
    {
     "name": "stdout",
     "output_type": "stream",
     "text": [
      "1.123.123 + 1.123.123 = 2.246.246\n",
      "1.123.123 - 1.123.123 = 0"
     ]
    }
   ],
   "source": [
    "# 3\n",
    "\n",
    "## Данная программа работает только для положительных чисел, где a >= b\n",
    "def sum(a,b):\n",
    "    result = [] # результат операции\n",
    "    \n",
    "    # уравниваеем количество разрядов в числах\n",
    "    if len(a) > len(b):\n",
    "        b = [0] * (len(a) - len(b)) + b\n",
    "    else:\n",
    "        a = [0] * (len(b) - len(a)) + a\n",
    "    n = len(a)\n",
    "    \n",
    "    temp = 0 # то, что нужно перенести в следующий разряд\n",
    "    for i in range(n-1, -1, -1):\n",
    "        new_elem = (a[i] + b[i] + temp)%1000\n",
    "        result.append(new_elem)\n",
    "        temp = new_elem // 1000\n",
    "        \n",
    "    # если что-то еще нужно перенести в новый разряд\n",
    "    if temp != 0:\n",
    "        result.append(temp)\n",
    "    print_long_numbers(reversed(result))\n",
    "\n",
    "def sub(a,b):\n",
    "    result = [] # результат операции\n",
    "    \n",
    "    # уравниваеем количество разрядов в числах\n",
    "    if len(a) > len(b):\n",
    "        b = [0] * (len(a) - len(b)) + b\n",
    "    else:\n",
    "        a = [0] * (len(b) - len(a)) + a\n",
    "    n = len(a)\n",
    "    \n",
    "    temp = 0\n",
    "    for i in range(n-1, -1, -1):\n",
    "        new_elem = (a[i] - b[i]- temp)\n",
    "        if new_elem < 0:\n",
    "            new_elem = 1000 + new_elem\n",
    "            temp = 1\n",
    "        result.append(new_elem)\n",
    "    \n",
    "    # убираем лидирующие нули\n",
    "    while result[-1] == 0 and len(result) > :\n",
    "        result.pop()\n",
    "    print_long_numbers(reversed(result))\n",
    "    \n",
    "# начальные данные\n",
    "a = [1,123, 123]\n",
    "b = [1,123, 123]\n",
    "\n",
    "# сложение\n",
    "print_long_numbers(a)\n",
    "print(' + ', end='')\n",
    "print_long_numbers(b)\n",
    "print(' = ', end='')\n",
    "sum(a,b)\n",
    "\n",
    "print()\n",
    "\n",
    "# вычитание\n",
    "print_long_numbers(a)\n",
    "print(' - ', end='')\n",
    "print_long_numbers(b)\n",
    "print(' = ', end='')\n",
    "sub(a,b)"
   ]
  },
  {
   "cell_type": "code",
   "execution_count": 71,
   "metadata": {},
   "outputs": [
    {
     "name": "stdout",
     "output_type": "stream",
     "text": [
      "4\n",
      "4\n",
      "4.0\n",
      "4.0\n"
     ]
    }
   ],
   "source": [
    "# 4\n",
    "def isqrt(a):\n",
    "    x = a\n",
    "    while True:\n",
    "        x1 = (x*x + a) // (2*x)\n",
    "        if x1 >= x: return x\n",
    "        x = x1\n",
    "        \n",
    "print(isqrt(16)) # есть целочисленный корень\n",
    "print(isqrt(17)) # нет целочисленного корня\n",
    "\n",
    "print(isqrt(16.)) # есть целочисленный корень - вернется  число типа float\n",
    "print(isqrt(17.)) # нет целочисленного корня - вернется  число типа float"
   ]
  },
  {
   "cell_type": "markdown",
   "metadata": {},
   "source": [
    "# 2.3 Структуры"
   ]
  },
  {
   "cell_type": "code",
   "execution_count": 1,
   "metadata": {},
   "outputs": [],
   "source": [
    "# 1\n"
   ]
  },
  {
   "cell_type": "code",
   "execution_count": 1,
   "metadata": {},
   "outputs": [],
   "source": [
    "# 2\n"
   ]
  },
  {
   "cell_type": "markdown",
   "metadata": {},
   "source": [
    "# 2.3 Словари"
   ]
  },
  {
   "cell_type": "code",
   "execution_count": 1,
   "metadata": {},
   "outputs": [],
   "source": [
    "# 1\n"
   ]
  },
  {
   "cell_type": "code",
   "execution_count": 1,
   "metadata": {},
   "outputs": [],
   "source": [
    "# 2\n"
   ]
  },
  {
   "cell_type": "markdown",
   "metadata": {},
   "source": [
    "# 2.4 Стек-очередь-дек"
   ]
  },
  {
   "cell_type": "code",
   "execution_count": 1,
   "metadata": {},
   "outputs": [],
   "source": [
    "# 1\n"
   ]
  },
  {
   "cell_type": "code",
   "execution_count": 1,
   "metadata": {},
   "outputs": [],
   "source": [
    "# 2\n"
   ]
  },
  {
   "cell_type": "code",
   "execution_count": 1,
   "metadata": {},
   "outputs": [],
   "source": [
    "# 3\n"
   ]
  },
  {
   "cell_type": "code",
   "execution_count": 1,
   "metadata": {},
   "outputs": [],
   "source": [
    "# 4\n"
   ]
  },
  {
   "cell_type": "code",
   "execution_count": 1,
   "metadata": {},
   "outputs": [],
   "source": [
    "# 5\n"
   ]
  },
  {
   "cell_type": "code",
   "execution_count": 1,
   "metadata": {},
   "outputs": [],
   "source": [
    "# 6\n"
   ]
  },
  {
   "cell_type": "code",
   "execution_count": 1,
   "metadata": {},
   "outputs": [],
   "source": [
    "# 7\n"
   ]
  },
  {
   "cell_type": "markdown",
   "metadata": {},
   "source": [
    "# 2.4.4 Деревья"
   ]
  },
  {
   "cell_type": "code",
   "execution_count": 1,
   "metadata": {},
   "outputs": [],
   "source": [
    "# 1\n"
   ]
  },
  {
   "cell_type": "code",
   "execution_count": 1,
   "metadata": {},
   "outputs": [],
   "source": [
    "# 2\n"
   ]
  },
  {
   "cell_type": "code",
   "execution_count": 1,
   "metadata": {},
   "outputs": [],
   "source": [
    "# 3\n"
   ]
  },
  {
   "cell_type": "code",
   "execution_count": 1,
   "metadata": {},
   "outputs": [],
   "source": [
    "# 4\n"
   ]
  },
  {
   "cell_type": "markdown",
   "metadata": {},
   "source": [
    "# 2.5.1 Графы"
   ]
  },
  {
   "cell_type": "code",
   "execution_count": 1,
   "metadata": {},
   "outputs": [],
   "source": [
    "# 1\n"
   ]
  },
  {
   "cell_type": "code",
   "execution_count": 1,
   "metadata": {},
   "outputs": [],
   "source": [
    "# 2\n"
   ]
  },
  {
   "cell_type": "code",
   "execution_count": 1,
   "metadata": {},
   "outputs": [],
   "source": [
    "# 3\n"
   ]
  },
  {
   "cell_type": "code",
   "execution_count": 1,
   "metadata": {},
   "outputs": [],
   "source": [
    "# 4\n"
   ]
  },
  {
   "cell_type": "markdown",
   "metadata": {},
   "source": [
    "# 2.6.1 Динамическое программирование"
   ]
  },
  {
   "cell_type": "code",
   "execution_count": 1,
   "metadata": {},
   "outputs": [],
   "source": [
    "# 1\n"
   ]
  },
  {
   "cell_type": "code",
   "execution_count": 1,
   "metadata": {},
   "outputs": [],
   "source": [
    "# 2\n"
   ]
  },
  {
   "cell_type": "code",
   "execution_count": 1,
   "metadata": {},
   "outputs": [],
   "source": [
    "# 3\n"
   ]
  },
  {
   "cell_type": "code",
   "execution_count": 1,
   "metadata": {},
   "outputs": [],
   "source": [
    "# 4\n"
   ]
  }
 ],
 "metadata": {
  "kernelspec": {
   "display_name": "Python 3",
   "language": "python",
   "name": "python3"
  },
  "language_info": {
   "codemirror_mode": {
    "name": "ipython",
    "version": 3
   },
   "file_extension": ".py",
   "mimetype": "text/x-python",
   "name": "python",
   "nbconvert_exporter": "python",
   "pygments_lexer": "ipython3",
   "version": "3.8.5"
  }
 },
 "nbformat": 4,
 "nbformat_minor": 4
}
