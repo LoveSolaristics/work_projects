{
 "cells": [
  {
   "cell_type": "markdown",
   "metadata": {},
   "source": [
    "## Вычисления"
   ]
  },
  {
   "cell_type": "code",
   "execution_count": 2,
   "metadata": {},
   "outputs": [
    {
     "name": "stdout",
     "output_type": "stream",
     "text": [
      "8\n",
      "30\n",
      "6\n",
      "32\n",
      "3\n",
      "1\n",
      "8\n"
     ]
    }
   ],
   "source": [
    "# 1a\n",
    "a, b = 26, 6\n",
    "c = a%b + b\n",
    "print(c)\n",
    "\n",
    "# 1б\n",
    "a, b = 26, 6\n",
    "c = a//b + a\n",
    "print(c)\n",
    "\n",
    "# 1в\n",
    "a, b = 26, 6\n",
    "b = a // b\n",
    "c = a//b\n",
    "print(c)\n",
    "\n",
    "# 1г\n",
    "a, b = 26, 6\n",
    "b = a//b + b\n",
    "c = a%b+a\n",
    "print(c)\n",
    "\n",
    "# 1д\n",
    "a, b = 26, 6\n",
    "b = a%b+4\n",
    "c = a%b + 1\n",
    "print(c)\n",
    "\n",
    "# 1е\n",
    "a, b = 26, 6\n",
    "b = a//b\n",
    "c = a%(b+1)\n",
    "print(c)\n",
    "\n",
    "# 1ж\n",
    "a, b = 26, 6\n",
    "b=a%b\n",
    "c=a//(b+1)\n",
    "print(c)"
   ]
  },
  {
   "cell_type": "code",
   "execution_count": 5,
   "metadata": {
    "scrolled": true
   },
   "outputs": [
    {
     "name": "stdout",
     "output_type": "stream",
     "text": [
      "-3 8\n",
      "Точки на числовой оси: -3 и 8\n",
      "Расстояние между точками = 11\n"
     ]
    }
   ],
   "source": [
    "# 2\n",
    "a, b = map(int, input().split()) # ввод двух чисел - координат двух точек на оси\n",
    "print(f'Точки на числовой оси: {a} и {b}')\n",
    "print(f'Расстояние между точками = {abs(a - b)}')"
   ]
  },
  {
   "cell_type": "markdown",
   "metadata": {},
   "source": [
    "## Условный оператор"
   ]
  },
  {
   "cell_type": "code",
   "execution_count": 11,
   "metadata": {},
   "outputs": [
    {
     "name": "stdout",
     "output_type": "stream",
     "text": [
      "12\n",
      "31\n"
     ]
    }
   ],
   "source": [
    "# 1.1\n",
    "month_number= int(input())\n",
    "days_in_months = [31, 28, 31, 30, 31, 30, 31, 31, 30, 31, 30, 31]\n",
    "if 0 < month_number < 13:\n",
    "    print(days_in_months[month_number-1])\n",
    "else:\n",
    "    raise ValueError('Некрорректный номер месяца')"
   ]
  },
  {
   "cell_type": "code",
   "execution_count": 19,
   "metadata": {},
   "outputs": [
    {
     "name": "stdout",
     "output_type": "stream",
     "text": [
      "12 15\n",
      "Дней до Нового года: 16\n"
     ]
    }
   ],
   "source": [
    "# 1.2\n",
    "month_number, day = map(int, input().split())\n",
    "days_in_months = [31, 28, 31, 30, 31, 30, 31, 31, 30, 31, 30, 31]\n",
    "\n",
    "if 0 < month_number < 13:\n",
    "    days_in_month = days_in_months[month_number-1]\n",
    "else:\n",
    "    raise ValueError('Некрорректный номер месяца')\n",
    "    \n",
    "if days_in_month >= day > 0:\n",
    "    print(f'Дней до Нового года: {days_in_month - day + sum(days_in_months[month_number:])}')\n",
    "else:\n",
    "     raise ValueError('Некрорректный номер дня в месяце')"
   ]
  },
  {
   "cell_type": "code",
   "execution_count": 26,
   "metadata": {},
   "outputs": [
    {
     "name": "stdout",
     "output_type": "stream",
     "text": [
      "22\n",
      "22 года\n"
     ]
    }
   ],
   "source": [
    "# 2\n",
    "years = int(input())\n",
    "if 11 <= years%100 <= 14:\n",
    "    print(f'{years} лет')\n",
    "elif 2 <= years%10 <= 4:\n",
    "    print(f'{years} года')\n",
    "elif years%10 == 1:\n",
    "    print(f'{years} год')\n",
    "else:\n",
    "    print(f'{years} лет')"
   ]
  },
  {
   "cell_type": "code",
   "execution_count": 31,
   "metadata": {},
   "outputs": [
    {
     "name": "stdout",
     "output_type": "stream",
     "text": [
      "10 3 1 8 2\n",
      "Максимум = 10, минимум = 2\n"
     ]
    }
   ],
   "source": [
    "# 3\n",
    "a, b, c, d, e = map(int, input().split())\n",
    "\n",
    "# забавная вариация сортировки пузырьком без списков и циклов \n",
    "\n",
    "# большие числа как бы всплываю вверх до тех пор, пока выше них не окажется еще\n",
    "# более крупное число\n",
    "if b > a: \n",
    "    a,b = b,a\n",
    "    \n",
    "if c > b:\n",
    "    b,c = c,b\n",
    "    if b > a:\n",
    "        a,b = b,a\n",
    "\n",
    "if d > c:\n",
    "    c,d = d,c\n",
    "    if c > b:\n",
    "        b,c = c,b\n",
    "        if b > a:\n",
    "            a,b = b,a\n",
    "            \n",
    "if e > d:\n",
    "    e,d = d,e\n",
    "    if d > c:\n",
    "        c,d = d,c\n",
    "        if c > b:\n",
    "            b,c = c,b\n",
    "            if b > a:\n",
    "                a,b = b,a\n",
    "                \n",
    "print(f'Максимум = {a}, минимум = {d}')"
   ]
  },
  {
   "cell_type": "markdown",
   "metadata": {},
   "source": [
    "## Циклы"
   ]
  },
  {
   "cell_type": "code",
   "execution_count": 52,
   "metadata": {},
   "outputs": [
    {
     "name": "stdout",
     "output_type": "stream",
     "text": [
      "-4 5\n",
      "-4 * 5 = -20\n"
     ]
    }
   ],
   "source": [
    "# 1\n",
    "a, b = map(int, input().split())\n",
    "result = 0\n",
    "for i in range(abs(b)):\n",
    "    result += abs(a)\n",
    "if (a > 0 and b < 0) or (a < 0 and b > 0):\n",
    "    result = -result\n",
    "print(f'{a} * {b} = {result}')"
   ]
  },
  {
   "cell_type": "code",
   "execution_count": 53,
   "metadata": {},
   "outputs": [
    {
     "name": "stdout",
     "output_type": "stream",
     "text": [
      "5\n",
      "1 2 3 4 5 "
     ]
    }
   ],
   "source": [
    "# 2\n",
    "n = int(input())\n",
    "for i in range(n):\n",
    "    print(i+1, end=' ')"
   ]
  },
  {
   "cell_type": "code",
   "execution_count": 57,
   "metadata": {},
   "outputs": [
    {
     "name": "stdout",
     "output_type": "stream",
     "text": [
      "5 10\n",
      "5 * 5 = 25\n",
      "6 * 6 = 36\n",
      "7 * 7 = 49\n",
      "8 * 8 = 64\n",
      "9 * 9 = 81\n",
      "10 * 10 = 100\n"
     ]
    }
   ],
   "source": [
    "# 3\n",
    "a, b = map(int, input().split())\n",
    "for i in range(a, b+1):\n",
    "    print(f'{i} * {i} = {i**2}')"
   ]
  },
  {
   "cell_type": "code",
   "execution_count": 62,
   "metadata": {
    "scrolled": true
   },
   "outputs": [
    {
     "name": "stdout",
     "output_type": "stream",
     "text": [
      "108919 126741 144563 162385 180207 198029 215851 233673 251495 269317 287139 304961 322783 340605 358427 376249 394071 411893 429715 447537 465359 483181 501003 518825 536647 554469 572291 590113 607935 625757 643579 661401 679223 697045 714867 732689 750511 768333 786155 803977 821799 839621 857443 875265 893087 910909 928731 946553 964375 982197 "
     ]
    }
   ],
   "source": [
    "# 4\n",
    "for number in range(10**5, 10**6):\n",
    "    if number % 133 == 125 and number % 134 == 111:\n",
    "        print(number, end = ' ')"
   ]
  },
  {
   "cell_type": "code",
   "execution_count": 66,
   "metadata": {},
   "outputs": [
    {
     "name": "stdout",
     "output_type": "stream",
     "text": [
      "164 170\n",
      "167 "
     ]
    }
   ],
   "source": [
    "# 5\n",
    "a, b = map(int, input().split())\n",
    "for number in range(a, b+1):\n",
    "    is_prime = True\n",
    "    for potential_divisor in range(2, int(number**0.5)+2):\n",
    "        if number % potential_divisor == 0:\n",
    "            is_prime = False\n",
    "            break\n",
    "    if is_prime:\n",
    "        print(number, end=' ')"
   ]
  },
  {
   "cell_type": "code",
   "execution_count": 7,
   "metadata": {},
   "outputs": [
    {
     "name": "stdout",
     "output_type": "stream",
     "text": [
      "25\n",
      "1 2 3 4 5 6 7 8 9 11 12 15 22 24 "
     ]
    }
   ],
   "source": [
    "# 6\n",
    "n = int(input())\n",
    "for number in range(1, n+1):\n",
    "    condition_is_met = True\n",
    "    digits = str(number)\n",
    "    temp = number\n",
    "    while temp > 0:\n",
    "        digit = temp%10\n",
    "        temp //=10\n",
    "        if digit == 0 or number % digit != 0:\n",
    "            condition_is_met = False\n",
    "    if condition_is_met:\n",
    "        print(number, end = ' ')"
   ]
  },
  {
   "cell_type": "code",
   "execution_count": 77,
   "metadata": {},
   "outputs": [
    {
     "name": "stdout",
     "output_type": "stream",
     "text": [
      "21 14\n",
      "7\n"
     ]
    }
   ],
   "source": [
    "# 7\n",
    "a, b = map(int, input().split())\n",
    "while a != 0 and b != 0:\n",
    "    if a > b: \n",
    "        a -= b\n",
    "    else:\n",
    "        b -= a\n",
    "print(a+b)"
   ]
  },
  {
   "cell_type": "code",
   "execution_count": 78,
   "metadata": {},
   "outputs": [
    {
     "name": "stdout",
     "output_type": "stream",
     "text": [
      "21 14\n",
      "7\n"
     ]
    }
   ],
   "source": [
    "# 8\n",
    "a, b = map(int, input().split())\n",
    "while a != 0 and b != 0:\n",
    "    if a > b: \n",
    "        a %= b\n",
    "    else:\n",
    "        b %= a\n",
    "print(a+b)"
   ]
  },
  {
   "cell_type": "code",
   "execution_count": 4,
   "metadata": {},
   "outputs": [
    {
     "name": "stdout",
     "output_type": "stream",
     "text": [
      "153 370 371 407 1634 8208 9474 "
     ]
    }
   ],
   "source": [
    "# 9\n",
    "for number in range(10**2, 10**4):\n",
    "    temp = number\n",
    "    number_of_digits = 0\n",
    "    while temp > 0:\n",
    "        temp //= 10\n",
    "        number_of_digits += 1\n",
    "        \n",
    "    temp = number \n",
    "    sum_digits = 0\n",
    "    while temp > 0:  \n",
    "        digit = temp % 10  \n",
    "        sum_digits += digit ** number_of_digits\n",
    "        temp //= 10  \n",
    "    if sum_digits == number:\n",
    "        print(number, end=' ')"
   ]
  },
  {
   "cell_type": "code",
   "execution_count": 6,
   "metadata": {},
   "outputs": [
    {
     "name": "stdout",
     "output_type": "stream",
     "text": [
      "1000\n",
      "1 5 6 25 76 376 625 "
     ]
    }
   ],
   "source": [
    "# 10\n",
    "n = int(input())\n",
    "for number in range(1, n+1):\n",
    "    number_of_digits = 0\n",
    "    temp = number\n",
    "    while temp > 0:\n",
    "        temp //= 10\n",
    "        number_of_digits += 1\n",
    "    if number**2 % 10**number_of_digits == number:\n",
    "        print(number, end=' ')"
   ]
  },
  {
   "cell_type": "markdown",
   "metadata": {},
   "source": [
    "## Процедуры"
   ]
  },
  {
   "cell_type": "code",
   "execution_count": 7,
   "metadata": {},
   "outputs": [
    {
     "name": "stdout",
     "output_type": "stream",
     "text": [
      "4\n",
      "3\n",
      "2\n",
      "1\n"
     ]
    }
   ],
   "source": [
    "# 1\n",
    "def digits(number):\n",
    "    while number: \n",
    "        print(number%10)\n",
    "        number //=10"
   ]
  },
  {
   "cell_type": "code",
   "execution_count": 14,
   "metadata": {
    "scrolled": false
   },
   "outputs": [
    {
     "name": "stdout",
     "output_type": "stream",
     "text": [
      "4\n",
      "2\n",
      "3\n"
     ]
    }
   ],
   "source": [
    "# 2\n",
    "def digits(number):\n",
    "    number_of_digits = 0\n",
    "    temp = number\n",
    "    while temp > 0:\n",
    "        temp //= 10\n",
    "        number_of_digits += 1      \n",
    "    while number: \n",
    "        number_of_digits -= 1\n",
    "        print(number // 10**(number_of_digits))\n",
    "        number %= 10**(number_of_digits)"
   ]
  },
  {
   "cell_type": "code",
   "execution_count": 17,
   "metadata": {},
   "outputs": [
    {
     "name": "stdout",
     "output_type": "stream",
     "text": [
      "1 2 4 5 10 20 25 50 100 "
     ]
    }
   ],
   "source": [
    "# 3\n",
    "def dividers(number):\n",
    "    for potential_divisor in range(1, number+1):\n",
    "        if number % potential_divisor == 0:\n",
    "            print(potential_divisor, end=' ')"
   ]
  },
  {
   "cell_type": "code",
   "execution_count": 18,
   "metadata": {},
   "outputs": [
    {
     "name": "stdout",
     "output_type": "stream",
     "text": [
      "-----"
     ]
    }
   ],
   "source": [
    "# 4\n",
    "def line(number):\n",
    "    for i in range(number):\n",
    "        print(end='-')\n"
   ]
  },
  {
   "cell_type": "code",
   "execution_count": 23,
   "metadata": {},
   "outputs": [
    {
     "name": "stdout",
     "output_type": "stream",
     "text": [
      "\n"
     ]
    }
   ],
   "source": [
    "# 5\n",
    "def square(number):\n",
    "    print(('*'*number+'\\n')*number)"
   ]
  },
  {
   "cell_type": "code",
   "execution_count": 26,
   "metadata": {},
   "outputs": [
    {
     "name": "stdout",
     "output_type": "stream",
     "text": [
      "104 года\n"
     ]
    }
   ],
   "source": [
    "# 6\n",
    "def print_years(years):\n",
    "    if 11 <= years%100 <= 14:\n",
    "        print(f'{years} лет')\n",
    "    elif 2 <= years%10 <= 4:\n",
    "        print(f'{years} года')\n",
    "    elif years%10 == 1:\n",
    "        print(f'{years} год')\n",
    "    else:\n",
    "        print(f'{years} лет')"
   ]
  },
  {
   "cell_type": "code",
   "execution_count": 28,
   "metadata": {},
   "outputs": [
    {
     "name": "stdout",
     "output_type": "stream",
     "text": [
      "0 1 1 2 3 5 8 13 21 34 "
     ]
    }
   ],
   "source": [
    "# 7\n",
    "\n",
    "# F0 = 0, F1 = 1, F2= 1, F3 = 2...\n",
    "def fib(n):\n",
    "    f_1 = 0\n",
    "    f_2 = 1\n",
    "    print(f_1, f_2, end=' ')\n",
    "    for i in range(2, n):\n",
    "        f_1, f_2 = f_2, f_1 + f_2\n",
    "        print(f_2, end=' ')\n",
    "fib(10)"
   ]
  },
  {
   "cell_type": "markdown",
   "metadata": {},
   "source": [
    "## Функции"
   ]
  },
  {
   "cell_type": "code",
   "execution_count": 33,
   "metadata": {},
   "outputs": [
    {
     "data": {
      "text/plain": [
       "7"
      ]
     },
     "execution_count": 33,
     "metadata": {},
     "output_type": "execute_result"
    }
   ],
   "source": [
    "# 1\n",
    "def sum_digits(number):\n",
    "    result = 0\n",
    "    while number:\n",
    "        result += number%10\n",
    "        number //= 10\n",
    "    return result"
   ]
  },
  {
   "cell_type": "code",
   "execution_count": 37,
   "metadata": {},
   "outputs": [
    {
     "data": {
      "text/plain": [
       "7"
      ]
     },
     "execution_count": 37,
     "metadata": {},
     "output_type": "execute_result"
    }
   ],
   "source": [
    "# 2\n",
    "def GCD(a, b):\n",
    "    while a != 0 and b != 0:\n",
    "        if a > b: \n",
    "            a %= b\n",
    "        else:\n",
    "            b %= a\n",
    "    return a+b"
   ]
  },
  {
   "cell_type": "code",
   "execution_count": 44,
   "metadata": {},
   "outputs": [
    {
     "name": "stdout",
     "output_type": "stream",
     "text": [
      "220 284\n",
      "1184 1210\n",
      "2620 2924\n",
      "5020 5564\n",
      "6232 6368\n"
     ]
    }
   ],
   "source": [
    "# 3\n",
    "\n",
    "# 220 и 284 (Пифагор, около 500 до н. э.)\n",
    "# 1184 и 1210 (Паганини, 1860)\n",
    "# 2620 и 2924 (Эйлер, 1747)\n",
    "# 5020 и 5564 (Эйлер, 1747)\n",
    "# 6232 и 6368 (Эйлер, 1750)\n",
    "\n",
    "\n",
    "\n",
    "def sum_of_divisors(number):\n",
    "    result = 0\n",
    "    for potential_divisor in range(1, number):\n",
    "        if number % potential_divisor == 0:\n",
    "            result += potential_divisor\n",
    "    return result\n",
    "\n",
    "# медленно находит дружественные числа\n",
    "for i in range(1, 10000):\n",
    "    for j in range(i+1, 10000):\n",
    "        if sum_of_divisors(i) == j and i == sum_of_divisors(j):\n",
    "            print(i, j)\n",
    "            \n",
    "# такая программа будет работать быстрее, так как мы запоминаем суммы делителей заранее         \n",
    "a = [sum_of_divisors(i) for i in range(10000)]\n",
    "for i in range(1, 10000):\n",
    "    for j in range(i+1, 10000):\n",
    "        if a[i] == j and i == a[j]:\n",
    "            print(i, j)"
   ]
  },
  {
   "cell_type": "code",
   "execution_count": 47,
   "metadata": {},
   "outputs": [],
   "source": [
    "# 4\n",
    "def is_prime(number):\n",
    "    for potential_divisor in range(2, int(number**0.5)+2):\n",
    "        if number % potential_divisor == 0:\n",
    "            return False\n",
    "    return True\n",
    "\n",
    "def hyperprime(number):\n",
    "    while number:\n",
    "        if not is_prime(number):\n",
    "            return False\n",
    "        number //= 10\n",
    "    return True"
   ]
  },
  {
   "cell_type": "markdown",
   "metadata": {},
   "source": [
    "## Массивы"
   ]
  },
  {
   "cell_type": "code",
   "execution_count": 49,
   "metadata": {},
   "outputs": [
    {
     "name": "stdout",
     "output_type": "stream",
     "text": [
      "1 2 10\n",
      "1 3 5 7 9 11 13 15 17 19\n"
     ]
    }
   ],
   "source": [
    "# 1\n",
    "first_element, difference, number_of_elements = map(int, input().split())\n",
    "a = [first_element + difference*i for i in range(number_of_elements)]\n",
    "print(*a)"
   ]
  },
  {
   "cell_type": "code",
   "execution_count": 50,
   "metadata": {},
   "outputs": [
    {
     "name": "stdout",
     "output_type": "stream",
     "text": [
      "10\n",
      "2 4 8 16 32 64 128 256 512 1024\n"
     ]
    }
   ],
   "source": [
    "# 2\n",
    "n = int(input())\n",
    "a = [pow(2, i) for i in range(1, n+1)]\n",
    "print(*a)"
   ]
  },
  {
   "cell_type": "code",
   "execution_count": 56,
   "metadata": {
    "scrolled": false
   },
   "outputs": [
    {
     "name": "stdout",
     "output_type": "stream",
     "text": [
      "0 1 1 2 3 5 8 13 21 34 55 89 144 233 377 610 987 1597 2584 4181 6765 10946 17711 28657 46368 75025 121393 196418 317811 514229 832040 1346269 2178309 3524578 5702887 9227465 14930352 24157817 39088169 63245986 102334155 165580141 267914296 433494437 701408733 1134903170 1836311903 2971215073 4807526976 7778742049 12586269025 20365011074 32951280099 53316291173 86267571272 139583862445 225851433717 365435296162 591286729879 956722026041 1548008755920 2504730781961 4052739537881 6557470319842 10610209857723 17167680177565 27777890035288 44945570212853 72723460248141 117669030460994 190392490709135 308061521170129 498454011879264 806515533049393 1304969544928657 2111485077978050 3416454622906707 5527939700884757 8944394323791464 14472334024676221 23416728348467685 37889062373143906 61305790721611591 99194853094755497 160500643816367088 259695496911122585 420196140727489673 679891637638612258 1100087778366101931 1779979416004714189 2880067194370816120 4660046610375530309 7540113804746346429 12200160415121876738 19740274219868223167 31940434634990099905 51680708854858323072 83621143489848422977 135301852344706746049 218922995834555169026\n"
     ]
    }
   ],
   "source": [
    "# 3\n",
    "a = [0, 1]\n",
    "for i in range(98):\n",
    "    a.append(a[-1] + a[-2]) \n",
    "print(*a)"
   ]
  },
  {
   "cell_type": "code",
   "execution_count": 61,
   "metadata": {},
   "outputs": [
    {
     "name": "stdout",
     "output_type": "stream",
     "text": [
      "10\n",
      "[3, 7, 8, 10, 4, 9, 1, 6, 5, 2]\n"
     ]
    }
   ],
   "source": [
    "# 4\n",
    "from random import shuffle\n",
    "n = int(input())\n",
    "a = [i for i in range(1, n+1)]\n",
    "shuffle(a)\n",
    "print(a)"
   ]
  },
  {
   "cell_type": "code",
   "execution_count": 65,
   "metadata": {},
   "outputs": [
    {
     "name": "stdout",
     "output_type": "stream",
     "text": [
      "100\n",
      "[5, 2, 3, 4, 1, 6, 7, 8, 9, 10, 11, 12, 13, 14, 15, 16, 17, 18, 19, 20, 21, 22, 23, 24, 25, 26, 27, 28, 29, 30, 31, 32, 33, 34, 35, 36, 37, 38, 39, 40, 41, 42, 43, 44, 45, 46, 47, 48, 49, 50, 51, 52, 53, 54, 55, 56, 57, 58, 59, 60, 61, 62, 63, 64, 65, 66, 67, 68, 69, 70, 71, 72, 73, 74, 75, 76, 77, 78, 79, 80, 81, 82, 83, 84, 85, 86, 87, 88, 89, 90, 91, 92, 93, 94, 95, 96, 97, 98, 99, 100]\n"
     ]
    }
   ],
   "source": [
    "# 5\n",
    "from random import shuffle\n",
    "n = int(input())\n",
    "a = [i for i in range(1, n+1)]\n",
    "a[4], a[0] = a[0], a[4]\n",
    "shuffle(a[1:])\n",
    "print(a)"
   ]
  },
  {
   "cell_type": "code",
   "execution_count": 70,
   "metadata": {},
   "outputs": [
    {
     "name": "stdout",
     "output_type": "stream",
     "text": [
      "Сумма нечетных элементов = 194; сумма четных элементов = 334\n"
     ]
    }
   ],
   "source": [
    "# 6\n",
    "from random import randint\n",
    "a = [randint(20, 100) for i in range(10)]\n",
    "even = sum([elem for elem in a if elem %2 == 0])\n",
    "odd = sum(a) - even\n",
    "print(f'Сумма нечетных элементов = {even}; сумма четных элементов = {odd}')"
   ]
  },
  {
   "cell_type": "code",
   "execution_count": 79,
   "metadata": {},
   "outputs": [
    {
     "name": "stdout",
     "output_type": "stream",
     "text": [
      "7\n"
     ]
    }
   ],
   "source": [
    "# 7\n",
    "from random import randint\n",
    "a = [randint(1000, 2000) for i in range(10)]\n",
    "result = 0\n",
    "for elem in a: \n",
    "    result += 1 if (elem%100//10) % 2 == 0 else 0\n",
    "print(result)"
   ]
  },
  {
   "cell_type": "code",
   "execution_count": 80,
   "metadata": {},
   "outputs": [
    {
     "name": "stdout",
     "output_type": "stream",
     "text": [
      "Среднее значение всех элементов <50: 21.833333333333332\n",
      "Среднее значение всех элементов >=50: 65.25\n"
     ]
    }
   ],
   "source": [
    "# 8\n",
    "a = [randint(0, 100) for i in range(10)]\n",
    "a.sort()\n",
    "\n",
    "sum_first = 0\n",
    "quantity_first = 0\n",
    "sum_second = 0\n",
    "quantity_second = 0\n",
    "for elem in a:\n",
    "    if elem < 50:\n",
    "        sum_first += elem\n",
    "        quantity_first += 1\n",
    "    else:\n",
    "        sum_second += elem\n",
    "        quantity_second += 1\n",
    "print(f'Среднее значение всех элементов <50: {sum_first/quantity_first}')\n",
    "print(f'Среднее значение всех элементов >=50: {sum_second/quantity_second}')"
   ]
  },
  {
   "cell_type": "markdown",
   "metadata": {},
   "source": [
    "## Алгоритмы в массивах"
   ]
  },
  {
   "cell_type": "code",
   "execution_count": 90,
   "metadata": {},
   "outputs": [
    {
     "name": "stdout",
     "output_type": "stream",
     "text": [
      "3 11 7 9 2\n",
      "Максимальный четный положительный 2\n",
      "Минимальный четный положительный 2\n"
     ]
    }
   ],
   "source": [
    "# 1\n",
    "\n",
    "a = list(map(int, input().split()))\n",
    "max_pos = 0\n",
    "min_pos = a[0]\n",
    "for elem in a:\n",
    "    if elem > 0 and elem % 2 == 0:\n",
    "        if max_pos < elem: max_pos = elem\n",
    "        if min_pos > elem: min_pos = elem    \n",
    "            \n",
    "if max_pos == 0:\n",
    "    print('Нет четных положительных')\n",
    "else:\n",
    "    print(f'Максимальный четный положительный {max_pos}')\n",
    "    print(f'Минимальный четный положительный {min_pos}')"
   ]
  },
  {
   "cell_type": "code",
   "execution_count": 93,
   "metadata": {},
   "outputs": [
    {
     "name": "stdout",
     "output_type": "stream",
     "text": [
      "2 3 3 3 3 3\n",
      "Количество элементов, имеющих максимальное значение: 5\n"
     ]
    }
   ],
   "source": [
    "# 2\n",
    "\n",
    "a = list(map(int, input().split()))\n",
    "max_count = 1\n",
    "max_elem = a[0]\n",
    "for elem in a:\n",
    "    if elem > max_elem:\n",
    "        max_elem = elem\n",
    "        max_count = 1\n",
    "    elif elem == max_elem:\n",
    "        max_count += 1\n",
    "print(f'Количество элементов, имеющих максимальное значение: {max_count}')"
   ]
  },
  {
   "cell_type": "code",
   "execution_count": 104,
   "metadata": {},
   "outputs": [
    {
     "name": "stdout",
     "output_type": "stream",
     "text": [
      "1 8 7 3 5 6 7 8 1 1 1 1 0\n",
      "0 1 3\n"
     ]
    }
   ],
   "source": [
    "# 3 \n",
    "a = list(map(int, input().split()))\n",
    "minimums = []\n",
    "for elem in a:      \n",
    "    if elem not in minimums:\n",
    "        if len(minimums) < 3: \n",
    "            minimums.append(elem)\n",
    "            \n",
    "            if len(minimums) == 3:  # один раз упорядочим массив минимумов\n",
    "                if minimums[1] < minimums[0]:\n",
    "                    minimums[1],minimums[0] = minimums[0], minimums[1]\n",
    "                if minimums[2] < minimums[1]:\n",
    "                    minimums[2],minimums[1] = minimums[1], minimums[2]\n",
    "                if minimums[1] < minimums[0]:\n",
    "                    minimums[1],minimums[0] = minimums[0], minimums[1]\n",
    "                    \n",
    "        # сохраняем упорядоченность минимумов засчет постановки элемента в нужное место\n",
    "        elif elem < minimums[0]:\n",
    "            minimums.insert(0, elem)\n",
    "            minimums.pop()\n",
    "        elif elem < minimums[1]:\n",
    "            minimums.insert(1, elem)\n",
    "            minimums.pop()\n",
    "        elif elem < minimums[2]:\n",
    "            minimums[2] = elem\n",
    "print(*minimums)\n",
    "        "
   ]
  },
  {
   "cell_type": "code",
   "execution_count": 108,
   "metadata": {},
   "outputs": [
    {
     "name": "stdout",
     "output_type": "stream",
     "text": [
      "3\n",
      "26\n"
     ]
    }
   ],
   "source": [
    "# 4\n",
    "\n",
    "from random import randint\n",
    "a = [randint(0, 4) for i in range(100)]\n",
    "x = int(input())\n",
    "print(a.count(x))"
   ]
  },
  {
   "cell_type": "code",
   "execution_count": 110,
   "metadata": {},
   "outputs": [
    {
     "name": "stdout",
     "output_type": "stream",
     "text": [
      "57 65 71 61 2 79 4 62 100 32\n",
      "32 57 65 71 61 2 79 4 62 100\n"
     ]
    }
   ],
   "source": [
    "# 5\n",
    "\n",
    "from random import randint\n",
    "a = [randint(0, 100) for i in range(10)]\n",
    "print(*a)\n",
    "a = [a[-1]] + a[0:len(a)-1]\n",
    "print(*a)"
   ]
  },
  {
   "cell_type": "code",
   "execution_count": 119,
   "metadata": {},
   "outputs": [
    {
     "name": "stdout",
     "output_type": "stream",
     "text": [
      "92 65 36 22 89 92 54 87 95 41\n",
      "89 22 36 65 92 41 95 87 54 92\n"
     ]
    }
   ],
   "source": [
    "# 6\n",
    "\n",
    "from random import randint\n",
    "a = [randint(10, 99) for i in range(10)]\n",
    "print(*a)\n",
    "a = a[len(a)//2-1::-1] + a[:len(a)//2-1:-1]\n",
    "print(*a)"
   ]
  },
  {
   "cell_type": "code",
   "execution_count": 138,
   "metadata": {},
   "outputs": [
    {
     "name": "stdout",
     "output_type": "stream",
     "text": [
      "3 5\n",
      "77 59 92 78 24 83 91 62 54 26\n",
      "83 24 78\n",
      "77 59 92 83 24 78 91 62 54 26\n"
     ]
    }
   ],
   "source": [
    "# 7\n",
    "\n",
    "from random import randint\n",
    "a = [randint(10, 99) for i in range(10)]\n",
    "k, m = map(int, input().split())\n",
    "print(*a)\n",
    "print(*a[m:k-1:-1])\n",
    "a = a[:k] + a[k:m+1][::-1] + a[m+1:]\n",
    "print(*a)"
   ]
  },
  {
   "cell_type": "code",
   "execution_count": 139,
   "metadata": {},
   "outputs": [
    {
     "name": "stdout",
     "output_type": "stream",
     "text": [
      "10 15 64 81 59 32 87 76 84 35\n",
      "87 76 84 35 10 15 64 81 59 32\n"
     ]
    }
   ],
   "source": [
    "# 8\n",
    "a = list(map(int, input().split()))\n",
    "for i in range(4):\n",
    "    a = [a[-1]] + a[0:len(a)-1]\n",
    "print(*a)"
   ]
  },
  {
   "cell_type": "code",
   "execution_count": 144,
   "metadata": {},
   "outputs": [
    {
     "name": "stdout",
     "output_type": "stream",
     "text": [
      "Массив: [74, 80, 56, 13, 75, 66, 19, 93, 62, 78]\n",
      "Простые элементы массива: [13, 19]\n"
     ]
    }
   ],
   "source": [
    "# 9\n",
    "def is_prime(number):\n",
    "    for potential_divisor in range(2, int(number**0.5)+2):\n",
    "        if number % potential_divisor == 0:\n",
    "            return False\n",
    "    return True\n",
    "\n",
    "a = list(map(int, input().split()))\n",
    "b = [elem for elem in a if is_prime(elem)]\n",
    "print(f'Простые элементы массива: {b}')"
   ]
  },
  {
   "cell_type": "markdown",
   "metadata": {},
   "source": [
    "## Сортировки, двоичный поиск, матрицы"
   ]
  },
  {
   "cell_type": "code",
   "execution_count": 147,
   "metadata": {},
   "outputs": [
    {
     "name": "stdout",
     "output_type": "stream",
     "text": [
      "84 80 53 90 62 87 45 11 53 37\n",
      "11 37 45 53 53 62 80 84 87 90\n"
     ]
    }
   ],
   "source": [
    "# 1\n",
    "def stone_sort(a, condition = lambda a,b: a > b):\n",
    "    for i in range(len(a)):\n",
    "        for j in range(i+1,len(a)):\n",
    "            if condition(a[i], a[j]):\n",
    "                a[i], a[j] = a[j], a[i]\n",
    "    return a\n",
    "\n",
    "\n",
    "a = list(map(int, input().split()))\n",
    "print(*stone_sort(a))"
   ]
  },
  {
   "cell_type": "code",
   "execution_count": 151,
   "metadata": {},
   "outputs": [
    {
     "name": "stdout",
     "output_type": "stream",
     "text": [
      "92 53 24 25 48 86 22 95 92 19\n",
      "86 95 48 92 92 19 53 25 24 22\n"
     ]
    }
   ],
   "source": [
    "# 2\n",
    "def stone_sort(a, condition = lambda a,b: a > b):\n",
    "    for i in range(len(a)):\n",
    "        for j in range(i+1,len(a)):\n",
    "            if condition(a[i], a[j]):\n",
    "                a[i], a[j] = a[j], a[i]\n",
    "    return a\n",
    "\n",
    "def count_digits_sum(number):\n",
    "    result = 0\n",
    "    while number:\n",
    "        result += number%10\n",
    "        number //= 10\n",
    "    return result\n",
    "\n",
    "def condition(first, second):\n",
    "    return count_digits_sum(first) < count_digits_sum(second)\n",
    "\n",
    "a = list(map(int, input().split()))\n",
    "print(*stone_sort(a, condition))"
   ]
  },
  {
   "cell_type": "code",
   "execution_count": 154,
   "metadata": {},
   "outputs": [
    {
     "name": "stdout",
     "output_type": "stream",
     "text": [
      "80 17 10 93 57 73 36 86 20 19\n",
      "10 17 57 80 93 86 73 36 20 19\n"
     ]
    }
   ],
   "source": [
    "# 3\n",
    "def stone_sort(a, condition = lambda a,b: a > b):\n",
    "    for i in range(len(a)):\n",
    "        for j in range(i+1,len(a)):\n",
    "            if condition(a[i], a[j]):\n",
    "                a[i], a[j] = a[j], a[i]\n",
    "    return a\n",
    "\n",
    "a = list(map(int, input().split()))\n",
    "a = stone_sort(a[:len(a)//2]) + stone_sort(a[len(a)//2:], lambda a,b: a < b)\n",
    "print(*a)\n"
   ]
  },
  {
   "cell_type": "code",
   "execution_count": 156,
   "metadata": {},
   "outputs": [
    {
     "name": "stdout",
     "output_type": "stream",
     "text": [
      "Введите массив:\n",
      "1 2 3 4 5 6 7 8 9 0 2 3 1 8\n",
      "Введите число:\n",
      "3\n",
      "Отсортированный массив: [9, 8, 8, 7, 6, 5, 4, 3, 3, 2, 2, 1, 1, 0]\n",
      "a[7] == 3\n",
      "a[8] == 3\n",
      "Элементов в массиве, равных 3: 2\n"
     ]
    }
   ],
   "source": [
    "# 4\n",
    "def stone_sort(a, condition = lambda a,b: a > b):\n",
    "    for i in range(len(a)):\n",
    "        for j in range(i+1,len(a)):\n",
    "            if condition(a[i], a[j]):\n",
    "                a[i], a[j] = a[j], a[i]\n",
    "    return a\n",
    "\n",
    "print('Введите массив:')\n",
    "a = list(map(int, input().split()))\n",
    "print('Введите число:')\n",
    "x = int(input())\n",
    "\n",
    "a = stone_sort(a, lambda a,b: a < b)\n",
    "print(f'Отсортированный массив: {a}')\n",
    "counter = 0\n",
    "for index, elem in enumerate(a):\n",
    "    if elem == x:\n",
    "        print(f'a[{index}] == {x}')\n",
    "        counter += 1\n",
    "    elif elem < x:\n",
    "        break\n",
    "print(f'Элементов в массиве, равных {x}: {counter}')"
   ]
  },
  {
   "cell_type": "code",
   "execution_count": 172,
   "metadata": {},
   "outputs": [
    {
     "name": "stdout",
     "output_type": "stream",
     "text": [
      "5.567\n"
     ]
    }
   ],
   "source": [
    "# 5 \n",
    "from random import randint\n",
    "def binary_search(a, value):\n",
    "    steps = 1\n",
    "    a.sort()\n",
    "    mid = len(a) // 2\n",
    "    low = 0\n",
    "    high = len(a) - 1\n",
    "\n",
    "    while a[mid] != value and low <= high:\n",
    "        steps += 1\n",
    "        if value > a[mid]:\n",
    "            low = mid + 1\n",
    "        else:\n",
    "            high = mid - 1\n",
    "        mid = (low + high) // 2\n",
    "    return steps\n",
    "\n",
    "a = [randint(0, 100) for i in range(32)]\n",
    "\n",
    "result = 0\n",
    "for i in range(1000):\n",
    "    number = randint(0, 100)\n",
    "    result += binary_search(a, number)\n",
    "    \n",
    "# по факту сложность должна быть порядка log2(100) = 6.64\n",
    "\n",
    "# но определенная погрешность у нас безусловно будет (скорее всего сложность будет меньше), \n",
    "# хотя бы исходя из того, что мы берем изначально числа из правильного диапазона\n",
    "print(result / 1000)"
   ]
  },
  {
   "cell_type": "code",
   "execution_count": 180,
   "metadata": {},
   "outputs": [
    {
     "name": "stdout",
     "output_type": "stream",
     "text": [
      "38 79 43 46 51 \n",
      "76 57 59 16 66 \n",
      "12 94 13 65 87 \n",
      "88 58 87 87 17 \n",
      "45 14 57 14 97 \n",
      "Максимальный элемент массива равен 97 и находится на позиции (4, 4)\n",
      "Минимальный элемент массива равен 12 и находится на позиции (2, 0)\n"
     ]
    }
   ],
   "source": [
    "# 6\n",
    "from random import randint\n",
    "\n",
    "def print_matrix(matrix):\n",
    "    for string in matrix:\n",
    "        for elem in string:\n",
    "            print(elem, end=' ')\n",
    "        print()\n",
    "\n",
    "def generate_matrix(n = 5, m = 5):\n",
    "    a = []\n",
    "    for i in range(n):\n",
    "        a.append([])\n",
    "        for j in range(m):\n",
    "            a[i].append(randint(10, 99))\n",
    "    return a\n",
    "\n",
    "def read_matrix():\n",
    "    a = []\n",
    "    s = list(map(int, input().split()))\n",
    "    while s:\n",
    "        a.aapend(s)\n",
    "        s = list(map(int, input().split()))\n",
    "    return a\n",
    "    \n",
    "# можно сгенерировать матрицу    \n",
    "# a = generate_matrix()\n",
    "# print_matrix(a)\n",
    "\n",
    "# можно ввести с консоли\n",
    "a = read_matrix()\n",
    "\n",
    "max_elem, min_elem = a[0][0], a[0][0]\n",
    "max_index, min_index = (0, 0), (0, 0)\n",
    "for i, string in enumerate(a):\n",
    "    for j, elem in enumerate(string): \n",
    "        if max_elem < elem:\n",
    "            max_elem = elem\n",
    "            max_index = (i,j)\n",
    "        if min_elem > elem:\n",
    "            min_elem = elem\n",
    "            min_index = (i,j)\n",
    "            \n",
    "print(f'Максимальный элемент массива равен {max_elem} и находится на позиции {max_index}')\n",
    "print(f'Минимальный элемент массива равен {min_elem} и находится на позиции {min_index}')\n"
   ]
  },
  {
   "cell_type": "code",
   "execution_count": 188,
   "metadata": {},
   "outputs": [
    {
     "name": "stdout",
     "output_type": "stream",
     "text": [
      "19 33 58 82 69 \n",
      "49 96 73 79 55 \n",
      "80 70 91 38 93 \n",
      "24 77 18 43 21 \n",
      "75 52 50 62 33 \n",
      "\n",
      "80 70 91 38 93\n"
     ]
    }
   ],
   "source": [
    "# 7\n",
    "from random import randint\n",
    "\n",
    "def print_matrix(matrix):\n",
    "    for string in matrix:\n",
    "        for elem in string:\n",
    "            print(elem, end=' ')\n",
    "        print()\n",
    "\n",
    "def generate_matrix(n = 5, m = 5):\n",
    "    a = []\n",
    "    for i in range(n):\n",
    "        a.append([])\n",
    "        for j in range(m):\n",
    "            a[i].append(randint(10, 99))\n",
    "    return a\n",
    "\n",
    "def read_matrix():\n",
    "    a = []\n",
    "    s = list(map(int, input().split()))\n",
    "    while s:\n",
    "        a.aapend(s)\n",
    "        s = list(map(int, input().split()))\n",
    "    return a\n",
    "    \n",
    "# можно сгенерировать матрицу    \n",
    "matrix = generate_matrix()\n",
    "print_matrix(matrix)\n",
    "\n",
    "# можно ввести с консоли\n",
    "# matrix = read_matrix()\n",
    "\n",
    "string_max, string_max_index = 0, 0\n",
    "for i, string in enumerate(matrix):\n",
    "    string_sum = 0\n",
    "    for elem in string:\n",
    "        string_sum += elem\n",
    "    if string_sum > string_max:\n",
    "        string_max = string_sum\n",
    "        string_max_index = i\n",
    "print()\n",
    "print(*matrix[string_max_index])"
   ]
  },
  {
   "cell_type": "code",
   "execution_count": 192,
   "metadata": {},
   "outputs": [
    {
     "name": "stdout",
     "output_type": "stream",
     "text": [
      "29 66 40 50 29 \n",
      "45 69 95 38 22 \n",
      "14 63 22 83 55 \n",
      "49 36 48 30 91 \n",
      "67 11 13 26 45 \n",
      "\n",
      "29  0  0  0  0 \n",
      "45 69  0  0  0 \n",
      "14 63 22  0  0 \n",
      "49 36 48 30  0 \n",
      "67 11 13 26 45 \n"
     ]
    }
   ],
   "source": [
    "# 8\n",
    "from random import randint\n",
    "def print_matrix(matrix):\n",
    "    for string in matrix:\n",
    "        for elem in string:\n",
    "            print('{:2d}'.format(elem), end=' ')\n",
    "        print()\n",
    "\n",
    "def generate_matrix(n = 5, m = 5):\n",
    "    a = []\n",
    "    for i in range(n):\n",
    "        a.append([])\n",
    "        for j in range(m):\n",
    "            a[i].append(randint(10, 99))\n",
    "    return a\n",
    "            \n",
    "matrix = generate_matrix()\n",
    "print_matrix(matrix)\n",
    "\n",
    "print()\n",
    "for i in range(len(matrix)):\n",
    "    for j in range(len(matrix[i])):\n",
    "        if i < j:\n",
    "            matrix[i][j] = 0\n",
    "print_matrix(matrix)"
   ]
  },
  {
   "cell_type": "code",
   "execution_count": 198,
   "metadata": {},
   "outputs": [
    {
     "name": "stdout",
     "output_type": "stream",
     "text": [
      "29 14 57 55 46 \n",
      "62 23 76 15 79 \n",
      "10 43 88 37 65 \n",
      "28 96 76 74 50 \n",
      "65 28 81 80 95 \n",
      "\n",
      "0  0  0  0  46 \n",
      "0  0  0  15 79 \n",
      "0  0  88 37 65 \n",
      "0  96 76 74 50 \n",
      "65 28 81 80 95 \n"
     ]
    }
   ],
   "source": [
    "# 9\n",
    "from random import randint\n",
    "def print_matrix(matrix):\n",
    "    for string in matrix:\n",
    "        for elem in string:\n",
    "            print('{:<2d}'.format(elem), end=' ')\n",
    "        print()\n",
    "\n",
    "def generate_matrix(n = 5, m = 5):\n",
    "    a = []\n",
    "    for i in range(n):\n",
    "        a.append([])\n",
    "        for j in range(m):\n",
    "            a[i].append(randint(10, 99))\n",
    "    return a\n",
    "            \n",
    "matrix = generate_matrix()\n",
    "print_matrix(matrix)\n",
    "\n",
    "print()\n",
    "for i in range(len(matrix)):\n",
    "    for j in range(len(matrix[i])):\n",
    "        if i + j < len(matrix) - 1:\n",
    "            matrix[i][j] = 0\n",
    "print_matrix(matrix)"
   ]
  },
  {
   "cell_type": "code",
   "execution_count": 201,
   "metadata": {},
   "outputs": [
    {
     "name": "stdout",
     "output_type": "stream",
     "text": [
      "23 61 84 95 99 \n",
      "78 43 30 38 49 \n",
      "98 71 63 82 53 \n",
      "41 45 36 92 37 \n",
      "37 85 55 90 80 \n",
      "\n",
      "23 78 98 41 37 \n",
      "61 43 71 45 85 \n",
      "84 30 63 36 55 \n",
      "95 38 82 92 90 \n",
      "99 49 53 37 80 \n"
     ]
    }
   ],
   "source": [
    "# 10\n",
    "from random import randint\n",
    "def print_matrix(matrix):\n",
    "    for string in matrix:\n",
    "        for elem in string:\n",
    "            print('{:<2d}'.format(elem), end=' ')\n",
    "        print()\n",
    "\n",
    "def generate_matrix(n = 5, m = 5):\n",
    "    a = []\n",
    "    for i in range(n):\n",
    "        a.append([])\n",
    "        for j in range(m):\n",
    "            a[i].append(randint(10, 99))\n",
    "    return a\n",
    " \n",
    "def transposition(matrix):\n",
    "    result = []\n",
    "    for i in range(len(matrix)):\n",
    "        result.append([0 for i in range(len(matrix))])\n",
    "            \n",
    "    for i in range(len(matrix)):\n",
    "        for j in range(len(matrix)):\n",
    "            result[j][i] = matrix[i][j]\n",
    "    return result\n",
    "    \n",
    "matrix = generate_matrix()\n",
    "print_matrix(matrix)\n",
    "print()\n",
    "\n",
    "matrix = transposition(matrix)\n",
    "print_matrix(matrix)\n",
    "\n"
   ]
  },
  {
   "cell_type": "markdown",
   "metadata": {},
   "source": [
    "## Символьные строки"
   ]
  },
  {
   "cell_type": "code",
   "execution_count": 203,
   "metadata": {},
   "outputs": [
    {
     "name": "stdout",
     "output_type": "stream",
     "text": [
      "абсАБС\n",
      "басБАС\n"
     ]
    }
   ],
   "source": [
    "# 1\n",
    "s = input()\n",
    "result = ''\n",
    "for elem in s:\n",
    "    if elem == 'а': result += 'б'\n",
    "    elif elem == 'б':result += 'а'\n",
    "    elif elem == 'А':result += 'Б'\n",
    "    elif elem == 'Б':result += 'А'\n",
    "    else: result += elem\n",
    "print(result)"
   ]
  },
  {
   "cell_type": "code",
   "execution_count": 208,
   "metadata": {},
   "outputs": [
    {
     "name": "stdout",
     "output_type": "stream",
     "text": [
      "1яаркакрая\n",
      "Не палиндром\n"
     ]
    }
   ],
   "source": [
    "# 2\n",
    "s = input()\n",
    "def is_palindrom(s):\n",
    "    for i in range(len(s)):\n",
    "        if s[i] != s[len(s)-1-i]:\n",
    "            return False\n",
    "    return True\n",
    "'''\n",
    "Для проверки:\n",
    "1) арозаупаланалапуазора - да\n",
    "2) казак - да\n",
    "3) яаркакрая - да\n",
    "''' \n",
    "\n",
    "print('Палиндром' if is_palindrom(s) else 'Не палиндром')"
   ]
  },
  {
   "cell_type": "code",
   "execution_count": 210,
   "metadata": {},
   "outputs": [
    {
     "name": "stdout",
     "output_type": "stream",
     "text": [
      "Иванов Петр Семенович\n",
      "П.С. Иванов\n"
     ]
    }
   ],
   "source": [
    "# 3\n",
    "surname, name, patronymic = input().split()\n",
    "print(f'{name[0]}.{patronymic[0]}. {surname}')"
   ]
  },
  {
   "cell_type": "code",
   "execution_count": 4,
   "metadata": {
    "scrolled": true
   },
   "outputs": [
    {
     "name": "stdout",
     "output_type": "stream",
     "text": [
      "2\n",
      "Количество слов: 989\n",
      "аб ав аг ад аж аз ай ак ал ам ан ап ар ас ат аф ах ац ач аш ащ аъ аь ба бб бв бг бд бе бё бж бз би бй бк бл бм бн бо бп бр бс бт бу бф бх бц бч бш бщ бъ бы бь бэ бю бя ва вб вв вг вд ве вё вж вз ви вй вк вл вм вн во вп вр вс вт ву вф вх вц вч вш вщ въ вы вь вэ вю вя га гб гв гг гд ге гё гж гз ги гй гк гл гм гн го гп гр гс гт гу гф гх гц гч гш гщ гъ гы гь гэ гю гя да дб дв дг дд де дё дж дз ди дй дк дл дм дн до дп др дс дт ду дф дх дц дч дш дщ дъ ды дь дэ дю дя еб ев ег ед еж ез ей ек ел ем ен еп ер ес ет еф ех ец еч еш ещ еъ еь ёб ёв ёг ёд ёж ёз ёй ёк ёл ём ён ёп ёр ёс ёт ёф ёх ёц ёч ёш ёщ ёъ ёь жа жб жв жг жд же жё жж жз жи жй жк жл жм жн жо жп жр жс жт жу жф жх жц жч жш жщ жъ жы жь жэ жю жя за зб зв зг зд зе зё зж зз зи зй зк зл зм зн зо зп зр зс зт зу зф зх зц зч зш зщ зъ зы зь зэ зю зя иб ив иг ид иж из ий ик ил им ин ип ир ис ит иф их иц ич иш ищ иъ иь йа йб йв йг йд йе йё йж йз йи йй йк йл йм йн йо йп йр йс йт йу йф йх йц йч йш йщ йъ йы йь йэ йю йя ка кб кв кг кд ке кё кж кз ки кй кк кл км кн ко кп кр кс кт ку кф кх кц кч кш кщ къ кы кь кэ кю кя ла лб лв лг лд ле лё лж лз ли лй лк лл лм лн ло лп лр лс лт лу лф лх лц лч лш лщ лъ лы ль лэ лю ля ма мб мв мг мд ме мё мж мз ми мй мк мл мм мн мо мп мр мс мт му мф мх мц мч мш мщ мъ мы мь мэ мю мя на нб нв нг нд не нё нж нз ни нй нк нл нм нн но нп нр нс нт ну нф нх нц нч нш нщ нъ ны нь нэ ню ня об ов ог од ож оз ой ок ол ом он оп ор ос от оф ох оц оч ош ощ оъ оь па пб пв пг пд пе пё пж пз пи пй пк пл пм пн по пп пр пс пт пу пф пх пц пч пш пщ пъ пы пь пэ пю пя ра рб рв рг рд ре рё рж рз ри рй рк рл рм рн ро рп рр рс рт ру рф рх рц рч рш рщ ръ ры рь рэ рю ря са сб св сг сд се сё сж сз си сй ск сл см сн со сп ср сс ст су сф сх сц сч сш сщ съ сы сь сэ сю ся та тб тв тг тд те тё тж тз ти тй тк тл тм тн то тп тр тс тт ту тф тх тц тч тш тщ тъ ты ть тэ тю тя уб ув уг уд уж уз уй ук ул ум ун уп ур ус ут уф ух уц уч уш ущ уъ уь фа фб фв фг фд фе фё фж фз фи фй фк фл фм фн фо фп фр фс фт фу фф фх фц фч фш фщ фъ фы фь фэ фю фя ха хб хв хг хд хе хё хж хз хи хй хк хл хм хн хо хп хр хс хт ху хф хх хц хч хш хщ хъ хы хь хэ хю хя ца цб цв цг цд це цё цж цз ци цй цк цл цм цн цо цп цр цс цт цу цф цх цц цч цш цщ цъ цы ць цэ цю ця ча чб чв чг чд че чё чж чз чи чй чк чл чм чн чо чп чр чс чт чу чф чх чц чч чш чщ чъ чы чь чэ чю чя ша шб шв шг шд ше шё шж шз ши шй шк шл шм шн шо шп шр шс шт шу шф шх шц шч шш шщ шъ шы шь шэ шю шя ща щб щв щг щд ще щё щж щз щи щй щк щл щм щн що щп щр щс щт щу щф щх щц щч щш щщ щъ щы щь щэ щю щя ъа ъб ъв ъг ъд ъе ъё ъж ъз ъи ъй ък ъл ъм ън ъо ъп ър ъс ът ъу ъф ъх ъц ъч ъш ъщ ъъ ъы ъь ъэ ъю ъя ыб ыв ыг ыд ыж ыз ый ык ыл ым ын ып ыр ыс ыт ыф ых ыц ыч ыш ыщ ыъ ыь ьа ьб ьв ьг ьд ье ьё ьж ьз ьи ьй ьк ьл ьм ьн ьо ьп ьр ьс ьт ьу ьф ьх ьц ьч ьш ьщ ьъ ьы ьь ьэ ью ья эб эв эг эд эж эз эй эк эл эм эн эп эр эс эт эф эх эц эч эш эщ эъ эь юб юв юг юд юж юз юй юк юл юм юн юп юр юс ют юф юх юц юч юш ющ юъ юь яб яв яг яд яж яз яй як ял ям ян яп яр яс ят яф ях яц яч яш ящ яъ яь\n"
     ]
    }
   ],
   "source": [
    "# 4\n",
    "import itertools\n",
    "\n",
    "def condition(string):\n",
    "    vowel = 'ауоиэыяюеё'\n",
    "    for i in range(1, len(string)): \n",
    "        if (string[i] in  vowel) and (string[i-1]  in  vowel):\n",
    "            return False\n",
    "    return True\n",
    "\n",
    "k = int(input())\n",
    "alphabet = 'абвгдеёжзийклмнопрстуфхцчшщъыьэюя'\n",
    "words = [elem for elem in list(map(''.join, itertools.product(alphabet, repeat=k))) if condition(elem)]\n",
    "print(f'Количество слов: {len(words)}')\n",
    "print(*words)"
   ]
  },
  {
   "cell_type": "markdown",
   "metadata": {},
   "source": [
    "## Работа с файлами"
   ]
  },
  {
   "cell_type": "code",
   "execution_count": 9,
   "metadata": {},
   "outputs": [],
   "source": [
    "# 1\n",
    "from random import randint\n",
    "\n",
    "# подготовка исходного файла, если нужно\n",
    "def generate_file():\n",
    "    f = open('1.1.txt', 'w')\n",
    "    a = [randint(0, 100) for i in range(10)]\n",
    "    print(*a, sep='\\n', end='', file = f)\n",
    "    f.close()\n",
    "\n",
    "# generate_file()\n",
    "f = open('1.1.txt', 'r')\n",
    "result = open('1.1-result.txt', 'w')\n",
    "sum_numbers = 0\n",
    "count_numbers = 0\n",
    "for line in f: \n",
    "    sum_numbers += int(line)\n",
    "    count_numbers += 1\n",
    "print(sum_numbers / count_numbers, file=result)\n",
    "\n",
    "f.close()\n",
    "result.close()"
   ]
  },
  {
   "cell_type": "code",
   "execution_count": 12,
   "metadata": {},
   "outputs": [],
   "source": [
    "# 2\n",
    "from random import randint\n",
    "\n",
    "# подготовка исходного файла, если нужно\n",
    "def generate_file():\n",
    "    f = open('1.2.txt', 'w')\n",
    "    a = [randint(0, 100) for i in range(10)]\n",
    "    print(*a, sep='\\n', end='', file = f)\n",
    "    f.close()\n",
    "    \n",
    "def stone_sort(a, condition = lambda a,b: a%10 > b%10):\n",
    "    for i in range(len(a)):\n",
    "        for j in range(i+1,len(a)):\n",
    "            if condition(a[i], a[j]):\n",
    "                a[i], a[j] = a[j], a[i]\n",
    "    return a\n",
    "\n",
    "# generate_file()\n",
    "f = open('1.2.txt', 'r')\n",
    "result = open('1.2-result.txt', 'w')\n",
    "\n",
    "a = []\n",
    "for line in f: \n",
    "    a.append(int(line))\n",
    "print(*stone_sort(a),sep='\\n', end='', file = result)\n",
    "\n",
    "f.close()\n",
    "result.close()"
   ]
  },
  {
   "cell_type": "code",
   "execution_count": 13,
   "metadata": {},
   "outputs": [],
   "source": [
    "# 3\n",
    "f = open('1.3.txt', 'r')\n",
    "result = open('1.3-result.txt', 'w')\n",
    "\n",
    "s = f.read()\n",
    "print(s.replace(', короче,', ''), file = result)\n",
    "\n",
    "f.close()\n",
    "result.close()"
   ]
  },
  {
   "cell_type": "code",
   "execution_count": 14,
   "metadata": {},
   "outputs": [],
   "source": [
    "# 4\n"
   ]
  },
  {
   "cell_type": "code",
   "execution_count": 15,
   "metadata": {},
   "outputs": [],
   "source": [
    "# 5\n",
    "f = open('1.5.txt', 'r')\n",
    "result = open('1.5-result.txt', 'w')\n",
    "\n",
    "count = 0\n",
    "for line in f:\n",
    "    count += 1\n",
    "    surname, name, points = line.split()\n",
    "    print(f'{count}) {name[0]}. {surname}', file = result)\n",
    "\n",
    "f.close()\n",
    "result.close()"
   ]
  },
  {
   "cell_type": "code",
   "execution_count": 2,
   "metadata": {},
   "outputs": [
    {
     "name": "stdout",
     "output_type": "stream",
     "text": [
      "[[0, 0, 0, 0, 0], [0, 0, 0, 0, 0], [0, 0, 0, 0, 0], [0, 0, 0, 0, 0], [0, 0, 0, 0, 0]]\n"
     ]
    }
   ],
   "source": [
    "M, N = 5, 5\n",
    "A=[[0]*M for i in range (N)]\n",
    "print(A)"
   ]
  },
  {
   "cell_type": "code",
   "execution_count": null,
   "metadata": {},
   "outputs": [],
   "source": []
  }
 ],
 "metadata": {
  "kernelspec": {
   "display_name": "Python 3",
   "language": "python",
   "name": "python3"
  },
  "language_info": {
   "codemirror_mode": {
    "name": "ipython",
    "version": 3
   },
   "file_extension": ".py",
   "mimetype": "text/x-python",
   "name": "python",
   "nbconvert_exporter": "python",
   "pygments_lexer": "ipython3",
   "version": "3.8.5"
  }
 },
 "nbformat": 4,
 "nbformat_minor": 4
}
